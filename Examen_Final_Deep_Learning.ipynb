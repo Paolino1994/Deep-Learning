{
  "nbformat": 4,
  "nbformat_minor": 0,
  "metadata": {
    "colab": {
      "provenance": [],
      "collapsed_sections": [],
      "authorship_tag": "ABX9TyOFszcSzf2FG++f69ThwcDP",
      "include_colab_link": true
    },
    "kernelspec": {
      "name": "python3",
      "display_name": "Python 3"
    },
    "language_info": {
      "name": "python"
    },
    "accelerator": "GPU"
  },
  "cells": [
    {
      "cell_type": "markdown",
      "metadata": {
        "id": "view-in-github",
        "colab_type": "text"
      },
      "source": [
        "<a href=\"https://colab.research.google.com/github/Paolino1994/Deep-Learning/blob/main/Examen_Final_Deep_Learning.ipynb\" target=\"_parent\"><img src=\"https://colab.research.google.com/assets/colab-badge.svg\" alt=\"Open In Colab\"/></a>"
      ]
    },
    {
      "cell_type": "code",
      "execution_count": 2,
      "metadata": {
        "id": "U-2MfN8KV_YU"
      },
      "outputs": [],
      "source": [
        "import torch\n",
        "import torchvision\n",
        "import numpy as np\n",
        "import random\n",
        "import matplotlib.pyplot as plt\n",
        "import pickle\n",
        "from torch.utils.data import DataLoader, TensorDataset, Dataset\n",
        "from torch import Tensor\n",
        "import pandas as pd\n",
        "from sklearn.model_selection import train_test_split\n",
        "import torch.nn as nn\n",
        "import torch.nn.functional as F\n",
        "from tqdm import tqdm\n",
        "from sklearn.linear_model import LogisticRegression\n",
        "from sklearn.linear_model import LinearRegression\n",
        "from sklearn.experimental import enable_iterative_imputer\n",
        "from sklearn.impute import IterativeImputer\n",
        "from sklearn.preprocessing import StandardScaler"
      ]
    },
    {
      "cell_type": "code",
      "source": [
        "from google.colab import drive\n",
        "drive.mount('/content/drive')"
      ],
      "metadata": {
        "colab": {
          "base_uri": "https://localhost:8080/"
        },
        "id": "mmseh32SsLJk",
        "outputId": "05de8639-88fa-4758-ffb0-b5a771a28efe"
      },
      "execution_count": 3,
      "outputs": [
        {
          "output_type": "stream",
          "name": "stdout",
          "text": [
            "Mounted at /content/drive\n"
          ]
        }
      ]
    },
    {
      "cell_type": "code",
      "source": [
        "device = \"cuda\" if torch.cuda.is_available() else \"cpu\""
      ],
      "metadata": {
        "id": "uCOhA5oAWFvY"
      },
      "execution_count": 4,
      "outputs": []
    },
    {
      "cell_type": "code",
      "source": [
        "device"
      ],
      "metadata": {
        "colab": {
          "base_uri": "https://localhost:8080/",
          "height": 35
        },
        "id": "G6Bb_bVLWe_v",
        "outputId": "958f86b3-380b-45d7-a339-c36bb4251902"
      },
      "execution_count": 5,
      "outputs": [
        {
          "output_type": "execute_result",
          "data": {
            "text/plain": [
              "'cuda'"
            ],
            "application/vnd.google.colaboratory.intrinsic+json": {
              "type": "string"
            }
          },
          "metadata": {},
          "execution_count": 5
        }
      ]
    },
    {
      "cell_type": "markdown",
      "source": [
        "# Punto 1\n",
        "Descargar el dataset desde el siguiente link. Entrenar el modelo propuesto a continuación de este enunciado. El modelo está haciendo underfitting, overfitting o un fit correcto. ¿Por qué? Explicar el procedimiento realizado.\n"
      ],
      "metadata": {
        "id": "2naEz2L2Wp3I"
      }
    },
    {
      "cell_type": "code",
      "source": [
        "ds=pd.read_csv(\"drive/MyDrive/dataset_1.csv\")\n",
        "ds = ds.rename(columns = {'# X':\"X\", \"Y\":\"y\"})"
      ],
      "metadata": {
        "id": "2_Sz0XlrWUoC"
      },
      "execution_count": 6,
      "outputs": []
    },
    {
      "cell_type": "code",
      "source": [
        "ds.head()"
      ],
      "metadata": {
        "colab": {
          "base_uri": "https://localhost:8080/",
          "height": 206
        },
        "id": "CqRDbscaWcGT",
        "outputId": "a57c2e2f-f685-4c82-a5f7-ebe314282c17"
      },
      "execution_count": 7,
      "outputs": [
        {
          "output_type": "execute_result",
          "data": {
            "text/plain": [
              "          X         y\n",
              "0  1.791979  4.952906\n",
              "1  0.846885  1.424248\n",
              "2  1.000300  0.454364\n",
              "3  1.884188  6.681510\n",
              "4  0.889089  1.211691"
            ],
            "text/html": [
              "\n",
              "  <div id=\"df-430f300d-23b7-4433-84a1-d942018728db\">\n",
              "    <div class=\"colab-df-container\">\n",
              "      <div>\n",
              "<style scoped>\n",
              "    .dataframe tbody tr th:only-of-type {\n",
              "        vertical-align: middle;\n",
              "    }\n",
              "\n",
              "    .dataframe tbody tr th {\n",
              "        vertical-align: top;\n",
              "    }\n",
              "\n",
              "    .dataframe thead th {\n",
              "        text-align: right;\n",
              "    }\n",
              "</style>\n",
              "<table border=\"1\" class=\"dataframe\">\n",
              "  <thead>\n",
              "    <tr style=\"text-align: right;\">\n",
              "      <th></th>\n",
              "      <th>X</th>\n",
              "      <th>y</th>\n",
              "    </tr>\n",
              "  </thead>\n",
              "  <tbody>\n",
              "    <tr>\n",
              "      <th>0</th>\n",
              "      <td>1.791979</td>\n",
              "      <td>4.952906</td>\n",
              "    </tr>\n",
              "    <tr>\n",
              "      <th>1</th>\n",
              "      <td>0.846885</td>\n",
              "      <td>1.424248</td>\n",
              "    </tr>\n",
              "    <tr>\n",
              "      <th>2</th>\n",
              "      <td>1.000300</td>\n",
              "      <td>0.454364</td>\n",
              "    </tr>\n",
              "    <tr>\n",
              "      <th>3</th>\n",
              "      <td>1.884188</td>\n",
              "      <td>6.681510</td>\n",
              "    </tr>\n",
              "    <tr>\n",
              "      <th>4</th>\n",
              "      <td>0.889089</td>\n",
              "      <td>1.211691</td>\n",
              "    </tr>\n",
              "  </tbody>\n",
              "</table>\n",
              "</div>\n",
              "      <button class=\"colab-df-convert\" onclick=\"convertToInteractive('df-430f300d-23b7-4433-84a1-d942018728db')\"\n",
              "              title=\"Convert this dataframe to an interactive table.\"\n",
              "              style=\"display:none;\">\n",
              "        \n",
              "  <svg xmlns=\"http://www.w3.org/2000/svg\" height=\"24px\"viewBox=\"0 0 24 24\"\n",
              "       width=\"24px\">\n",
              "    <path d=\"M0 0h24v24H0V0z\" fill=\"none\"/>\n",
              "    <path d=\"M18.56 5.44l.94 2.06.94-2.06 2.06-.94-2.06-.94-.94-2.06-.94 2.06-2.06.94zm-11 1L8.5 8.5l.94-2.06 2.06-.94-2.06-.94L8.5 2.5l-.94 2.06-2.06.94zm10 10l.94 2.06.94-2.06 2.06-.94-2.06-.94-.94-2.06-.94 2.06-2.06.94z\"/><path d=\"M17.41 7.96l-1.37-1.37c-.4-.4-.92-.59-1.43-.59-.52 0-1.04.2-1.43.59L10.3 9.45l-7.72 7.72c-.78.78-.78 2.05 0 2.83L4 21.41c.39.39.9.59 1.41.59.51 0 1.02-.2 1.41-.59l7.78-7.78 2.81-2.81c.8-.78.8-2.07 0-2.86zM5.41 20L4 18.59l7.72-7.72 1.47 1.35L5.41 20z\"/>\n",
              "  </svg>\n",
              "      </button>\n",
              "      \n",
              "  <style>\n",
              "    .colab-df-container {\n",
              "      display:flex;\n",
              "      flex-wrap:wrap;\n",
              "      gap: 12px;\n",
              "    }\n",
              "\n",
              "    .colab-df-convert {\n",
              "      background-color: #E8F0FE;\n",
              "      border: none;\n",
              "      border-radius: 50%;\n",
              "      cursor: pointer;\n",
              "      display: none;\n",
              "      fill: #1967D2;\n",
              "      height: 32px;\n",
              "      padding: 0 0 0 0;\n",
              "      width: 32px;\n",
              "    }\n",
              "\n",
              "    .colab-df-convert:hover {\n",
              "      background-color: #E2EBFA;\n",
              "      box-shadow: 0px 1px 2px rgba(60, 64, 67, 0.3), 0px 1px 3px 1px rgba(60, 64, 67, 0.15);\n",
              "      fill: #174EA6;\n",
              "    }\n",
              "\n",
              "    [theme=dark] .colab-df-convert {\n",
              "      background-color: #3B4455;\n",
              "      fill: #D2E3FC;\n",
              "    }\n",
              "\n",
              "    [theme=dark] .colab-df-convert:hover {\n",
              "      background-color: #434B5C;\n",
              "      box-shadow: 0px 1px 3px 1px rgba(0, 0, 0, 0.15);\n",
              "      filter: drop-shadow(0px 1px 2px rgba(0, 0, 0, 0.3));\n",
              "      fill: #FFFFFF;\n",
              "    }\n",
              "  </style>\n",
              "\n",
              "      <script>\n",
              "        const buttonEl =\n",
              "          document.querySelector('#df-430f300d-23b7-4433-84a1-d942018728db button.colab-df-convert');\n",
              "        buttonEl.style.display =\n",
              "          google.colab.kernel.accessAllowed ? 'block' : 'none';\n",
              "\n",
              "        async function convertToInteractive(key) {\n",
              "          const element = document.querySelector('#df-430f300d-23b7-4433-84a1-d942018728db');\n",
              "          const dataTable =\n",
              "            await google.colab.kernel.invokeFunction('convertToInteractive',\n",
              "                                                     [key], {});\n",
              "          if (!dataTable) return;\n",
              "\n",
              "          const docLinkHtml = 'Like what you see? Visit the ' +\n",
              "            '<a target=\"_blank\" href=https://colab.research.google.com/notebooks/data_table.ipynb>data table notebook</a>'\n",
              "            + ' to learn more about interactive tables.';\n",
              "          element.innerHTML = '';\n",
              "          dataTable['output_type'] = 'display_data';\n",
              "          await google.colab.output.renderOutput(dataTable, element);\n",
              "          const docLink = document.createElement('div');\n",
              "          docLink.innerHTML = docLinkHtml;\n",
              "          element.appendChild(docLink);\n",
              "        }\n",
              "      </script>\n",
              "    </div>\n",
              "  </div>\n",
              "  "
            ]
          },
          "metadata": {},
          "execution_count": 7
        }
      ]
    },
    {
      "cell_type": "code",
      "source": [
        "X = ds[[\"X\"]]\n",
        "Y = ds[[\"y\"]]"
      ],
      "metadata": {
        "id": "-mOQzmvPWiIa"
      },
      "execution_count": 8,
      "outputs": []
    },
    {
      "cell_type": "code",
      "source": [
        "random_state=65"
      ],
      "metadata": {
        "id": "KBn7RuanXQMD"
      },
      "execution_count": 9,
      "outputs": []
    },
    {
      "cell_type": "code",
      "source": [
        "X_train, X_test, Y_train, Y_test = train_test_split(X, Y, train_size=0.70, random_state=random_state)\n",
        "X_train=np.array(X_train).flatten()\n",
        "X_test=np.array(X_test).flatten()\n",
        "Y_train=np.array(Y_train).flatten()\n",
        "Y_test=np.array(Y_test).flatten()"
      ],
      "metadata": {
        "id": "Xa2-i2yyXGza"
      },
      "execution_count": 10,
      "outputs": []
    },
    {
      "cell_type": "code",
      "source": [
        "learningRate=0.0001\n",
        "epochs=300\n",
        "w1=0\n",
        "w2=0\n",
        "bias=0\n",
        "errorList=[]\n",
        "validErrorList=[]"
      ],
      "metadata": {
        "id": "z3OQcGipYhFs"
      },
      "execution_count": 11,
      "outputs": []
    },
    {
      "cell_type": "code",
      "source": [
        "for epoch in range(epochs):\n",
        "  currentError=0\n",
        "  epochError=0\n",
        "  for element in range(len(X_train)):\n",
        "    x=X_train[element]\n",
        "    y=Y_train[element]\n",
        "    #Forward\n",
        "    x1, x2, x3 = x, x**2, x**3\n",
        "    pred=w1*x3 + w2*x2 + w1*x1 + bias\n",
        "    error = y - pred\n",
        "    #print(x,y,x1, x2, x3,w1,w2)\n",
        "    epochError = epochError+error**2\n",
        "    \n",
        "\n",
        "    \n",
        "    \n",
        "    #Back\n",
        "    d_prediction = - 2 * error\n",
        "    w1_loss = (d_prediction * (x3 + x1)).sum(axis=0)\n",
        "    w2_loss = (d_prediction * x2).sum(axis=0)\n",
        "    bias_loss = d_prediction.sum(axis=0)\n",
        "\n",
        "    \n",
        "\n",
        "    #Weight\n",
        "    w1 -= learningRate * w1_loss \n",
        "    w2 -= learningRate * w2_loss \n",
        "    bias -= learningRate * bias_loss \n",
        "\n",
        "  #Validation\n",
        "  validError=0\n",
        "  for element in range(len(X_test)):\n",
        "    xT=X_test[element]\n",
        "    yT=Y_test[element]\n",
        "    x1, x2, x3 = xT, xT**2, xT**3\n",
        "    pred=w1*x3 + w2*x2 + w1*x1 + bias\n",
        "    error = yT - pred\n",
        "    validError = validError+error**2\n",
        "\n",
        "  validErrorList.append(validError/len(X_test))\n",
        "  errorList.append(epochError/len(X_train))\n",
        "  print(f\"Epoch {epoch} error {errorList[-1]} valid error {validErrorList[-1]}\")\n",
        "\n",
        "\n",
        "    \n"
      ],
      "metadata": {
        "colab": {
          "base_uri": "https://localhost:8080/"
        },
        "id": "WPQlJC7DYfiX",
        "outputId": "af6443fc-d777-450b-fd94-3a1b41e22b05"
      },
      "execution_count": 12,
      "outputs": [
        {
          "output_type": "stream",
          "name": "stdout",
          "text": [
            "Epoch 0 error 0.771982807541607 valid error 0.5964488313947218\n",
            "Epoch 1 error 0.5856022942119175 valid error 0.5768729532367709\n",
            "Epoch 2 error 0.5744097557550619 valid error 0.5699397914961648\n",
            "Epoch 3 error 0.5701628353622279 valid error 0.566743310852872\n",
            "Epoch 4 error 0.5679095499761186 valid error 0.5647082354155423\n",
            "Epoch 5 error 0.5662521758534642 valid error 0.5630713134830193\n",
            "Epoch 6 error 0.5647937533287362 valid error 0.5615966159589829\n",
            "Epoch 7 error 0.5634200296090396 valid error 0.5602061488865093\n",
            "Epoch 8 error 0.562097104291428 valid error 0.5588714963523564\n",
            "Epoch 9 error 0.5608141771703455 valid error 0.5575809326101244\n",
            "Epoch 10 error 0.5595672309463476 valid error 0.556328885750394\n",
            "Epoch 11 error 0.558354318557226 valid error 0.5551122925356676\n",
            "Epoch 12 error 0.5571741698012919 valid error 0.5539292130027778\n",
            "Epoch 13 error 0.5560257627291212 valid error 0.5527782507746652\n",
            "Epoch 14 error 0.5549081833630377 valid error 0.5516582897484968\n",
            "Epoch 15 error 0.5538205756030734 valid error 0.55056836706234\n",
            "Epoch 16 error 0.5527621213282857 valid error 0.5495076092941611\n",
            "Epoch 17 error 0.5517320315474461 valid error 0.5484751995554532\n",
            "Epoch 18 error 0.5507295420100881 valid error 0.5474703601769757\n",
            "Epoch 19 error 0.5497539107891187 valid error 0.5464923434165133\n",
            "Epoch 20 error 0.5488044168001198 valid error 0.5455404263409276\n",
            "Epoch 21 error 0.5478803587898683 valid error 0.5446139078961246\n",
            "Epoch 22 error 0.546981054569681 valid error 0.5437121071303969\n",
            "Epoch 23 error 0.5461058403815341 valid error 0.5428343620297802\n",
            "Epoch 24 error 0.5452540703394981 valid error 0.5419800286812115\n",
            "Epoch 25 error 0.5444251159166904 valid error 0.5411484806141285\n",
            "Epoch 26 error 0.5436183654619264 valid error 0.5403391082417368\n",
            "Epoch 27 error 0.5428332237377745 valid error 0.5395513183604411\n",
            "Epoch 28 error 0.5420691114753877 valid error 0.5387845336854056\n",
            "Epoch 29 error 0.541325464943596 valid error 0.5380381924105158\n",
            "Epoch 30 error 0.5406017355307806 valid error 0.537311747786436\n",
            "Epoch 31 error 0.5398973893385977 valid error 0.5366046677132954\n",
            "Epoch 32 error 0.5392119067869628 valid error 0.5359164343460312\n",
            "Epoch 33 error 0.5385447822297602 valid error 0.5352465437112343\n",
            "Epoch 34 error 0.5378955235810202 valid error 0.5345945053347644\n",
            "Epoch 35 error 0.5372636519511056 valid error 0.5339598418795889\n",
            "Epoch 36 error 0.5366487012927418 valid error 0.5333420887934779\n",
            "Epoch 37 error 0.5360502180565114 valid error 0.5327407939662149\n",
            "Epoch 38 error 0.5354677608556331 valid error 0.532155517396048\n",
            "Epoch 39 error 0.5349009001397106 valid error 0.5315858308650787\n",
            "Epoch 40 error 0.5343492178772462 valid error 0.5310313176233938\n",
            "Epoch 41 error 0.5338123072466802 valid error 0.5304915720816616\n",
            "Epoch 42 error 0.5332897723357021 valid error 0.5299661995119737\n",
            "Epoch 43 error 0.5327812278486397 valid error 0.5294548157567179\n",
            "Epoch 44 error 0.5322862988216959 valid error 0.5289570469452419\n",
            "Epoch 45 error 0.5318046203458257 valid error 0.5284725292181465\n",
            "Epoch 46 error 0.5313358372970415 valid error 0.5280009084589268\n",
            "Epoch 47 error 0.5308796040739602 valid error 0.5275418400328628\n",
            "Epoch 48 error 0.5304355843423852 valid error 0.5270949885328664\n",
            "Epoch 49 error 0.5300034507867486 valid error 0.5266600275321787\n",
            "Epoch 50 error 0.5295828848682033 valid error 0.5262366393436652\n",
            "Epoch 51 error 0.5291735765892279 valid error 0.5258245147855978\n",
            "Epoch 52 error 0.5287752242645337 valid error 0.5254233529536987\n",
            "Epoch 53 error 0.5283875342981111 valid error 0.5250328609992936\n",
            "Epoch 54 error 0.5280102209662633 valid error 0.5246527539134341\n",
            "Epoch 55 error 0.5276430062064714 valid error 0.524282754316787\n",
            "Epoch 56 error 0.5272856194119097 valid error 0.5239225922551639\n",
            "Epoch 57 error 0.52693779723146 valid error 0.5235720050005518\n",
            "Epoch 58 error 0.5265992833751294 valid error 0.5232307368574426\n",
            "Epoch 59 error 0.5262698284246514 valid error 0.5228985389743865\n",
            "Epoch 60 error 0.5259491896491802 valid error 0.5225751691605922\n",
            "Epoch 61 error 0.5256371308259423 valid error 0.5222603917074331\n",
            "Epoch 62 error 0.5253334220656715 valid error 0.521953977214741\n",
            "Epoch 63 error 0.5250378396427519 valid error 0.5216557024217837\n",
            "Epoch 64 error 0.5247501658299004 valid error 0.5213653500427347\n",
            "Epoch 65 error 0.5244701887373019 valid error 0.5210827086065769\n",
            "Epoch 66 error 0.5241977021560336 valid error 0.5208075723013039\n",
            "Epoch 67 error 0.5239325054057162 valid error 0.5205397408222805\n",
            "Epoch 68 error 0.5236744031862338 valid error 0.5202790192246896\n",
            "Epoch 69 error 0.5234232054334347 valid error 0.5200252177799111\n",
            "Epoch 70 error 0.5231787271787123 valid error 0.5197781518357705\n",
            "Epoch 71 error 0.5229407884123427 valid error 0.5195376416805341\n",
            "Epoch 72 error 0.5227092139504973 valid error 0.519303512410537\n",
            "Epoch 73 error 0.5224838333057991 valid error 0.5190755938013678\n",
            "Epoch 74 error 0.5222644805613915 valid error 0.5188537201825163\n",
            "Epoch 75 error 0.5220509942483377 valid error 0.5186377303153609\n",
            "Epoch 76 error 0.5218432172263623 valid error 0.5184274672744457\n",
            "Epoch 77 error 0.5216409965677435 valid error 0.5182227783319299\n",
            "Epoch 78 error 0.5214441834443445 valid error 0.5180235148451444\n",
            "Epoch 79 error 0.5212526330176599 valid error 0.5178295321471525\n",
            "Epoch 80 error 0.52106620433184 valid error 0.5176406894402507\n",
            "Epoch 81 error 0.5208847602095552 valid error 0.5174568496923209\n",
            "Epoch 82 error 0.5207081671506686 valid error 0.5172778795359649\n",
            "Epoch 83 error 0.5205362952336171 valid error 0.5171036491703486\n",
            "Epoch 84 error 0.520369018019443 valid error 0.5169340322656552\n",
            "Epoch 85 error 0.5202062124584105 valid error 0.5167689058701237\n",
            "Epoch 86 error 0.5200477587991087 valid error 0.5166081503195752\n",
            "Epoch 87 error 0.5198935404999935 valid error 0.5164516491493477\n",
            "Epoch 88 error 0.519743444143325 valid error 0.516299289008619\n",
            "Epoch 89 error 0.5195973593513851 valid error 0.5161509595769945\n",
            "Epoch 90 error 0.5194551787049662 valid error 0.5160065534833559\n",
            "Epoch 91 error 0.5193167976640175 valid error 0.5158659662268805\n",
            "Epoch 92 error 0.5191821144904617 valid error 0.5157290961001629\n",
            "Epoch 93 error 0.5190510301730303 valid error 0.5155958441144189\n",
            "Epoch 94 error 0.5189234483541645 valid error 0.5154661139266824\n",
            "Epoch 95 error 0.518799275258845 valid error 0.5153398117689374\n",
            "Epoch 96 error 0.5186784196253421 valid error 0.5152168463791991\n",
            "Epoch 97 error 0.5185607926378136 valid error 0.5150971289343776\n",
            "Epoch 98 error 0.5184463078607402 valid error 0.5149805729849981\n",
            "Epoch 99 error 0.5183348811750664 valid error 0.5148670943916273\n",
            "Epoch 100 error 0.518226430716112 valid error 0.5147566112630395\n",
            "Epoch 101 error 0.5181208768131149 valid error 0.5146490438960065\n",
            "Epoch 102 error 0.5180181419303903 valid error 0.5145443147167339\n",
            "Epoch 103 error 0.5179181506101004 valid error 0.5144423482238434\n",
            "Epoch 104 error 0.5178208294165221 valid error 0.5143430709328827\n",
            "Epoch 105 error 0.5177261068818507 valid error 0.5142464113223455\n",
            "Epoch 106 error 0.5176339134533974 valid error 0.5141522997811141\n",
            "Epoch 107 error 0.5175441814422773 valid error 0.5140606685573185\n",
            "Epoch 108 error 0.5174568449734065 valid error 0.5139714517085757\n",
            "Epoch 109 error 0.5173718399368875 valid error 0.5138845850535455\n",
            "Epoch 110 error 0.5172891039406698 valid error 0.513800006124796\n",
            "Epoch 111 error 0.5172085762644995 valid error 0.5137176541229276\n",
            "Epoch 112 error 0.5171301978150783 valid error 0.5136374698719306\n",
            "Epoch 113 error 0.5170539110824643 valid error 0.5135593957757373\n",
            "Epoch 114 error 0.5169796600976121 valid error 0.5134833757759333\n",
            "Epoch 115 error 0.5169073903910404 valid error 0.5134093553106043\n",
            "Epoch 116 error 0.516837048952658 valid error 0.5133372812742969\n",
            "Epoch 117 error 0.5167685841926203 valid error 0.5132671019790356\n",
            "Epoch 118 error 0.5167019459032475 valid error 0.5131987671163918\n",
            "Epoch 119 error 0.5166370852219755 valid error 0.5131322277205672\n",
            "Epoch 120 error 0.5165739545952956 valid error 0.5130674361324787\n",
            "Epoch 121 error 0.5165125077436484 valid error 0.5130043459647771\n",
            "Epoch 122 error 0.5164526996272875 valid error 0.5129429120678398\n",
            "Epoch 123 error 0.5163944864130254 valid error 0.5128830904966405\n",
            "Epoch 124 error 0.5163378254418881 valid error 0.5128248384785281\n",
            "Epoch 125 error 0.5162826751976447 valid error 0.512768114381866\n",
            "Epoch 126 error 0.516228995276174 valid error 0.5127128776854971\n",
            "Epoch 127 error 0.5161767463556292 valid error 0.5126590889490509\n",
            "Epoch 128 error 0.5161258901674551 valid error 0.512606709784024\n",
            "Epoch 129 error 0.516076389468129 valid error 0.5125557028256436\n",
            "Epoch 130 error 0.5160282080116924 valid error 0.5125060317054941\n",
            "Epoch 131 error 0.5159813105230107 valid error 0.5124576610248549\n",
            "Epoch 132 error 0.51593566267174 valid error 0.5124105563287804\n",
            "Epoch 133 error 0.5158912310470132 valid error 0.5123646840808483\n",
            "Epoch 134 error 0.5158479831327767 valid error 0.5123200116386024\n",
            "Epoch 135 error 0.5158058872838261 valid error 0.5122765072296399\n",
            "Epoch 136 error 0.5157649127024363 valid error 0.5122341399283523\n",
            "Epoch 137 error 0.5157250294156744 valid error 0.5121928796332821\n",
            "Epoch 138 error 0.5156862082532546 valid error 0.5121526970450799\n",
            "Epoch 139 error 0.5156484208260688 valid error 0.5121135636450631\n",
            "Epoch 140 error 0.5156116395052022 valid error 0.5120754516743476\n",
            "Epoch 141 error 0.5155758374015997 valid error 0.5120383341135293\n",
            "Epoch 142 error 0.5155409883462014 valid error 0.5120021846629192\n",
            "Epoch 143 error 0.5155070668706574 valid error 0.5119669777233026\n",
            "Epoch 144 error 0.51547404818856 valid error 0.5119326883772128\n",
            "Epoch 145 error 0.5154419081771382 valid error 0.5118992923707155\n",
            "Epoch 146 error 0.5154106233594948 valid error 0.5118667660956678\n",
            "Epoch 147 error 0.515380170887293 valid error 0.5118350865724622\n",
            "Epoch 148 error 0.5153505285238944 valid error 0.5118042314332206\n",
            "Epoch 149 error 0.51532167462798 valid error 0.5117741789054647\n",
            "Epoch 150 error 0.5152935881375977 valid error 0.5117449077961856\n",
            "Epoch 151 error 0.5152662485546174 valid error 0.5117163974763727\n",
            "Epoch 152 error 0.5152396359296445 valid error 0.5116886278659387\n",
            "Epoch 153 error 0.5152137308472906 valid error 0.5116615794190578\n",
            "Epoch 154 error 0.5151885144118836 valid error 0.5116352331098888\n",
            "Epoch 155 error 0.5151639682335254 valid error 0.5116095704186816\n",
            "Epoch 156 error 0.51514007441455 valid error 0.5115845733182683\n",
            "Epoch 157 error 0.5151168155363207 valid error 0.5115602242608921\n",
            "Epoch 158 error 0.5150941746463994 valid error 0.5115365061654116\n",
            "Epoch 159 error 0.5150721352460615 valid error 0.5115134024048353\n",
            "Epoch 160 error 0.5150506812781261 valid error 0.5114908967941919\n",
            "Epoch 161 error 0.5150297971151256 valid error 0.5114689735787272\n",
            "Epoch 162 error 0.5150094675478095 valid error 0.5114476174224241\n",
            "Epoch 163 error 0.5149896777739068 valid error 0.5114268133967987\n",
            "Epoch 164 error 0.5149704133872515 valid error 0.5114065469700471\n",
            "Epoch 165 error 0.5149516603671468 valid error 0.5113868039964341\n",
            "Epoch 166 error 0.5149334050680578 valid error 0.5113675707059979\n",
            "Epoch 167 error 0.514915634209543 valid error 0.5113488336945136\n",
            "Epoch 168 error 0.5148983348664816 valid error 0.5113305799137328\n",
            "Epoch 169 error 0.514881494459544 valid error 0.511312796661887\n",
            "Epoch 170 error 0.5148651007459467 valid error 0.5112954715744255\n",
            "Epoch 171 error 0.5148491418104145 valid error 0.5112785926150318\n",
            "Epoch 172 error 0.5148336060564174 valid error 0.5112621480668652\n",
            "Epoch 173 error 0.5148184821976307 valid error 0.511246126524014\n",
            "Epoch 174 error 0.5148037592496291 valid error 0.5112305168832328\n",
            "Epoch 175 error 0.514789426521788 valid error 0.511215308335836\n",
            "Epoch 176 error 0.5147754736094189 valid error 0.5112004903598631\n",
            "Epoch 177 error 0.514761890386117 valid error 0.5111860527124181\n",
            "Epoch 178 error 0.5147486669962937 valid error 0.5111719854222261\n",
            "Epoch 179 error 0.5147357938479378 valid error 0.5111582787823972\n",
            "Epoch 180 error 0.5147232616055365 valid error 0.5111449233433685\n",
            "Epoch 181 error 0.5147110611832182 valid error 0.5111319099060412\n",
            "Epoch 182 error 0.5146991837380689 valid error 0.5111192295151078\n",
            "Epoch 183 error 0.5146876206636092 valid error 0.5111068734525489\n",
            "Epoch 184 error 0.5146763635834841 valid error 0.5110948332313082\n",
            "Epoch 185 error 0.514665404345276 valid error 0.5110831005891291\n",
            "Epoch 186 error 0.5146547350145206 valid error 0.511071667482577\n",
            "Epoch 187 error 0.514644347868869 valid error 0.5110605260811923\n",
            "Epoch 188 error 0.5146342353924088 valid error 0.5110496687618207\n",
            "Epoch 189 error 0.5146243902701292 valid error 0.5110390881030945\n",
            "Epoch 190 error 0.5146148053825429 valid error 0.5110287768800421\n",
            "Epoch 191 error 0.5146054738004548 valid error 0.51101872805887\n",
            "Epoch 192 error 0.5145963887798561 valid error 0.5110089347918567\n",
            "Epoch 193 error 0.5145875437569831 valid error 0.5109993904124082\n",
            "Epoch 194 error 0.5145789323434764 valid error 0.5109900884302258\n",
            "Epoch 195 error 0.514570548321682 valid error 0.5109810225266106\n",
            "Epoch 196 error 0.5145623856400965 valid error 0.5109721865499003\n",
            "Epoch 197 error 0.5145544384089009 valid error 0.5109635745110138\n",
            "Epoch 198 error 0.5145467008956447 valid error 0.5109551805791265\n",
            "Epoch 199 error 0.5145391675210241 valid error 0.5109469990774574\n",
            "Epoch 200 error 0.5145318328547881 valid error 0.5109390244791684\n",
            "Epoch 201 error 0.5145246916117422 valid error 0.5109312514033676\n",
            "Epoch 202 error 0.5145177386478751 valid error 0.510923674611235\n",
            "Epoch 203 error 0.5145109689565646 valid error 0.510916289002237\n",
            "Epoch 204 error 0.5145043776649103 valid error 0.5109090896104456\n",
            "Epoch 205 error 0.5144979600301566 valid error 0.5109020716009557\n",
            "Epoch 206 error 0.5144917114361943 valid error 0.5108952302664059\n",
            "Epoch 207 error 0.514485627390192 valid error 0.5108885610235842\n",
            "Epoch 208 error 0.5144797035192763 valid error 0.51088205941012\n",
            "Epoch 209 error 0.5144739355673326 valid error 0.5108757210812794\n",
            "Epoch 210 error 0.5144683193918781 valid error 0.5108695418068272\n",
            "Epoch 211 error 0.5144628509610231 valid error 0.5108635174679937\n",
            "Epoch 212 error 0.5144575263504982 valid error 0.5108576440545068\n",
            "Epoch 213 error 0.5144523417407942 valid error 0.5108519176617028\n",
            "Epoch 214 error 0.5144472934143414 valid error 0.510846334487732\n",
            "Epoch 215 error 0.5144423777528011 valid error 0.5108408908308154\n",
            "Epoch 216 error 0.5144375912343799 valid error 0.5108355830865883\n",
            "Epoch 217 error 0.5144329304312804 valid error 0.5108304077455194\n",
            "Epoch 218 error 0.5144283920071673 valid error 0.5108253613903798\n",
            "Epoch 219 error 0.5144239727147143 valid error 0.5108204406938052\n",
            "Epoch 220 error 0.5144196693932452 valid error 0.5108156424159024\n",
            "Epoch 221 error 0.5144154789663946 valid error 0.5108109634019172\n",
            "Epoch 222 error 0.5144113984398591 valid error 0.5108064005799985\n",
            "Epoch 223 error 0.5144074248992087 valid error 0.5108019509589713\n",
            "Epoch 224 error 0.5144035555077459 valid error 0.5107976116262133\n",
            "Epoch 225 error 0.5143997875044166 valid error 0.5107933797455636\n",
            "Epoch 226 error 0.5143961182018032 valid error 0.5107892525552935\n",
            "Epoch 227 error 0.5143925449841412 valid error 0.5107852273661353\n",
            "Epoch 228 error 0.5143890653054162 valid error 0.5107813015593614\n",
            "Epoch 229 error 0.5143856766874843 valid error 0.5107774725849039\n",
            "Epoch 230 error 0.5143823767182654 valid error 0.5107737379595431\n",
            "Epoch 231 error 0.5143791630499784 valid error 0.5107700952651356\n",
            "Epoch 232 error 0.514376033397414 valid error 0.5107665421468822\n",
            "Epoch 233 error 0.5143729855362704 valid error 0.5107630763116585\n",
            "Epoch 234 error 0.5143700173015139 valid error 0.5107596955263711\n",
            "Epoch 235 error 0.5143671265858055 valid error 0.5107563976163763\n",
            "Epoch 236 error 0.5143643113379459 valid error 0.5107531804639197\n",
            "Epoch 237 error 0.514361569561393 valid error 0.5107500420066453\n",
            "Epoch 238 error 0.5143588993127853 valid error 0.5107469802361102\n",
            "Epoch 239 error 0.5143562987005178 valid error 0.5107439931963765\n",
            "Epoch 240 error 0.5143537658833723 valid error 0.5107410789826055\n",
            "Epoch 241 error 0.514351299069166 valid error 0.5107382357397143\n",
            "Epoch 242 error 0.5143488965134264 valid error 0.5107354616610525\n",
            "Epoch 243 error 0.5143465565181392 valid error 0.5107327549871329\n",
            "Epoch 244 error 0.5143442774304955 valid error 0.5107301140043642\n",
            "Epoch 245 error 0.5143420576416767 valid error 0.5107275370438588\n",
            "Epoch 246 error 0.5143398955856893 valid error 0.5107250224802344\n",
            "Epoch 247 error 0.5143377897382228 valid error 0.5107225687304745\n",
            "Epoch 248 error 0.5143357386155196 valid error 0.5107201742528013\n",
            "Epoch 249 error 0.5143337407733103 valid error 0.5107178375455889\n",
            "Epoch 250 error 0.5143317948057512 valid error 0.5107155571463028\n",
            "Epoch 251 error 0.5143298993443849 valid error 0.5107133316304671\n",
            "Epoch 252 error 0.514328053057177 valid error 0.5107111596106584\n",
            "Epoch 253 error 0.514326254647498 valid error 0.5107090397355276\n",
            "Epoch 254 error 0.5143245028532059 valid error 0.5107069706888513\n",
            "Epoch 255 error 0.5143227964457289 valid error 0.510704951188596\n",
            "Epoch 256 error 0.5143211342291454 valid error 0.5107029799860262\n",
            "Epoch 257 error 0.5143195150393293 valid error 0.510701055864817\n",
            "Epoch 258 error 0.5143179377431029 valid error 0.5106991776402067\n",
            "Epoch 259 error 0.5143164012373982 valid error 0.5106973441581598\n",
            "Epoch 260 error 0.5143149044484632 valid error 0.5106955542945586\n",
            "Epoch 261 error 0.5143134463310698 valid error 0.5106938069544142\n",
            "Epoch 262 error 0.51431202586776 valid error 0.5106921010710967\n",
            "Epoch 263 error 0.5143106420681075 valid error 0.5106904356055926\n",
            "Epoch 264 error 0.5143092939679932 valid error 0.5106888095457792\n",
            "Epoch 265 error 0.5143079806288813 valid error 0.5106872219057023\n",
            "Epoch 266 error 0.5143067011371766 valid error 0.5106856717249062\n",
            "Epoch 267 error 0.5143054546035325 valid error 0.5106841580677501\n",
            "Epoch 268 error 0.5143042401622047 valid error 0.510682680022761\n",
            "Epoch 269 error 0.5143030569704281 valid error 0.5106812367019955\n",
            "Epoch 270 error 0.5143019042078081 valid error 0.5106798272404168\n",
            "Epoch 271 error 0.5143007810757152 valid error 0.5106784507953033\n",
            "Epoch 272 error 0.514299686796697 valid error 0.5106771065456521\n",
            "Epoch 273 error 0.5142986206139387 valid error 0.5106757936916164\n",
            "Epoch 274 error 0.514297581790682 valid error 0.510674511453938\n",
            "Epoch 275 error 0.5142965696097154 valid error 0.5106732590734198\n",
            "Epoch 276 error 0.5142955833728353 valid error 0.5106720358103931\n",
            "Epoch 277 error 0.514294622400353 valid error 0.5106708409441968\n",
            "Epoch 278 error 0.5142936860305888 valid error 0.5106696737726971\n",
            "Epoch 279 error 0.5142927736194012 valid error 0.5106685336117894\n",
            "Epoch 280 error 0.5142918845397142 valid error 0.510667419794923\n",
            "Epoch 281 error 0.5142910181810626 valid error 0.5106663316726487\n",
            "Epoch 282 error 0.5142901739491456 valid error 0.5106652686121599\n",
            "Epoch 283 error 0.5142893512654161 valid error 0.5106642299968787\n",
            "Epoch 284 error 0.5142885495666255 valid error 0.5106632152260032\n",
            "Epoch 285 error 0.5142877683044473 valid error 0.5106622237141096\n",
            "Epoch 286 error 0.5142870069450671 valid error 0.5106612548907489\n",
            "Epoch 287 error 0.5142862649687924 valid error 0.5106603082000539\n",
            "Epoch 288 error 0.5142855418696871 valid error 0.510659383100356\n",
            "Epoch 289 error 0.5142848371551919 valid error 0.5106584790638142\n",
            "Epoch 290 error 0.514284150345779 valid error 0.510657595576055\n",
            "Epoch 291 error 0.5142834809745991 valid error 0.5106567321358199\n",
            "Epoch 292 error 0.5142828285871481 valid error 0.5106558882546263\n",
            "Epoch 293 error 0.5142821927409312 valid error 0.510655063456424\n",
            "Epoch 294 error 0.51428157300515 valid error 0.5106542572772831\n",
            "Epoch 295 error 0.5142809689603849 valid error 0.5106534692650652\n",
            "Epoch 296 error 0.5142803801983069 valid error 0.5106526989791272\n",
            "Epoch 297 error 0.5142798063213574 valid error 0.5106519459900177\n",
            "Epoch 298 error 0.5142792469424841 valid error 0.5106512098791798\n",
            "Epoch 299 error 0.5142787016848543 valid error 0.5106504902386755\n"
          ]
        }
      ]
    },
    {
      "cell_type": "code",
      "source": [
        "plt.figure(figsize=(16,8))\n",
        "plt.plot(errorList, label='Train')\n",
        "plt.plot(validErrorList, label='Test')\n",
        "plt.xlabel(\"Epochs\")\n",
        "plt.ylabel(\"Training MSE\")\n",
        "plt.legend()\n",
        "plt.show()"
      ],
      "metadata": {
        "id": "Aunto_pvYAZV",
        "colab": {
          "base_uri": "https://localhost:8080/",
          "height": 497
        },
        "outputId": "9af32b64-92ee-4d1d-c709-81e230990b0e"
      },
      "execution_count": 13,
      "outputs": [
        {
          "output_type": "display_data",
          "data": {
            "text/plain": [
              "<Figure size 1152x576 with 1 Axes>"
            ],
            "image/png": "[encoded data removed]"
          },
          "metadata": {
            "needs_background": "light"
          }
        }
      ]
    },
    {
      "cell_type": "markdown",
      "source": [
        "En este caso estamos seguros que nuestro modelo no have overfitting ya que la loss de nustro test nunca vuelve a ascender, podemos revisar cuales son los resultados para comparar con nuestro Y original"
      ],
      "metadata": {
        "id": "ACDUSzaBiAup"
      }
    },
    {
      "cell_type": "code",
      "source": [
        "x1, x2, x3 = X_test, X_test**2, X_test**3\n",
        "predTest=w1*x3 + w2*x2 + w1*x1 + bias\n",
        "\n",
        "x1, x2, x3 = X_train, X_train**2, X_train**3\n",
        "predTrain=w1*x3 + w2*x2 + w1*x1 + bias"
      ],
      "metadata": {
        "id": "vXyIdAOHhmZj"
      },
      "execution_count": 14,
      "outputs": []
    },
    {
      "cell_type": "code",
      "source": [
        "plt.figure(figsize=(16,8))\n",
        "plt.scatter(X_test,predTest, label='Pred')\n",
        "plt.scatter(X_test,Y_test, label='Test')\n",
        "plt.xlabel(\"X\")\n",
        "plt.ylabel(\"Y\")\n",
        "plt.legend()\n",
        "plt.show()"
      ],
      "metadata": {
        "id": "Du5KRPTdib3v",
        "colab": {
          "base_uri": "https://localhost:8080/",
          "height": 497
        },
        "outputId": "d8570515-3f78-40be-e4c3-9cb1378d0bf6"
      },
      "execution_count": 15,
      "outputs": [
        {
          "output_type": "display_data",
          "data": {
            "text/plain": [
              "<Figure size 1152x576 with 1 Axes>"
            ],
            "image/png": "[encoded data removed]"
          },
          "metadata": {
            "needs_background": "light"
          }
        }
      ]
    },
    {
      "cell_type": "code",
      "source": [
        "plt.figure(figsize=(16,8))\n",
        "plt.scatter(X_train,predTrain, label='Pred')\n",
        "plt.scatter(X_train,Y_train, label='Train')\n",
        "plt.xlabel(\"X\")\n",
        "plt.ylabel(\"Y\")\n",
        "plt.legend()\n",
        "plt.show()"
      ],
      "metadata": {
        "id": "B4KgCedwi-Mz",
        "colab": {
          "base_uri": "https://localhost:8080/",
          "height": 497
        },
        "outputId": "22d76f65-634a-4ce5-cf99-9a4a05239735"
      },
      "execution_count": 16,
      "outputs": [
        {
          "output_type": "display_data",
          "data": {
            "text/plain": [
              "<Figure size 1152x576 with 1 Axes>"
            ],
            "image/png": "[encoded data removed]"
          },
          "metadata": {
            "needs_background": "light"
          }
        }
      ]
    },
    {
      "cell_type": "markdown",
      "source": [
        "### Si bien nuestro modelo sigue una forma similar a la data original, podemos decir que el modelo esta UNDERFITEADO ya que ni siquiera sobre el set de train podemos ver que fitee correctamente"
      ],
      "metadata": {
        "id": "aeC2My8rit_N"
      }
    },
    {
      "cell_type": "markdown",
      "source": [
        "# Punto 2\n",
        "Utilizando el mismo dataset que en el link anterior, diseñar una red neuronal que haga un overfitting sobre el dataset. ¿Cómo saben que la red neuronal está haciendo overfitting? Agregar regularización y encontrar los parámetros correctos para lograr un buen fit. Explicar el procedimiento realizado.\n"
      ],
      "metadata": {
        "id": "BcWLQWCbnHfq"
      }
    },
    {
      "cell_type": "code",
      "source": [
        "train_dataset_fulll = TensorDataset( Tensor(X_train), Tensor(Y_train) )\n",
        "test_dataset_fulll = TensorDataset( Tensor(X_test), Tensor(Y_test) )\n"
      ],
      "metadata": {
        "id": "GYf0tsZJnHfr"
      },
      "execution_count": 17,
      "outputs": []
    },
    {
      "cell_type": "code",
      "source": [
        "Y_train.shape"
      ],
      "metadata": {
        "colab": {
          "base_uri": "https://localhost:8080/"
        },
        "id": "iyNIk1PmZW9i",
        "outputId": "278da26b-e10e-41bb-80dd-74f32f4c8d7d"
      },
      "execution_count": 18,
      "outputs": [
        {
          "output_type": "execute_result",
          "data": {
            "text/plain": [
              "(7000,)"
            ]
          },
          "metadata": {},
          "execution_count": 18
        }
      ]
    },
    {
      "cell_type": "code",
      "source": [
        "dataloader = {\n",
        "    'train': torch.utils.data.DataLoader(train_dataset_fulll, batch_size=64, shuffle=True, pin_memory=True),\n",
        "    'test': torch.utils.data.DataLoader(test_dataset_fulll, batch_size=64, shuffle=False, pin_memory=True)\n",
        "}"
      ],
      "metadata": {
        "id": "EHbcTz6ZnHfs"
      },
      "execution_count": 19,
      "outputs": []
    },
    {
      "cell_type": "code",
      "source": [
        "train_loader = torch.utils.data.DataLoader(train_dataset_fulll, batch_size=64, shuffle=True, pin_memory=True)\n",
        "test_loader =  torch.utils.data.DataLoader(test_dataset_fulll, batch_size=64, shuffle=False, pin_memory=True)\n"
      ],
      "metadata": {
        "id": "KO8Q5AKfnHft"
      },
      "execution_count": 20,
      "outputs": []
    },
    {
      "cell_type": "code",
      "source": [
        "class Net(nn.Module):\n",
        "\n",
        "    def __init__(self):\n",
        "        super(Net, self).__init__()\n",
        "        self.fc1 = nn.Linear(1, 120)\n",
        "        self.fc2 = nn.Linear(120, 250)\n",
        "        self.fc3 = nn.Linear(250, 120)\n",
        "        self.fc4 = nn.Linear(120, 120) \n",
        "        self.fc5 = nn.Linear(120, 84)\n",
        "        self.fc6 = nn.Linear(84, 1)\n",
        "\n",
        "    def forward(self, x):\n",
        "        x = F.relu(self.fc1(x))\n",
        "        x = F.relu(self.fc2(x))\n",
        "        x = F.relu(self.fc3(x))\n",
        "        x = F.relu(self.fc4(x))\n",
        "        x = F.relu(self.fc5(x))\n",
        "        x = self.fc6(x)\n",
        "        return x\n",
        "\n",
        "\n",
        "\n"
      ],
      "metadata": {
        "id": "_v3oP_0RnHft"
      },
      "execution_count": 21,
      "outputs": []
    },
    {
      "cell_type": "code",
      "source": [],
      "metadata": {
        "id": "_uef8LNpefsc"
      },
      "execution_count": 21,
      "outputs": []
    },
    {
      "cell_type": "code",
      "source": [
        "net = Net()\n",
        "print(net)\n",
        "learning_rate=0.001"
      ],
      "metadata": {
        "colab": {
          "base_uri": "https://localhost:8080/"
        },
        "outputId": "2ec66caf-da33-4e5e-aaf9-79e0f9baa2ac",
        "id": "RCt6PtL4nHfu"
      },
      "execution_count": 22,
      "outputs": [
        {
          "output_type": "stream",
          "name": "stdout",
          "text": [
            "Net(\n",
            "  (fc1): Linear(in_features=1, out_features=120, bias=True)\n",
            "  (fc2): Linear(in_features=120, out_features=250, bias=True)\n",
            "  (fc3): Linear(in_features=250, out_features=120, bias=True)\n",
            "  (fc4): Linear(in_features=120, out_features=120, bias=True)\n",
            "  (fc5): Linear(in_features=120, out_features=84, bias=True)\n",
            "  (fc6): Linear(in_features=84, out_features=1, bias=True)\n",
            ")\n"
          ]
        }
      ]
    },
    {
      "cell_type": "markdown",
      "source": [
        "## NNet sin regularizaion"
      ],
      "metadata": {
        "id": "2Su9SVlJnHfu"
      }
    },
    {
      "cell_type": "code",
      "source": [
        "#optimizer=torch.optim.Adam(net.parameters(), lr=learning_rate,weight_decay=1e-5)\n",
        "optimizer=torch.optim.Adam(net.parameters(), lr=learning_rate)\n",
        "criterion=nn.MSELoss()"
      ],
      "metadata": {
        "id": "JsUUM0JonHfv"
      },
      "execution_count": 23,
      "outputs": []
    },
    {
      "cell_type": "code",
      "source": [
        "def early_stopping(train_loss, validation_loss, min_delta, tolerance):\n",
        "\n",
        "    counter = 0\n",
        "    if (validation_loss - train_loss) > min_delta:\n",
        "        counter +=1\n",
        "        if counter >= tolerance:\n",
        "          return True"
      ],
      "metadata": {
        "id": "8xnC3FOLnHfv"
      },
      "execution_count": 24,
      "outputs": []
    },
    {
      "cell_type": "code",
      "source": [
        "def fit(model, dataloader,criterion,optimizer, epochs=5):\n",
        "    model.to(device)\n",
        "    losses = []\n",
        "    val_losses = []\n",
        "    for epoch in range(1, epochs+1):\n",
        "        model.train()\n",
        "        train_loss, train_acc = [], []\n",
        "        bar = tqdm(dataloader['train'])\n",
        "        for batch in bar:\n",
        "            #print(X.size())\n",
        "            X, y = batch\n",
        "            #X = X.float()\n",
        "            X, y = X.to(device), y.to(device)\n",
        "\n",
        "            optimizer.zero_grad()\n",
        "            #y_hat = model(X)\n",
        "            y_hat = model(X.resize(X.size()[0],1))            \n",
        "            loss = criterion(y_hat, y.resize(y.size()[0],1))\n",
        "            loss.backward()\n",
        "            optimizer.step()\n",
        "            train_loss.append(loss.item())\n",
        "            ####\n",
        "        bar = tqdm(dataloader['test'])\n",
        "        val_loss, val_acc = [], []\n",
        "        model.eval()\n",
        "        with torch.no_grad():\n",
        "            for batch in bar:\n",
        "                X, y = batch\n",
        "                #X = X.float()\n",
        "                X, y = X.to(device), y.to(device)\n",
        "                #y_hat = model(X)\n",
        "                y_hat = model(X.resize(X.size()[0],1))\n",
        "                loss = criterion(y_hat, y.resize(y.size()[0],1))\n",
        "                val_loss.append(loss.item())\n",
        "         # early stopping\n",
        "        #if early_stopping(train_loss[-1], val_loss[-1], min_delta=10, tolerance = 20):\n",
        "        #  print(\"We are at epoch:\", epoch)\n",
        "        #  break\n",
        "        losses.append(np.mean(train_loss))\n",
        "        val_losses.append(np.mean(val_loss))\n",
        "        print(f\"Epoch {epoch}/{epochs} loss {np.mean(train_loss):.5f} val_loss {np.mean(val_loss):.5f}\")\n",
        "    return losses,val_losses"
      ],
      "metadata": {
        "id": "no12uHudnHfx"
      },
      "execution_count": 25,
      "outputs": []
    },
    {
      "cell_type": "code",
      "source": [
        "losses,val_losses=fit(net, dataloader ,criterion , optimizer, epochs=100)"
      ],
      "metadata": {
        "colab": {
          "base_uri": "https://localhost:8080/"
        },
        "outputId": "0ac7ba7d-d4e0-4696-db3a-38261de99428",
        "id": "UJwqCCP8nHfy"
      },
      "execution_count": 26,
      "outputs": [
        {
          "output_type": "stream",
          "name": "stderr",
          "text": [
            "\r  0%|          | 0/110 [00:00<?, ?it/s]/usr/local/lib/python3.7/dist-packages/torch/_tensor.py:586: UserWarning: non-inplace resize is deprecated\n",
            "  warnings.warn(\"non-inplace resize is deprecated\")\n",
            "100%|██████████| 110/110 [00:03<00:00, 29.35it/s]\n",
            "100%|██████████| 47/47 [00:00<00:00, 737.31it/s]\n"
          ]
        },
        {
          "output_type": "stream",
          "name": "stdout",
          "text": [
            "Epoch 1/100 loss 2.09048 val_loss 0.47810\n"
          ]
        },
        {
          "output_type": "stream",
          "name": "stderr",
          "text": [
            "100%|██████████| 110/110 [00:00<00:00, 199.96it/s]\n",
            "100%|██████████| 47/47 [00:00<00:00, 508.15it/s]\n"
          ]
        },
        {
          "output_type": "stream",
          "name": "stdout",
          "text": [
            "Epoch 2/100 loss 0.39967 val_loss 0.33590\n"
          ]
        },
        {
          "output_type": "stream",
          "name": "stderr",
          "text": [
            "100%|██████████| 110/110 [00:00<00:00, 193.42it/s]\n",
            "100%|██████████| 47/47 [00:00<00:00, 278.88it/s]\n"
          ]
        },
        {
          "output_type": "stream",
          "name": "stdout",
          "text": [
            "Epoch 3/100 loss 0.32217 val_loss 0.27855\n"
          ]
        },
        {
          "output_type": "stream",
          "name": "stderr",
          "text": [
            "100%|██████████| 110/110 [00:00<00:00, 165.16it/s]\n",
            "100%|██████████| 47/47 [00:00<00:00, 1173.48it/s]\n"
          ]
        },
        {
          "output_type": "stream",
          "name": "stdout",
          "text": [
            "Epoch 4/100 loss 0.26390 val_loss 0.39936\n"
          ]
        },
        {
          "output_type": "stream",
          "name": "stderr",
          "text": [
            "100%|██████████| 110/110 [00:00<00:00, 298.01it/s]\n",
            "100%|██████████| 47/47 [00:00<00:00, 1006.06it/s]\n"
          ]
        },
        {
          "output_type": "stream",
          "name": "stdout",
          "text": [
            "Epoch 5/100 loss 0.25605 val_loss 0.31468\n"
          ]
        },
        {
          "output_type": "stream",
          "name": "stderr",
          "text": [
            "100%|██████████| 110/110 [00:00<00:00, 188.23it/s]\n",
            "100%|██████████| 47/47 [00:00<00:00, 662.12it/s]\n"
          ]
        },
        {
          "output_type": "stream",
          "name": "stdout",
          "text": [
            "Epoch 6/100 loss 0.24975 val_loss 0.22652\n"
          ]
        },
        {
          "output_type": "stream",
          "name": "stderr",
          "text": [
            "100%|██████████| 110/110 [00:00<00:00, 158.54it/s]\n",
            "100%|██████████| 47/47 [00:00<00:00, 434.47it/s]\n"
          ]
        },
        {
          "output_type": "stream",
          "name": "stdout",
          "text": [
            "Epoch 7/100 loss 0.23938 val_loss 0.22302\n"
          ]
        },
        {
          "output_type": "stream",
          "name": "stderr",
          "text": [
            "100%|██████████| 110/110 [00:00<00:00, 151.45it/s]\n",
            "100%|██████████| 47/47 [00:00<00:00, 1094.37it/s]\n"
          ]
        },
        {
          "output_type": "stream",
          "name": "stdout",
          "text": [
            "Epoch 8/100 loss 0.24058 val_loss 0.22224\n"
          ]
        },
        {
          "output_type": "stream",
          "name": "stderr",
          "text": [
            "100%|██████████| 110/110 [00:00<00:00, 343.24it/s]\n",
            "100%|██████████| 47/47 [00:00<00:00, 1070.84it/s]\n"
          ]
        },
        {
          "output_type": "stream",
          "name": "stdout",
          "text": [
            "Epoch 9/100 loss 0.25835 val_loss 0.24674\n"
          ]
        },
        {
          "output_type": "stream",
          "name": "stderr",
          "text": [
            "100%|██████████| 110/110 [00:00<00:00, 336.48it/s]\n",
            "100%|██████████| 47/47 [00:00<00:00, 1055.98it/s]\n"
          ]
        },
        {
          "output_type": "stream",
          "name": "stdout",
          "text": [
            "Epoch 10/100 loss 0.24089 val_loss 0.27219\n"
          ]
        },
        {
          "output_type": "stream",
          "name": "stderr",
          "text": [
            "100%|██████████| 110/110 [00:00<00:00, 336.18it/s]\n",
            "100%|██████████| 47/47 [00:00<00:00, 1064.68it/s]\n"
          ]
        },
        {
          "output_type": "stream",
          "name": "stdout",
          "text": [
            "Epoch 11/100 loss 0.23895 val_loss 0.23219\n"
          ]
        },
        {
          "output_type": "stream",
          "name": "stderr",
          "text": [
            "100%|██████████| 110/110 [00:00<00:00, 338.00it/s]\n",
            "100%|██████████| 47/47 [00:00<00:00, 892.26it/s]\n"
          ]
        },
        {
          "output_type": "stream",
          "name": "stdout",
          "text": [
            "Epoch 12/100 loss 0.21277 val_loss 0.22855\n"
          ]
        },
        {
          "output_type": "stream",
          "name": "stderr",
          "text": [
            "100%|██████████| 110/110 [00:00<00:00, 321.87it/s]\n",
            "100%|██████████| 47/47 [00:00<00:00, 1055.16it/s]\n"
          ]
        },
        {
          "output_type": "stream",
          "name": "stdout",
          "text": [
            "Epoch 13/100 loss 0.15754 val_loss 0.14819\n"
          ]
        },
        {
          "output_type": "stream",
          "name": "stderr",
          "text": [
            "100%|██████████| 110/110 [00:00<00:00, 334.95it/s]\n",
            "100%|██████████| 47/47 [00:00<00:00, 1102.44it/s]\n"
          ]
        },
        {
          "output_type": "stream",
          "name": "stdout",
          "text": [
            "Epoch 14/100 loss 0.04667 val_loss 0.00590\n"
          ]
        },
        {
          "output_type": "stream",
          "name": "stderr",
          "text": [
            "100%|██████████| 110/110 [00:00<00:00, 329.96it/s]\n",
            "100%|██████████| 47/47 [00:00<00:00, 1084.19it/s]\n"
          ]
        },
        {
          "output_type": "stream",
          "name": "stdout",
          "text": [
            "Epoch 15/100 loss 0.00176 val_loss 0.00042\n"
          ]
        },
        {
          "output_type": "stream",
          "name": "stderr",
          "text": [
            "100%|██████████| 110/110 [00:00<00:00, 330.11it/s]\n",
            "100%|██████████| 47/47 [00:00<00:00, 1156.26it/s]\n"
          ]
        },
        {
          "output_type": "stream",
          "name": "stdout",
          "text": [
            "Epoch 16/100 loss 0.00026 val_loss 0.00019\n"
          ]
        },
        {
          "output_type": "stream",
          "name": "stderr",
          "text": [
            "100%|██████████| 110/110 [00:00<00:00, 335.37it/s]\n",
            "100%|██████████| 47/47 [00:00<00:00, 1019.14it/s]\n"
          ]
        },
        {
          "output_type": "stream",
          "name": "stdout",
          "text": [
            "Epoch 17/100 loss 0.00025 val_loss 0.00139\n"
          ]
        },
        {
          "output_type": "stream",
          "name": "stderr",
          "text": [
            "100%|██████████| 110/110 [00:00<00:00, 298.62it/s]\n",
            "100%|██████████| 47/47 [00:00<00:00, 923.25it/s]\n"
          ]
        },
        {
          "output_type": "stream",
          "name": "stdout",
          "text": [
            "Epoch 18/100 loss 0.00033 val_loss 0.00098\n"
          ]
        },
        {
          "output_type": "stream",
          "name": "stderr",
          "text": [
            "100%|██████████| 110/110 [00:00<00:00, 317.21it/s]\n",
            "100%|██████████| 47/47 [00:00<00:00, 1062.47it/s]\n"
          ]
        },
        {
          "output_type": "stream",
          "name": "stdout",
          "text": [
            "Epoch 19/100 loss 0.00036 val_loss 0.00034\n"
          ]
        },
        {
          "output_type": "stream",
          "name": "stderr",
          "text": [
            "100%|██████████| 110/110 [00:00<00:00, 302.54it/s]\n",
            "100%|██████████| 47/47 [00:00<00:00, 1089.27it/s]\n"
          ]
        },
        {
          "output_type": "stream",
          "name": "stdout",
          "text": [
            "Epoch 20/100 loss 0.00024 val_loss 0.00022\n"
          ]
        },
        {
          "output_type": "stream",
          "name": "stderr",
          "text": [
            "100%|██████████| 110/110 [00:00<00:00, 321.55it/s]\n",
            "100%|██████████| 47/47 [00:00<00:00, 1097.00it/s]\n"
          ]
        },
        {
          "output_type": "stream",
          "name": "stdout",
          "text": [
            "Epoch 21/100 loss 0.00031 val_loss 0.00035\n"
          ]
        },
        {
          "output_type": "stream",
          "name": "stderr",
          "text": [
            "100%|██████████| 110/110 [00:00<00:00, 324.06it/s]\n",
            "100%|██████████| 47/47 [00:00<00:00, 1104.93it/s]\n"
          ]
        },
        {
          "output_type": "stream",
          "name": "stdout",
          "text": [
            "Epoch 22/100 loss 0.00024 val_loss 0.00071\n"
          ]
        },
        {
          "output_type": "stream",
          "name": "stderr",
          "text": [
            "100%|██████████| 110/110 [00:00<00:00, 326.57it/s]\n",
            "100%|██████████| 47/47 [00:00<00:00, 1071.08it/s]\n"
          ]
        },
        {
          "output_type": "stream",
          "name": "stdout",
          "text": [
            "Epoch 23/100 loss 0.00069 val_loss 0.00048\n"
          ]
        },
        {
          "output_type": "stream",
          "name": "stderr",
          "text": [
            "100%|██████████| 110/110 [00:00<00:00, 341.66it/s]\n",
            "100%|██████████| 47/47 [00:00<00:00, 1095.67it/s]\n"
          ]
        },
        {
          "output_type": "stream",
          "name": "stdout",
          "text": [
            "Epoch 24/100 loss 0.00071 val_loss 0.00021\n"
          ]
        },
        {
          "output_type": "stream",
          "name": "stderr",
          "text": [
            "100%|██████████| 110/110 [00:00<00:00, 328.60it/s]\n",
            "100%|██████████| 47/47 [00:00<00:00, 1087.72it/s]\n"
          ]
        },
        {
          "output_type": "stream",
          "name": "stdout",
          "text": [
            "Epoch 25/100 loss 0.00043 val_loss 0.00123\n"
          ]
        },
        {
          "output_type": "stream",
          "name": "stderr",
          "text": [
            "100%|██████████| 110/110 [00:00<00:00, 321.44it/s]\n",
            "100%|██████████| 47/47 [00:00<00:00, 1078.72it/s]\n"
          ]
        },
        {
          "output_type": "stream",
          "name": "stdout",
          "text": [
            "Epoch 26/100 loss 0.00149 val_loss 0.01178\n"
          ]
        },
        {
          "output_type": "stream",
          "name": "stderr",
          "text": [
            "100%|██████████| 110/110 [00:00<00:00, 328.56it/s]\n",
            "100%|██████████| 47/47 [00:00<00:00, 1053.47it/s]\n"
          ]
        },
        {
          "output_type": "stream",
          "name": "stdout",
          "text": [
            "Epoch 27/100 loss 0.00625 val_loss 0.00034\n"
          ]
        },
        {
          "output_type": "stream",
          "name": "stderr",
          "text": [
            "100%|██████████| 110/110 [00:00<00:00, 308.36it/s]\n",
            "100%|██████████| 47/47 [00:00<00:00, 1047.67it/s]\n"
          ]
        },
        {
          "output_type": "stream",
          "name": "stdout",
          "text": [
            "Epoch 28/100 loss 0.00591 val_loss 0.00127\n"
          ]
        },
        {
          "output_type": "stream",
          "name": "stderr",
          "text": [
            "100%|██████████| 110/110 [00:00<00:00, 327.38it/s]\n",
            "100%|██████████| 47/47 [00:00<00:00, 1040.30it/s]\n"
          ]
        },
        {
          "output_type": "stream",
          "name": "stdout",
          "text": [
            "Epoch 29/100 loss 0.00076 val_loss 0.00053\n"
          ]
        },
        {
          "output_type": "stream",
          "name": "stderr",
          "text": [
            "100%|██████████| 110/110 [00:00<00:00, 322.64it/s]\n",
            "100%|██████████| 47/47 [00:00<00:00, 1032.88it/s]\n"
          ]
        },
        {
          "output_type": "stream",
          "name": "stdout",
          "text": [
            "Epoch 30/100 loss 0.00072 val_loss 0.00029\n"
          ]
        },
        {
          "output_type": "stream",
          "name": "stderr",
          "text": [
            "100%|██████████| 110/110 [00:00<00:00, 330.16it/s]\n",
            "100%|██████████| 47/47 [00:00<00:00, 1005.92it/s]\n"
          ]
        },
        {
          "output_type": "stream",
          "name": "stdout",
          "text": [
            "Epoch 31/100 loss 0.00127 val_loss 0.00098\n"
          ]
        },
        {
          "output_type": "stream",
          "name": "stderr",
          "text": [
            "100%|██████████| 110/110 [00:00<00:00, 273.95it/s]\n",
            "100%|██████████| 47/47 [00:00<00:00, 737.99it/s]\n"
          ]
        },
        {
          "output_type": "stream",
          "name": "stdout",
          "text": [
            "Epoch 32/100 loss 0.00085 val_loss 0.00025\n"
          ]
        },
        {
          "output_type": "stream",
          "name": "stderr",
          "text": [
            "100%|██████████| 110/110 [00:00<00:00, 226.21it/s]\n",
            "100%|██████████| 47/47 [00:00<00:00, 699.30it/s]\n"
          ]
        },
        {
          "output_type": "stream",
          "name": "stdout",
          "text": [
            "Epoch 33/100 loss 0.00041 val_loss 0.00042\n"
          ]
        },
        {
          "output_type": "stream",
          "name": "stderr",
          "text": [
            "100%|██████████| 110/110 [00:00<00:00, 226.64it/s]\n",
            "100%|██████████| 47/47 [00:00<00:00, 660.47it/s]\n"
          ]
        },
        {
          "output_type": "stream",
          "name": "stdout",
          "text": [
            "Epoch 34/100 loss 0.00251 val_loss 0.00275\n"
          ]
        },
        {
          "output_type": "stream",
          "name": "stderr",
          "text": [
            "100%|██████████| 110/110 [00:00<00:00, 232.96it/s]\n",
            "100%|██████████| 47/47 [00:00<00:00, 635.86it/s]\n"
          ]
        },
        {
          "output_type": "stream",
          "name": "stdout",
          "text": [
            "Epoch 35/100 loss 0.00119 val_loss 0.00032\n"
          ]
        },
        {
          "output_type": "stream",
          "name": "stderr",
          "text": [
            "100%|██████████| 110/110 [00:00<00:00, 233.57it/s]\n",
            "100%|██████████| 47/47 [00:00<00:00, 704.06it/s]\n"
          ]
        },
        {
          "output_type": "stream",
          "name": "stdout",
          "text": [
            "Epoch 36/100 loss 0.00674 val_loss 0.06213\n"
          ]
        },
        {
          "output_type": "stream",
          "name": "stderr",
          "text": [
            "100%|██████████| 110/110 [00:00<00:00, 314.91it/s]\n",
            "100%|██████████| 47/47 [00:00<00:00, 1021.68it/s]\n"
          ]
        },
        {
          "output_type": "stream",
          "name": "stdout",
          "text": [
            "Epoch 37/100 loss 0.01511 val_loss 0.00078\n"
          ]
        },
        {
          "output_type": "stream",
          "name": "stderr",
          "text": [
            "100%|██████████| 110/110 [00:00<00:00, 326.86it/s]\n",
            "100%|██████████| 47/47 [00:00<00:00, 1000.83it/s]\n"
          ]
        },
        {
          "output_type": "stream",
          "name": "stdout",
          "text": [
            "Epoch 38/100 loss 0.00045 val_loss 0.00021\n"
          ]
        },
        {
          "output_type": "stream",
          "name": "stderr",
          "text": [
            "100%|██████████| 110/110 [00:00<00:00, 319.08it/s]\n",
            "100%|██████████| 47/47 [00:00<00:00, 1079.90it/s]\n"
          ]
        },
        {
          "output_type": "stream",
          "name": "stdout",
          "text": [
            "Epoch 39/100 loss 0.00039 val_loss 0.00149\n"
          ]
        },
        {
          "output_type": "stream",
          "name": "stderr",
          "text": [
            "100%|██████████| 110/110 [00:00<00:00, 320.75it/s]\n",
            "100%|██████████| 47/47 [00:00<00:00, 1033.95it/s]\n"
          ]
        },
        {
          "output_type": "stream",
          "name": "stdout",
          "text": [
            "Epoch 40/100 loss 0.00451 val_loss 0.00990\n"
          ]
        },
        {
          "output_type": "stream",
          "name": "stderr",
          "text": [
            "100%|██████████| 110/110 [00:00<00:00, 331.93it/s]\n",
            "100%|██████████| 47/47 [00:00<00:00, 1049.31it/s]\n"
          ]
        },
        {
          "output_type": "stream",
          "name": "stdout",
          "text": [
            "Epoch 41/100 loss 0.00171 val_loss 0.00159\n"
          ]
        },
        {
          "output_type": "stream",
          "name": "stderr",
          "text": [
            "100%|██████████| 110/110 [00:00<00:00, 314.39it/s]\n",
            "100%|██████████| 47/47 [00:00<00:00, 946.57it/s]\n"
          ]
        },
        {
          "output_type": "stream",
          "name": "stdout",
          "text": [
            "Epoch 42/100 loss 0.00053 val_loss 0.00045\n"
          ]
        },
        {
          "output_type": "stream",
          "name": "stderr",
          "text": [
            "100%|██████████| 110/110 [00:00<00:00, 328.05it/s]\n",
            "100%|██████████| 47/47 [00:00<00:00, 1068.27it/s]\n"
          ]
        },
        {
          "output_type": "stream",
          "name": "stdout",
          "text": [
            "Epoch 43/100 loss 0.00048 val_loss 0.00057\n"
          ]
        },
        {
          "output_type": "stream",
          "name": "stderr",
          "text": [
            "100%|██████████| 110/110 [00:00<00:00, 331.93it/s]\n",
            "100%|██████████| 47/47 [00:00<00:00, 1033.65it/s]\n"
          ]
        },
        {
          "output_type": "stream",
          "name": "stdout",
          "text": [
            "Epoch 44/100 loss 0.00082 val_loss 0.01847\n"
          ]
        },
        {
          "output_type": "stream",
          "name": "stderr",
          "text": [
            "100%|██████████| 110/110 [00:00<00:00, 331.01it/s]\n",
            "100%|██████████| 47/47 [00:00<00:00, 1042.99it/s]\n"
          ]
        },
        {
          "output_type": "stream",
          "name": "stdout",
          "text": [
            "Epoch 45/100 loss 0.00452 val_loss 0.00437\n"
          ]
        },
        {
          "output_type": "stream",
          "name": "stderr",
          "text": [
            "100%|██████████| 110/110 [00:00<00:00, 312.72it/s]\n",
            "100%|██████████| 47/47 [00:00<00:00, 1062.03it/s]\n"
          ]
        },
        {
          "output_type": "stream",
          "name": "stdout",
          "text": [
            "Epoch 46/100 loss 0.00353 val_loss 0.00459\n"
          ]
        },
        {
          "output_type": "stream",
          "name": "stderr",
          "text": [
            "100%|██████████| 110/110 [00:00<00:00, 323.61it/s]\n",
            "100%|██████████| 47/47 [00:00<00:00, 1075.30it/s]\n"
          ]
        },
        {
          "output_type": "stream",
          "name": "stdout",
          "text": [
            "Epoch 47/100 loss 0.00198 val_loss 0.01162\n"
          ]
        },
        {
          "output_type": "stream",
          "name": "stderr",
          "text": [
            "100%|██████████| 110/110 [00:00<00:00, 327.74it/s]\n",
            "100%|██████████| 47/47 [00:00<00:00, 999.62it/s]\n"
          ]
        },
        {
          "output_type": "stream",
          "name": "stdout",
          "text": [
            "Epoch 48/100 loss 0.01393 val_loss 0.00669\n"
          ]
        },
        {
          "output_type": "stream",
          "name": "stderr",
          "text": [
            "100%|██████████| 110/110 [00:00<00:00, 320.16it/s]\n",
            "100%|██████████| 47/47 [00:00<00:00, 956.73it/s]\n"
          ]
        },
        {
          "output_type": "stream",
          "name": "stdout",
          "text": [
            "Epoch 49/100 loss 0.00192 val_loss 0.00024\n"
          ]
        },
        {
          "output_type": "stream",
          "name": "stderr",
          "text": [
            "100%|██████████| 110/110 [00:00<00:00, 329.55it/s]\n",
            "100%|██████████| 47/47 [00:00<00:00, 1036.04it/s]\n"
          ]
        },
        {
          "output_type": "stream",
          "name": "stdout",
          "text": [
            "Epoch 50/100 loss 0.00132 val_loss 0.00056\n"
          ]
        },
        {
          "output_type": "stream",
          "name": "stderr",
          "text": [
            "100%|██████████| 110/110 [00:00<00:00, 317.87it/s]\n",
            "100%|██████████| 47/47 [00:00<00:00, 1048.31it/s]\n"
          ]
        },
        {
          "output_type": "stream",
          "name": "stdout",
          "text": [
            "Epoch 51/100 loss 0.00054 val_loss 0.00029\n"
          ]
        },
        {
          "output_type": "stream",
          "name": "stderr",
          "text": [
            "100%|██████████| 110/110 [00:00<00:00, 323.40it/s]\n",
            "100%|██████████| 47/47 [00:00<00:00, 1143.50it/s]\n"
          ]
        },
        {
          "output_type": "stream",
          "name": "stdout",
          "text": [
            "Epoch 52/100 loss 0.00041 val_loss 0.00248\n"
          ]
        },
        {
          "output_type": "stream",
          "name": "stderr",
          "text": [
            "100%|██████████| 110/110 [00:00<00:00, 329.41it/s]\n",
            "100%|██████████| 47/47 [00:00<00:00, 1005.15it/s]\n"
          ]
        },
        {
          "output_type": "stream",
          "name": "stdout",
          "text": [
            "Epoch 53/100 loss 0.00250 val_loss 0.02967\n"
          ]
        },
        {
          "output_type": "stream",
          "name": "stderr",
          "text": [
            "100%|██████████| 110/110 [00:00<00:00, 321.87it/s]\n",
            "100%|██████████| 47/47 [00:00<00:00, 1041.87it/s]\n"
          ]
        },
        {
          "output_type": "stream",
          "name": "stdout",
          "text": [
            "Epoch 54/100 loss 0.00286 val_loss 0.00594\n"
          ]
        },
        {
          "output_type": "stream",
          "name": "stderr",
          "text": [
            "100%|██████████| 110/110 [00:00<00:00, 337.80it/s]\n",
            "100%|██████████| 47/47 [00:00<00:00, 1058.44it/s]\n"
          ]
        },
        {
          "output_type": "stream",
          "name": "stdout",
          "text": [
            "Epoch 55/100 loss 0.00098 val_loss 0.00028\n"
          ]
        },
        {
          "output_type": "stream",
          "name": "stderr",
          "text": [
            "100%|██████████| 110/110 [00:00<00:00, 331.81it/s]\n",
            "100%|██████████| 47/47 [00:00<00:00, 1052.53it/s]\n"
          ]
        },
        {
          "output_type": "stream",
          "name": "stdout",
          "text": [
            "Epoch 56/100 loss 0.00170 val_loss 0.00196\n"
          ]
        },
        {
          "output_type": "stream",
          "name": "stderr",
          "text": [
            "100%|██████████| 110/110 [00:00<00:00, 320.59it/s]\n",
            "100%|██████████| 47/47 [00:00<00:00, 1064.59it/s]\n"
          ]
        },
        {
          "output_type": "stream",
          "name": "stdout",
          "text": [
            "Epoch 57/100 loss 0.00123 val_loss 0.00316\n"
          ]
        },
        {
          "output_type": "stream",
          "name": "stderr",
          "text": [
            "100%|██████████| 110/110 [00:00<00:00, 334.44it/s]\n",
            "100%|██████████| 47/47 [00:00<00:00, 1080.49it/s]\n"
          ]
        },
        {
          "output_type": "stream",
          "name": "stdout",
          "text": [
            "Epoch 58/100 loss 0.00528 val_loss 0.00155\n"
          ]
        },
        {
          "output_type": "stream",
          "name": "stderr",
          "text": [
            "100%|██████████| 110/110 [00:00<00:00, 330.57it/s]\n",
            "100%|██████████| 47/47 [00:00<00:00, 1112.35it/s]\n"
          ]
        },
        {
          "output_type": "stream",
          "name": "stdout",
          "text": [
            "Epoch 59/100 loss 0.00059 val_loss 0.00212\n"
          ]
        },
        {
          "output_type": "stream",
          "name": "stderr",
          "text": [
            "100%|██████████| 110/110 [00:00<00:00, 334.33it/s]\n",
            "100%|██████████| 47/47 [00:00<00:00, 992.55it/s]\n"
          ]
        },
        {
          "output_type": "stream",
          "name": "stdout",
          "text": [
            "Epoch 60/100 loss 0.00468 val_loss 0.00115\n"
          ]
        },
        {
          "output_type": "stream",
          "name": "stderr",
          "text": [
            "100%|██████████| 110/110 [00:00<00:00, 331.14it/s]\n",
            "100%|██████████| 47/47 [00:00<00:00, 1041.75it/s]\n"
          ]
        },
        {
          "output_type": "stream",
          "name": "stdout",
          "text": [
            "Epoch 61/100 loss 0.00289 val_loss 0.00820\n"
          ]
        },
        {
          "output_type": "stream",
          "name": "stderr",
          "text": [
            "100%|██████████| 110/110 [00:00<00:00, 327.20it/s]\n",
            "100%|██████████| 47/47 [00:00<00:00, 962.50it/s]\n"
          ]
        },
        {
          "output_type": "stream",
          "name": "stdout",
          "text": [
            "Epoch 62/100 loss 0.00477 val_loss 0.00176\n"
          ]
        },
        {
          "output_type": "stream",
          "name": "stderr",
          "text": [
            "100%|██████████| 110/110 [00:00<00:00, 315.50it/s]\n",
            "100%|██████████| 47/47 [00:00<00:00, 1028.14it/s]\n"
          ]
        },
        {
          "output_type": "stream",
          "name": "stdout",
          "text": [
            "Epoch 63/100 loss 0.00136 val_loss 0.00144\n"
          ]
        },
        {
          "output_type": "stream",
          "name": "stderr",
          "text": [
            "100%|██████████| 110/110 [00:00<00:00, 320.84it/s]\n",
            "100%|██████████| 47/47 [00:00<00:00, 1096.59it/s]\n"
          ]
        },
        {
          "output_type": "stream",
          "name": "stdout",
          "text": [
            "Epoch 64/100 loss 0.00168 val_loss 0.00923\n"
          ]
        },
        {
          "output_type": "stream",
          "name": "stderr",
          "text": [
            "100%|██████████| 110/110 [00:00<00:00, 324.76it/s]\n",
            "100%|██████████| 47/47 [00:00<00:00, 1111.66it/s]\n"
          ]
        },
        {
          "output_type": "stream",
          "name": "stdout",
          "text": [
            "Epoch 65/100 loss 0.00134 val_loss 0.00040\n"
          ]
        },
        {
          "output_type": "stream",
          "name": "stderr",
          "text": [
            "100%|██████████| 110/110 [00:00<00:00, 325.90it/s]\n",
            "100%|██████████| 47/47 [00:00<00:00, 1088.56it/s]\n"
          ]
        },
        {
          "output_type": "stream",
          "name": "stdout",
          "text": [
            "Epoch 66/100 loss 0.00107 val_loss 0.00063\n"
          ]
        },
        {
          "output_type": "stream",
          "name": "stderr",
          "text": [
            "100%|██████████| 110/110 [00:00<00:00, 320.41it/s]\n",
            "100%|██████████| 47/47 [00:00<00:00, 1055.32it/s]\n"
          ]
        },
        {
          "output_type": "stream",
          "name": "stdout",
          "text": [
            "Epoch 67/100 loss 0.00097 val_loss 0.00038\n"
          ]
        },
        {
          "output_type": "stream",
          "name": "stderr",
          "text": [
            "100%|██████████| 110/110 [00:00<00:00, 321.70it/s]\n",
            "100%|██████████| 47/47 [00:00<00:00, 926.40it/s]\n"
          ]
        },
        {
          "output_type": "stream",
          "name": "stdout",
          "text": [
            "Epoch 68/100 loss 0.00332 val_loss 0.00311\n"
          ]
        },
        {
          "output_type": "stream",
          "name": "stderr",
          "text": [
            "100%|██████████| 110/110 [00:00<00:00, 328.90it/s]\n",
            "100%|██████████| 47/47 [00:00<00:00, 1055.25it/s]\n"
          ]
        },
        {
          "output_type": "stream",
          "name": "stdout",
          "text": [
            "Epoch 69/100 loss 0.00178 val_loss 0.00436\n"
          ]
        },
        {
          "output_type": "stream",
          "name": "stderr",
          "text": [
            "100%|██████████| 110/110 [00:00<00:00, 259.24it/s]\n",
            "100%|██████████| 47/47 [00:00<00:00, 1021.53it/s]\n"
          ]
        },
        {
          "output_type": "stream",
          "name": "stdout",
          "text": [
            "Epoch 70/100 loss 0.00191 val_loss 0.00063\n"
          ]
        },
        {
          "output_type": "stream",
          "name": "stderr",
          "text": [
            "100%|██████████| 110/110 [00:00<00:00, 327.95it/s]\n",
            "100%|██████████| 47/47 [00:00<00:00, 1056.76it/s]\n"
          ]
        },
        {
          "output_type": "stream",
          "name": "stdout",
          "text": [
            "Epoch 71/100 loss 0.00448 val_loss 0.00470\n"
          ]
        },
        {
          "output_type": "stream",
          "name": "stderr",
          "text": [
            "100%|██████████| 110/110 [00:00<00:00, 311.97it/s]\n",
            "100%|██████████| 47/47 [00:00<00:00, 1152.89it/s]\n"
          ]
        },
        {
          "output_type": "stream",
          "name": "stdout",
          "text": [
            "Epoch 72/100 loss 0.00197 val_loss 0.00997\n"
          ]
        },
        {
          "output_type": "stream",
          "name": "stderr",
          "text": [
            "100%|██████████| 110/110 [00:00<00:00, 334.00it/s]\n",
            "100%|██████████| 47/47 [00:00<00:00, 1125.84it/s]\n"
          ]
        },
        {
          "output_type": "stream",
          "name": "stdout",
          "text": [
            "Epoch 73/100 loss 0.00392 val_loss 0.00041\n"
          ]
        },
        {
          "output_type": "stream",
          "name": "stderr",
          "text": [
            "100%|██████████| 110/110 [00:00<00:00, 322.31it/s]\n",
            "100%|██████████| 47/47 [00:00<00:00, 1037.92it/s]\n"
          ]
        },
        {
          "output_type": "stream",
          "name": "stdout",
          "text": [
            "Epoch 74/100 loss 0.00358 val_loss 0.01444\n"
          ]
        },
        {
          "output_type": "stream",
          "name": "stderr",
          "text": [
            "100%|██████████| 110/110 [00:00<00:00, 341.50it/s]\n",
            "100%|██████████| 47/47 [00:00<00:00, 1059.65it/s]\n"
          ]
        },
        {
          "output_type": "stream",
          "name": "stdout",
          "text": [
            "Epoch 75/100 loss 0.00395 val_loss 0.00288\n"
          ]
        },
        {
          "output_type": "stream",
          "name": "stderr",
          "text": [
            "100%|██████████| 110/110 [00:00<00:00, 335.19it/s]\n",
            "100%|██████████| 47/47 [00:00<00:00, 990.31it/s]\n"
          ]
        },
        {
          "output_type": "stream",
          "name": "stdout",
          "text": [
            "Epoch 76/100 loss 0.00137 val_loss 0.00077\n"
          ]
        },
        {
          "output_type": "stream",
          "name": "stderr",
          "text": [
            "100%|██████████| 110/110 [00:00<00:00, 326.22it/s]\n",
            "100%|██████████| 47/47 [00:00<00:00, 1063.73it/s]\n"
          ]
        },
        {
          "output_type": "stream",
          "name": "stdout",
          "text": [
            "Epoch 77/100 loss 0.00335 val_loss 0.00059\n"
          ]
        },
        {
          "output_type": "stream",
          "name": "stderr",
          "text": [
            "100%|██████████| 110/110 [00:00<00:00, 328.82it/s]\n",
            "100%|██████████| 47/47 [00:00<00:00, 1124.43it/s]\n"
          ]
        },
        {
          "output_type": "stream",
          "name": "stdout",
          "text": [
            "Epoch 78/100 loss 0.00667 val_loss 0.00022\n"
          ]
        },
        {
          "output_type": "stream",
          "name": "stderr",
          "text": [
            "100%|██████████| 110/110 [00:00<00:00, 316.80it/s]\n",
            "100%|██████████| 47/47 [00:00<00:00, 997.10it/s]\n"
          ]
        },
        {
          "output_type": "stream",
          "name": "stdout",
          "text": [
            "Epoch 79/100 loss 0.00054 val_loss 0.00026\n"
          ]
        },
        {
          "output_type": "stream",
          "name": "stderr",
          "text": [
            "100%|██████████| 110/110 [00:00<00:00, 325.26it/s]\n",
            "100%|██████████| 47/47 [00:00<00:00, 988.44it/s]\n"
          ]
        },
        {
          "output_type": "stream",
          "name": "stdout",
          "text": [
            "Epoch 80/100 loss 0.00040 val_loss 0.00022\n"
          ]
        },
        {
          "output_type": "stream",
          "name": "stderr",
          "text": [
            "100%|██████████| 110/110 [00:00<00:00, 332.32it/s]\n",
            "100%|██████████| 47/47 [00:00<00:00, 991.69it/s]\n"
          ]
        },
        {
          "output_type": "stream",
          "name": "stdout",
          "text": [
            "Epoch 81/100 loss 0.00068 val_loss 0.00078\n"
          ]
        },
        {
          "output_type": "stream",
          "name": "stderr",
          "text": [
            "100%|██████████| 110/110 [00:00<00:00, 318.39it/s]\n",
            "100%|██████████| 47/47 [00:00<00:00, 1021.87it/s]\n"
          ]
        },
        {
          "output_type": "stream",
          "name": "stdout",
          "text": [
            "Epoch 82/100 loss 0.00138 val_loss 0.00112\n"
          ]
        },
        {
          "output_type": "stream",
          "name": "stderr",
          "text": [
            "100%|██████████| 110/110 [00:00<00:00, 335.13it/s]\n",
            "100%|██████████| 47/47 [00:00<00:00, 833.51it/s]\n"
          ]
        },
        {
          "output_type": "stream",
          "name": "stdout",
          "text": [
            "Epoch 83/100 loss 0.00146 val_loss 0.00105\n"
          ]
        },
        {
          "output_type": "stream",
          "name": "stderr",
          "text": [
            "100%|██████████| 110/110 [00:00<00:00, 322.36it/s]\n",
            "100%|██████████| 47/47 [00:00<00:00, 1054.53it/s]\n"
          ]
        },
        {
          "output_type": "stream",
          "name": "stdout",
          "text": [
            "Epoch 84/100 loss 0.01110 val_loss 0.00787\n"
          ]
        },
        {
          "output_type": "stream",
          "name": "stderr",
          "text": [
            "100%|██████████| 110/110 [00:00<00:00, 319.74it/s]\n",
            "100%|██████████| 47/47 [00:00<00:00, 1033.36it/s]\n"
          ]
        },
        {
          "output_type": "stream",
          "name": "stdout",
          "text": [
            "Epoch 85/100 loss 0.00106 val_loss 0.00025\n"
          ]
        },
        {
          "output_type": "stream",
          "name": "stderr",
          "text": [
            "100%|██████████| 110/110 [00:00<00:00, 333.30it/s]\n",
            "100%|██████████| 47/47 [00:00<00:00, 1043.27it/s]\n"
          ]
        },
        {
          "output_type": "stream",
          "name": "stdout",
          "text": [
            "Epoch 86/100 loss 0.00061 val_loss 0.00133\n"
          ]
        },
        {
          "output_type": "stream",
          "name": "stderr",
          "text": [
            "100%|██████████| 110/110 [00:00<00:00, 310.80it/s]\n",
            "100%|██████████| 47/47 [00:00<00:00, 1071.55it/s]\n"
          ]
        },
        {
          "output_type": "stream",
          "name": "stdout",
          "text": [
            "Epoch 87/100 loss 0.00066 val_loss 0.00153\n"
          ]
        },
        {
          "output_type": "stream",
          "name": "stderr",
          "text": [
            "100%|██████████| 110/110 [00:00<00:00, 324.28it/s]\n",
            "100%|██████████| 47/47 [00:00<00:00, 1086.18it/s]\n"
          ]
        },
        {
          "output_type": "stream",
          "name": "stdout",
          "text": [
            "Epoch 88/100 loss 0.00154 val_loss 0.00214\n"
          ]
        },
        {
          "output_type": "stream",
          "name": "stderr",
          "text": [
            "100%|██████████| 110/110 [00:00<00:00, 315.30it/s]\n",
            "100%|██████████| 47/47 [00:00<00:00, 1010.65it/s]\n"
          ]
        },
        {
          "output_type": "stream",
          "name": "stdout",
          "text": [
            "Epoch 89/100 loss 0.00053 val_loss 0.00022\n"
          ]
        },
        {
          "output_type": "stream",
          "name": "stderr",
          "text": [
            "100%|██████████| 110/110 [00:00<00:00, 321.85it/s]\n",
            "100%|██████████| 47/47 [00:00<00:00, 1026.11it/s]\n"
          ]
        },
        {
          "output_type": "stream",
          "name": "stdout",
          "text": [
            "Epoch 90/100 loss 0.00055 val_loss 0.00191\n"
          ]
        },
        {
          "output_type": "stream",
          "name": "stderr",
          "text": [
            "100%|██████████| 110/110 [00:00<00:00, 305.36it/s]\n",
            "100%|██████████| 47/47 [00:00<00:00, 861.84it/s]\n"
          ]
        },
        {
          "output_type": "stream",
          "name": "stdout",
          "text": [
            "Epoch 91/100 loss 0.00116 val_loss 0.00077\n"
          ]
        },
        {
          "output_type": "stream",
          "name": "stderr",
          "text": [
            "100%|██████████| 110/110 [00:00<00:00, 289.70it/s]\n",
            "100%|██████████| 47/47 [00:00<00:00, 946.75it/s]\n"
          ]
        },
        {
          "output_type": "stream",
          "name": "stdout",
          "text": [
            "Epoch 92/100 loss 0.00068 val_loss 0.00057\n"
          ]
        },
        {
          "output_type": "stream",
          "name": "stderr",
          "text": [
            "100%|██████████| 110/110 [00:00<00:00, 307.11it/s]\n",
            "100%|██████████| 47/47 [00:00<00:00, 990.97it/s]\n"
          ]
        },
        {
          "output_type": "stream",
          "name": "stdout",
          "text": [
            "Epoch 93/100 loss 0.00086 val_loss 0.00052\n"
          ]
        },
        {
          "output_type": "stream",
          "name": "stderr",
          "text": [
            "100%|██████████| 110/110 [00:00<00:00, 312.84it/s]\n",
            "100%|██████████| 47/47 [00:00<00:00, 1128.33it/s]\n"
          ]
        },
        {
          "output_type": "stream",
          "name": "stdout",
          "text": [
            "Epoch 94/100 loss 0.00132 val_loss 0.00159\n"
          ]
        },
        {
          "output_type": "stream",
          "name": "stderr",
          "text": [
            "100%|██████████| 110/110 [00:00<00:00, 324.74it/s]\n",
            "100%|██████████| 47/47 [00:00<00:00, 971.96it/s]\n"
          ]
        },
        {
          "output_type": "stream",
          "name": "stdout",
          "text": [
            "Epoch 95/100 loss 0.00105 val_loss 0.00054\n"
          ]
        },
        {
          "output_type": "stream",
          "name": "stderr",
          "text": [
            "100%|██████████| 110/110 [00:00<00:00, 309.18it/s]\n",
            "100%|██████████| 47/47 [00:00<00:00, 803.80it/s]\n"
          ]
        },
        {
          "output_type": "stream",
          "name": "stdout",
          "text": [
            "Epoch 96/100 loss 0.00750 val_loss 0.00165\n"
          ]
        },
        {
          "output_type": "stream",
          "name": "stderr",
          "text": [
            "100%|██████████| 110/110 [00:00<00:00, 294.18it/s]\n",
            "100%|██████████| 47/47 [00:00<00:00, 826.43it/s]\n"
          ]
        },
        {
          "output_type": "stream",
          "name": "stdout",
          "text": [
            "Epoch 97/100 loss 0.00165 val_loss 0.00365\n"
          ]
        },
        {
          "output_type": "stream",
          "name": "stderr",
          "text": [
            "100%|██████████| 110/110 [00:00<00:00, 316.15it/s]\n",
            "100%|██████████| 47/47 [00:00<00:00, 1007.04it/s]\n"
          ]
        },
        {
          "output_type": "stream",
          "name": "stdout",
          "text": [
            "Epoch 98/100 loss 0.00299 val_loss 0.00046\n"
          ]
        },
        {
          "output_type": "stream",
          "name": "stderr",
          "text": [
            "100%|██████████| 110/110 [00:00<00:00, 317.31it/s]\n",
            "100%|██████████| 47/47 [00:00<00:00, 972.82it/s]\n"
          ]
        },
        {
          "output_type": "stream",
          "name": "stdout",
          "text": [
            "Epoch 99/100 loss 0.00284 val_loss 0.04719\n"
          ]
        },
        {
          "output_type": "stream",
          "name": "stderr",
          "text": [
            "100%|██████████| 110/110 [00:00<00:00, 162.12it/s]\n",
            "100%|██████████| 47/47 [00:00<00:00, 300.10it/s]"
          ]
        },
        {
          "output_type": "stream",
          "name": "stdout",
          "text": [
            "Epoch 100/100 loss 0.01402 val_loss 0.00257\n"
          ]
        },
        {
          "output_type": "stream",
          "name": "stderr",
          "text": [
            "\n"
          ]
        }
      ]
    },
    {
      "cell_type": "code",
      "source": [
        "plt.figure(figsize=(16,8))\n",
        "plt.plot(losses, label='Train')\n",
        "plt.plot(val_losses, label='Val')\n",
        "plt.xlabel(\"Epochs\")\n",
        "plt.ylabel(\"Training MSE\")\n",
        "plt.legend()\n",
        "plt.show()"
      ],
      "metadata": {
        "colab": {
          "base_uri": "https://localhost:8080/",
          "height": 497
        },
        "outputId": "65f5bbdc-ae51-492a-afbf-9ab52b218cb9",
        "id": "V85E-MkInHfy"
      },
      "execution_count": 27,
      "outputs": [
        {
          "output_type": "display_data",
          "data": {
            "text/plain": [
              "<Figure size 1152x576 with 1 Axes>"
            ],
            "image/png": "[encoded data removed]"
          },
          "metadata": {
            "needs_background": "light"
          }
        }
      ]
    },
    {
      "cell_type": "code",
      "source": [
        "y_hats=net(torch.tensor(X_test.astype(float)).to(device).resize(len(X_test),1).float()).detach().cpu().numpy().reshape(1,-1).flatten()"
      ],
      "metadata": {
        "id": "PoxrsPmGk4jV"
      },
      "execution_count": 28,
      "outputs": []
    },
    {
      "cell_type": "code",
      "source": [
        "plt.figure(figsize=(16,8))\n",
        "plt.scatter(X_test,y_hats, label='Pred')\n",
        "plt.scatter(X_test,Y_test, label='Test')\n",
        "plt.xlabel(\"X\")\n",
        "plt.ylabel(\"Y\")\n",
        "plt.legend()\n",
        "plt.show()"
      ],
      "metadata": {
        "colab": {
          "base_uri": "https://localhost:8080/",
          "height": 497
        },
        "id": "JBQN8UfZWBnn",
        "outputId": "223ec032-62ec-4499-c8ae-456d13a1ce81"
      },
      "execution_count": 29,
      "outputs": [
        {
          "output_type": "display_data",
          "data": {
            "text/plain": [
              "<Figure size 1152x576 with 1 Axes>"
            ],
            "image/png": "[encoded data removed]"
          },
          "metadata": {
            "needs_background": "light"
          }
        }
      ]
    },
    {
      "cell_type": "code",
      "source": [
        "y_hats_train=net(torch.tensor(X_train.astype(float)).to(device).resize(len(X_train),1).float()).detach().cpu().numpy().reshape(1,-1).flatten()"
      ],
      "metadata": {
        "id": "AIBBf91ikUGi"
      },
      "execution_count": 30,
      "outputs": []
    },
    {
      "cell_type": "code",
      "source": [
        "plt.figure(figsize=(16,8))\n",
        "plt.scatter(X_train,y_hats_train, label='Pred')\n",
        "plt.scatter(X_train,Y_train, label='Train')\n",
        "plt.xlabel(\"X\")\n",
        "plt.ylabel(\"Y\")\n",
        "plt.legend()\n",
        "plt.show()"
      ],
      "metadata": {
        "colab": {
          "base_uri": "https://localhost:8080/",
          "height": 497
        },
        "id": "rfwyDHnogrVC",
        "outputId": "caa21f3b-ffee-45e5-a147-9f2dfe088dd7"
      },
      "execution_count": 31,
      "outputs": [
        {
          "output_type": "display_data",
          "data": {
            "text/plain": [
              "<Figure size 1152x576 with 1 Axes>"
            ],
            "image/png": "[encoded data removed]"
          },
          "metadata": {
            "needs_background": "light"
          }
        }
      ]
    },
    {
      "cell_type": "markdown",
      "source": [
        "Podemos ver un overfitting claro, ya que la la prediccion del set de entrenamiento es casi exactamente igual a la funcion en si(siendo su mse infimo)"
      ],
      "metadata": {
        "id": "_lpiJ9QMnHf0"
      }
    },
    {
      "cell_type": "markdown",
      "source": [
        "## Nnet con regularizacion"
      ],
      "metadata": {
        "id": "EbET-JTrnHf0"
      }
    },
    {
      "cell_type": "code",
      "source": [
        "class Net(nn.Module):\n",
        "\n",
        "    def __init__(self):\n",
        "        super(Net, self).__init__()\n",
        "        self.dropout = torch.nn.Dropout(0.4)\n",
        "        self.fc1 = nn.Linear(1, 120)\n",
        "        self.fc2 = nn.Linear(120, 250)\n",
        "        self.fc3 = nn.Linear(250, 120)\n",
        "        self.fc4 = nn.Linear(120, 120) \n",
        "        self.fc5 = nn.Linear(120, 84)\n",
        "        self.fc6 = nn.Linear(84, 1)\n",
        "\n",
        "    def forward(self, x):\n",
        "        x = F.relu(self.fc1(x))\n",
        "        x = self.dropout(x)\n",
        "        x = F.relu(self.fc2(x))\n",
        "        x = self.dropout(x)\n",
        "        x = F.relu(self.fc3(x))\n",
        "        x = self.dropout(x)\n",
        "        x = F.relu(self.fc4(x))\n",
        "        x = self.dropout(x)\n",
        "        x = F.relu(self.fc5(x))\n",
        "        x = self.fc6(x)\n",
        "        return x\n",
        "\n",
        "\n",
        "\n"
      ],
      "metadata": {
        "id": "99OJlm7qljqX"
      },
      "execution_count": 32,
      "outputs": []
    },
    {
      "cell_type": "code",
      "source": [
        "net = Net()\n",
        "print(net)\n",
        "optimizer=torch.optim.Adam(net.parameters(), lr=learning_rate,weight_decay=1e-5)\n",
        "criterion=nn.MSELoss()\n"
      ],
      "metadata": {
        "colab": {
          "base_uri": "https://localhost:8080/"
        },
        "outputId": "ce4d6e38-126c-4d54-c2e1-448c4cf74549",
        "id": "0ZacZfHFnHf0"
      },
      "execution_count": 33,
      "outputs": [
        {
          "output_type": "stream",
          "name": "stdout",
          "text": [
            "Net(\n",
            "  (dropout): Dropout(p=0.4, inplace=False)\n",
            "  (fc1): Linear(in_features=1, out_features=120, bias=True)\n",
            "  (fc2): Linear(in_features=120, out_features=250, bias=True)\n",
            "  (fc3): Linear(in_features=250, out_features=120, bias=True)\n",
            "  (fc4): Linear(in_features=120, out_features=120, bias=True)\n",
            "  (fc5): Linear(in_features=120, out_features=84, bias=True)\n",
            "  (fc6): Linear(in_features=84, out_features=1, bias=True)\n",
            ")\n"
          ]
        }
      ]
    },
    {
      "cell_type": "code",
      "source": [
        "losses,val_losses=fit(net, dataloader,criterion,optimizer, epochs=150)"
      ],
      "metadata": {
        "colab": {
          "base_uri": "https://localhost:8080/"
        },
        "outputId": "ade0f01b-48c5-4b9b-a8b0-16862ee486b3",
        "id": "G1j0jgfDnHf0"
      },
      "execution_count": 34,
      "outputs": [
        {
          "output_type": "stream",
          "name": "stderr",
          "text": [
            "100%|██████████| 110/110 [00:00<00:00, 285.32it/s]\n",
            "100%|██████████| 47/47 [00:00<00:00, 1020.13it/s]\n"
          ]
        },
        {
          "output_type": "stream",
          "name": "stdout",
          "text": [
            "Epoch 1/150 loss 2.35333 val_loss 0.80587\n"
          ]
        },
        {
          "output_type": "stream",
          "name": "stderr",
          "text": [
            "100%|██████████| 110/110 [00:00<00:00, 297.98it/s]\n",
            "100%|██████████| 47/47 [00:00<00:00, 1022.00it/s]\n"
          ]
        },
        {
          "output_type": "stream",
          "name": "stdout",
          "text": [
            "Epoch 2/150 loss 1.04921 val_loss 0.82303\n"
          ]
        },
        {
          "output_type": "stream",
          "name": "stderr",
          "text": [
            "100%|██████████| 110/110 [00:00<00:00, 280.49it/s]\n",
            "100%|██████████| 47/47 [00:00<00:00, 918.91it/s]\n"
          ]
        },
        {
          "output_type": "stream",
          "name": "stdout",
          "text": [
            "Epoch 3/150 loss 0.93366 val_loss 0.82105\n"
          ]
        },
        {
          "output_type": "stream",
          "name": "stderr",
          "text": [
            "100%|██████████| 110/110 [00:00<00:00, 300.47it/s]\n",
            "100%|██████████| 47/47 [00:00<00:00, 972.96it/s]\n"
          ]
        },
        {
          "output_type": "stream",
          "name": "stdout",
          "text": [
            "Epoch 4/150 loss 0.82973 val_loss 0.83416\n"
          ]
        },
        {
          "output_type": "stream",
          "name": "stderr",
          "text": [
            "100%|██████████| 110/110 [00:00<00:00, 298.17it/s]\n",
            "100%|██████████| 47/47 [00:00<00:00, 908.74it/s]\n"
          ]
        },
        {
          "output_type": "stream",
          "name": "stdout",
          "text": [
            "Epoch 5/150 loss 0.79551 val_loss 0.68753\n"
          ]
        },
        {
          "output_type": "stream",
          "name": "stderr",
          "text": [
            "100%|██████████| 110/110 [00:00<00:00, 294.27it/s]\n",
            "100%|██████████| 47/47 [00:00<00:00, 1009.15it/s]\n"
          ]
        },
        {
          "output_type": "stream",
          "name": "stdout",
          "text": [
            "Epoch 6/150 loss 0.72957 val_loss 0.80508\n"
          ]
        },
        {
          "output_type": "stream",
          "name": "stderr",
          "text": [
            "100%|██████████| 110/110 [00:00<00:00, 294.54it/s]\n",
            "100%|██████████| 47/47 [00:00<00:00, 1043.20it/s]\n"
          ]
        },
        {
          "output_type": "stream",
          "name": "stdout",
          "text": [
            "Epoch 7/150 loss 0.64172 val_loss 1.73200\n"
          ]
        },
        {
          "output_type": "stream",
          "name": "stderr",
          "text": [
            "100%|██████████| 110/110 [00:00<00:00, 276.25it/s]\n",
            "100%|██████████| 47/47 [00:00<00:00, 1066.40it/s]\n"
          ]
        },
        {
          "output_type": "stream",
          "name": "stdout",
          "text": [
            "Epoch 8/150 loss 0.67062 val_loss 1.16839\n"
          ]
        },
        {
          "output_type": "stream",
          "name": "stderr",
          "text": [
            "100%|██████████| 110/110 [00:00<00:00, 299.56it/s]\n",
            "100%|██████████| 47/47 [00:00<00:00, 1045.59it/s]\n"
          ]
        },
        {
          "output_type": "stream",
          "name": "stdout",
          "text": [
            "Epoch 9/150 loss 0.58885 val_loss 1.41824\n"
          ]
        },
        {
          "output_type": "stream",
          "name": "stderr",
          "text": [
            "100%|██████████| 110/110 [00:00<00:00, 292.92it/s]\n",
            "100%|██████████| 47/47 [00:00<00:00, 1026.05it/s]\n"
          ]
        },
        {
          "output_type": "stream",
          "name": "stdout",
          "text": [
            "Epoch 10/150 loss 0.58991 val_loss 0.85038\n"
          ]
        },
        {
          "output_type": "stream",
          "name": "stderr",
          "text": [
            "100%|██████████| 110/110 [00:00<00:00, 292.63it/s]\n",
            "100%|██████████| 47/47 [00:00<00:00, 983.27it/s]\n"
          ]
        },
        {
          "output_type": "stream",
          "name": "stdout",
          "text": [
            "Epoch 11/150 loss 0.54412 val_loss 0.84689\n"
          ]
        },
        {
          "output_type": "stream",
          "name": "stderr",
          "text": [
            "100%|██████████| 110/110 [00:00<00:00, 301.73it/s]\n",
            "100%|██████████| 47/47 [00:00<00:00, 1048.45it/s]\n"
          ]
        },
        {
          "output_type": "stream",
          "name": "stdout",
          "text": [
            "Epoch 12/150 loss 0.55397 val_loss 1.22307\n"
          ]
        },
        {
          "output_type": "stream",
          "name": "stderr",
          "text": [
            "100%|██████████| 110/110 [00:00<00:00, 296.77it/s]\n",
            "100%|██████████| 47/47 [00:00<00:00, 1078.56it/s]\n"
          ]
        },
        {
          "output_type": "stream",
          "name": "stdout",
          "text": [
            "Epoch 13/150 loss 0.49740 val_loss 1.13265\n"
          ]
        },
        {
          "output_type": "stream",
          "name": "stderr",
          "text": [
            "100%|██████████| 110/110 [00:00<00:00, 299.86it/s]\n",
            "100%|██████████| 47/47 [00:00<00:00, 1055.57it/s]\n"
          ]
        },
        {
          "output_type": "stream",
          "name": "stdout",
          "text": [
            "Epoch 14/150 loss 0.49368 val_loss 1.17930\n"
          ]
        },
        {
          "output_type": "stream",
          "name": "stderr",
          "text": [
            "100%|██████████| 110/110 [00:00<00:00, 291.63it/s]\n",
            "100%|██████████| 47/47 [00:00<00:00, 1084.35it/s]\n"
          ]
        },
        {
          "output_type": "stream",
          "name": "stdout",
          "text": [
            "Epoch 15/150 loss 0.49095 val_loss 0.90757\n"
          ]
        },
        {
          "output_type": "stream",
          "name": "stderr",
          "text": [
            "100%|██████████| 110/110 [00:00<00:00, 293.63it/s]\n",
            "100%|██████████| 47/47 [00:00<00:00, 1021.96it/s]\n"
          ]
        },
        {
          "output_type": "stream",
          "name": "stdout",
          "text": [
            "Epoch 16/150 loss 0.48151 val_loss 1.18667\n"
          ]
        },
        {
          "output_type": "stream",
          "name": "stderr",
          "text": [
            "100%|██████████| 110/110 [00:00<00:00, 277.25it/s]\n",
            "100%|██████████| 47/47 [00:00<00:00, 1036.69it/s]\n"
          ]
        },
        {
          "output_type": "stream",
          "name": "stdout",
          "text": [
            "Epoch 17/150 loss 0.41925 val_loss 1.09909\n"
          ]
        },
        {
          "output_type": "stream",
          "name": "stderr",
          "text": [
            "100%|██████████| 110/110 [00:00<00:00, 295.07it/s]\n",
            "100%|██████████| 47/47 [00:00<00:00, 1025.45it/s]\n"
          ]
        },
        {
          "output_type": "stream",
          "name": "stdout",
          "text": [
            "Epoch 18/150 loss 0.42774 val_loss 1.04313\n"
          ]
        },
        {
          "output_type": "stream",
          "name": "stderr",
          "text": [
            "100%|██████████| 110/110 [00:00<00:00, 282.51it/s]\n",
            "100%|██████████| 47/47 [00:00<00:00, 972.44it/s]\n"
          ]
        },
        {
          "output_type": "stream",
          "name": "stdout",
          "text": [
            "Epoch 19/150 loss 0.39082 val_loss 1.01502\n"
          ]
        },
        {
          "output_type": "stream",
          "name": "stderr",
          "text": [
            "100%|██████████| 110/110 [00:00<00:00, 295.70it/s]\n",
            "100%|██████████| 47/47 [00:00<00:00, 1075.52it/s]\n"
          ]
        },
        {
          "output_type": "stream",
          "name": "stdout",
          "text": [
            "Epoch 20/150 loss 0.38475 val_loss 0.99470\n"
          ]
        },
        {
          "output_type": "stream",
          "name": "stderr",
          "text": [
            "100%|██████████| 110/110 [00:00<00:00, 304.03it/s]\n",
            "100%|██████████| 47/47 [00:00<00:00, 1032.27it/s]\n"
          ]
        },
        {
          "output_type": "stream",
          "name": "stdout",
          "text": [
            "Epoch 21/150 loss 0.36354 val_loss 0.79131\n"
          ]
        },
        {
          "output_type": "stream",
          "name": "stderr",
          "text": [
            "100%|██████████| 110/110 [00:00<00:00, 293.75it/s]\n",
            "100%|██████████| 47/47 [00:00<00:00, 1080.82it/s]\n"
          ]
        },
        {
          "output_type": "stream",
          "name": "stdout",
          "text": [
            "Epoch 22/150 loss 0.34111 val_loss 1.06757\n"
          ]
        },
        {
          "output_type": "stream",
          "name": "stderr",
          "text": [
            "100%|██████████| 110/110 [00:00<00:00, 294.44it/s]\n",
            "100%|██████████| 47/47 [00:00<00:00, 1099.71it/s]\n"
          ]
        },
        {
          "output_type": "stream",
          "name": "stdout",
          "text": [
            "Epoch 23/150 loss 0.31761 val_loss 0.86348\n"
          ]
        },
        {
          "output_type": "stream",
          "name": "stderr",
          "text": [
            "100%|██████████| 110/110 [00:00<00:00, 288.16it/s]\n",
            "100%|██████████| 47/47 [00:00<00:00, 1073.80it/s]\n"
          ]
        },
        {
          "output_type": "stream",
          "name": "stdout",
          "text": [
            "Epoch 24/150 loss 0.31540 val_loss 1.16484\n"
          ]
        },
        {
          "output_type": "stream",
          "name": "stderr",
          "text": [
            "100%|██████████| 110/110 [00:00<00:00, 282.58it/s]\n",
            "100%|██████████| 47/47 [00:00<00:00, 998.05it/s]\n"
          ]
        },
        {
          "output_type": "stream",
          "name": "stdout",
          "text": [
            "Epoch 25/150 loss 0.28543 val_loss 0.72481\n"
          ]
        },
        {
          "output_type": "stream",
          "name": "stderr",
          "text": [
            "100%|██████████| 110/110 [00:00<00:00, 287.13it/s]\n",
            "100%|██████████| 47/47 [00:00<00:00, 990.17it/s]\n"
          ]
        },
        {
          "output_type": "stream",
          "name": "stdout",
          "text": [
            "Epoch 26/150 loss 0.28613 val_loss 0.68581\n"
          ]
        },
        {
          "output_type": "stream",
          "name": "stderr",
          "text": [
            "100%|██████████| 110/110 [00:00<00:00, 304.15it/s]\n",
            "100%|██████████| 47/47 [00:00<00:00, 1006.17it/s]\n"
          ]
        },
        {
          "output_type": "stream",
          "name": "stdout",
          "text": [
            "Epoch 27/150 loss 0.30095 val_loss 0.49176\n"
          ]
        },
        {
          "output_type": "stream",
          "name": "stderr",
          "text": [
            "100%|██████████| 110/110 [00:00<00:00, 300.15it/s]\n",
            "100%|██████████| 47/47 [00:00<00:00, 1020.49it/s]\n"
          ]
        },
        {
          "output_type": "stream",
          "name": "stdout",
          "text": [
            "Epoch 28/150 loss 0.28016 val_loss 0.56377\n"
          ]
        },
        {
          "output_type": "stream",
          "name": "stderr",
          "text": [
            "100%|██████████| 110/110 [00:00<00:00, 287.75it/s]\n",
            "100%|██████████| 47/47 [00:00<00:00, 965.71it/s]\n"
          ]
        },
        {
          "output_type": "stream",
          "name": "stdout",
          "text": [
            "Epoch 29/150 loss 0.25313 val_loss 0.50256\n"
          ]
        },
        {
          "output_type": "stream",
          "name": "stderr",
          "text": [
            "100%|██████████| 110/110 [00:00<00:00, 289.43it/s]\n",
            "100%|██████████| 47/47 [00:00<00:00, 1058.39it/s]\n"
          ]
        },
        {
          "output_type": "stream",
          "name": "stdout",
          "text": [
            "Epoch 30/150 loss 0.22586 val_loss 0.76497\n"
          ]
        },
        {
          "output_type": "stream",
          "name": "stderr",
          "text": [
            "100%|██████████| 110/110 [00:00<00:00, 298.30it/s]\n",
            "100%|██████████| 47/47 [00:00<00:00, 931.77it/s]\n"
          ]
        },
        {
          "output_type": "stream",
          "name": "stdout",
          "text": [
            "Epoch 31/150 loss 0.23270 val_loss 0.68783\n"
          ]
        },
        {
          "output_type": "stream",
          "name": "stderr",
          "text": [
            "100%|██████████| 110/110 [00:00<00:00, 296.04it/s]\n",
            "100%|██████████| 47/47 [00:00<00:00, 967.13it/s]\n"
          ]
        },
        {
          "output_type": "stream",
          "name": "stdout",
          "text": [
            "Epoch 32/150 loss 0.22839 val_loss 0.41488\n"
          ]
        },
        {
          "output_type": "stream",
          "name": "stderr",
          "text": [
            "100%|██████████| 110/110 [00:00<00:00, 281.80it/s]\n",
            "100%|██████████| 47/47 [00:00<00:00, 974.14it/s]\n"
          ]
        },
        {
          "output_type": "stream",
          "name": "stdout",
          "text": [
            "Epoch 33/150 loss 0.22621 val_loss 0.29206\n"
          ]
        },
        {
          "output_type": "stream",
          "name": "stderr",
          "text": [
            "100%|██████████| 110/110 [00:00<00:00, 294.63it/s]\n",
            "100%|██████████| 47/47 [00:00<00:00, 1023.84it/s]\n"
          ]
        },
        {
          "output_type": "stream",
          "name": "stdout",
          "text": [
            "Epoch 34/150 loss 0.22638 val_loss 0.83632\n"
          ]
        },
        {
          "output_type": "stream",
          "name": "stderr",
          "text": [
            "100%|██████████| 110/110 [00:00<00:00, 289.39it/s]\n",
            "100%|██████████| 47/47 [00:00<00:00, 787.75it/s]\n"
          ]
        },
        {
          "output_type": "stream",
          "name": "stdout",
          "text": [
            "Epoch 35/150 loss 0.21355 val_loss 0.40699\n"
          ]
        },
        {
          "output_type": "stream",
          "name": "stderr",
          "text": [
            "100%|██████████| 110/110 [00:00<00:00, 297.06it/s]\n",
            "100%|██████████| 47/47 [00:00<00:00, 983.87it/s]\n"
          ]
        },
        {
          "output_type": "stream",
          "name": "stdout",
          "text": [
            "Epoch 36/150 loss 0.20185 val_loss 0.39003\n"
          ]
        },
        {
          "output_type": "stream",
          "name": "stderr",
          "text": [
            "100%|██████████| 110/110 [00:00<00:00, 129.83it/s]\n",
            "100%|██████████| 47/47 [00:00<00:00, 982.69it/s]\n"
          ]
        },
        {
          "output_type": "stream",
          "name": "stdout",
          "text": [
            "Epoch 37/150 loss 0.19774 val_loss 0.49743\n"
          ]
        },
        {
          "output_type": "stream",
          "name": "stderr",
          "text": [
            "100%|██████████| 110/110 [00:00<00:00, 156.82it/s]\n",
            "100%|██████████| 47/47 [00:00<00:00, 261.33it/s]\n"
          ]
        },
        {
          "output_type": "stream",
          "name": "stdout",
          "text": [
            "Epoch 38/150 loss 0.18535 val_loss 0.49633\n"
          ]
        },
        {
          "output_type": "stream",
          "name": "stderr",
          "text": [
            "100%|██████████| 110/110 [00:00<00:00, 296.21it/s]\n",
            "100%|██████████| 47/47 [00:00<00:00, 950.21it/s]\n"
          ]
        },
        {
          "output_type": "stream",
          "name": "stdout",
          "text": [
            "Epoch 39/150 loss 0.18775 val_loss 0.24775\n"
          ]
        },
        {
          "output_type": "stream",
          "name": "stderr",
          "text": [
            "100%|██████████| 110/110 [00:00<00:00, 290.86it/s]\n",
            "100%|██████████| 47/47 [00:00<00:00, 1037.12it/s]\n"
          ]
        },
        {
          "output_type": "stream",
          "name": "stdout",
          "text": [
            "Epoch 40/150 loss 0.19727 val_loss 0.30633\n"
          ]
        },
        {
          "output_type": "stream",
          "name": "stderr",
          "text": [
            "100%|██████████| 110/110 [00:00<00:00, 287.52it/s]\n",
            "100%|██████████| 47/47 [00:00<00:00, 1035.52it/s]\n"
          ]
        },
        {
          "output_type": "stream",
          "name": "stdout",
          "text": [
            "Epoch 41/150 loss 0.18205 val_loss 0.22722\n"
          ]
        },
        {
          "output_type": "stream",
          "name": "stderr",
          "text": [
            "100%|██████████| 110/110 [00:00<00:00, 288.39it/s]\n",
            "100%|██████████| 47/47 [00:00<00:00, 1010.93it/s]\n"
          ]
        },
        {
          "output_type": "stream",
          "name": "stdout",
          "text": [
            "Epoch 42/150 loss 0.18378 val_loss 0.32427\n"
          ]
        },
        {
          "output_type": "stream",
          "name": "stderr",
          "text": [
            "100%|██████████| 110/110 [00:00<00:00, 277.60it/s]\n",
            "100%|██████████| 47/47 [00:00<00:00, 956.84it/s]\n"
          ]
        },
        {
          "output_type": "stream",
          "name": "stdout",
          "text": [
            "Epoch 43/150 loss 0.17532 val_loss 0.24390\n"
          ]
        },
        {
          "output_type": "stream",
          "name": "stderr",
          "text": [
            "100%|██████████| 110/110 [00:00<00:00, 287.36it/s]\n",
            "100%|██████████| 47/47 [00:00<00:00, 983.31it/s]\n"
          ]
        },
        {
          "output_type": "stream",
          "name": "stdout",
          "text": [
            "Epoch 44/150 loss 0.15953 val_loss 0.24877\n"
          ]
        },
        {
          "output_type": "stream",
          "name": "stderr",
          "text": [
            "100%|██████████| 110/110 [00:00<00:00, 295.62it/s]\n",
            "100%|██████████| 47/47 [00:00<00:00, 1113.15it/s]\n"
          ]
        },
        {
          "output_type": "stream",
          "name": "stdout",
          "text": [
            "Epoch 45/150 loss 0.17071 val_loss 0.15514\n"
          ]
        },
        {
          "output_type": "stream",
          "name": "stderr",
          "text": [
            "100%|██████████| 110/110 [00:00<00:00, 292.92it/s]\n",
            "100%|██████████| 47/47 [00:00<00:00, 1013.24it/s]\n"
          ]
        },
        {
          "output_type": "stream",
          "name": "stdout",
          "text": [
            "Epoch 46/150 loss 0.15842 val_loss 0.22554\n"
          ]
        },
        {
          "output_type": "stream",
          "name": "stderr",
          "text": [
            "100%|██████████| 110/110 [00:00<00:00, 289.07it/s]\n",
            "100%|██████████| 47/47 [00:00<00:00, 1041.40it/s]\n"
          ]
        },
        {
          "output_type": "stream",
          "name": "stdout",
          "text": [
            "Epoch 47/150 loss 0.15736 val_loss 0.36079\n"
          ]
        },
        {
          "output_type": "stream",
          "name": "stderr",
          "text": [
            "100%|██████████| 110/110 [00:00<00:00, 292.53it/s]\n",
            "100%|██████████| 47/47 [00:00<00:00, 977.88it/s]\n"
          ]
        },
        {
          "output_type": "stream",
          "name": "stdout",
          "text": [
            "Epoch 48/150 loss 0.15266 val_loss 0.42399\n"
          ]
        },
        {
          "output_type": "stream",
          "name": "stderr",
          "text": [
            "100%|██████████| 110/110 [00:00<00:00, 289.11it/s]\n",
            "100%|██████████| 47/47 [00:00<00:00, 1057.60it/s]\n"
          ]
        },
        {
          "output_type": "stream",
          "name": "stdout",
          "text": [
            "Epoch 49/150 loss 0.15861 val_loss 0.31483\n"
          ]
        },
        {
          "output_type": "stream",
          "name": "stderr",
          "text": [
            "100%|██████████| 110/110 [00:00<00:00, 293.53it/s]\n",
            "100%|██████████| 47/47 [00:00<00:00, 993.10it/s]\n"
          ]
        },
        {
          "output_type": "stream",
          "name": "stdout",
          "text": [
            "Epoch 50/150 loss 0.15403 val_loss 0.21249\n"
          ]
        },
        {
          "output_type": "stream",
          "name": "stderr",
          "text": [
            "100%|██████████| 110/110 [00:00<00:00, 293.79it/s]\n",
            "100%|██████████| 47/47 [00:00<00:00, 1089.91it/s]\n"
          ]
        },
        {
          "output_type": "stream",
          "name": "stdout",
          "text": [
            "Epoch 51/150 loss 0.14638 val_loss 0.38995\n"
          ]
        },
        {
          "output_type": "stream",
          "name": "stderr",
          "text": [
            "100%|██████████| 110/110 [00:00<00:00, 292.33it/s]\n",
            "100%|██████████| 47/47 [00:00<00:00, 1052.00it/s]\n"
          ]
        },
        {
          "output_type": "stream",
          "name": "stdout",
          "text": [
            "Epoch 52/150 loss 0.13456 val_loss 0.23296\n"
          ]
        },
        {
          "output_type": "stream",
          "name": "stderr",
          "text": [
            "100%|██████████| 110/110 [00:00<00:00, 300.41it/s]\n",
            "100%|██████████| 47/47 [00:00<00:00, 1038.82it/s]\n"
          ]
        },
        {
          "output_type": "stream",
          "name": "stdout",
          "text": [
            "Epoch 53/150 loss 0.14832 val_loss 0.24207\n"
          ]
        },
        {
          "output_type": "stream",
          "name": "stderr",
          "text": [
            "100%|██████████| 110/110 [00:00<00:00, 289.01it/s]\n",
            "100%|██████████| 47/47 [00:00<00:00, 1042.55it/s]\n"
          ]
        },
        {
          "output_type": "stream",
          "name": "stdout",
          "text": [
            "Epoch 54/150 loss 0.14785 val_loss 0.26486\n"
          ]
        },
        {
          "output_type": "stream",
          "name": "stderr",
          "text": [
            "100%|██████████| 110/110 [00:00<00:00, 290.66it/s]\n",
            "100%|██████████| 47/47 [00:00<00:00, 1059.13it/s]\n"
          ]
        },
        {
          "output_type": "stream",
          "name": "stdout",
          "text": [
            "Epoch 55/150 loss 0.14542 val_loss 0.19430\n"
          ]
        },
        {
          "output_type": "stream",
          "name": "stderr",
          "text": [
            "100%|██████████| 110/110 [00:00<00:00, 259.57it/s]\n",
            "100%|██████████| 47/47 [00:00<00:00, 940.06it/s]\n"
          ]
        },
        {
          "output_type": "stream",
          "name": "stdout",
          "text": [
            "Epoch 56/150 loss 0.14240 val_loss 0.23160\n"
          ]
        },
        {
          "output_type": "stream",
          "name": "stderr",
          "text": [
            "100%|██████████| 110/110 [00:00<00:00, 143.79it/s]\n",
            "100%|██████████| 47/47 [00:00<00:00, 533.35it/s]\n"
          ]
        },
        {
          "output_type": "stream",
          "name": "stdout",
          "text": [
            "Epoch 57/150 loss 0.15213 val_loss 0.21590\n"
          ]
        },
        {
          "output_type": "stream",
          "name": "stderr",
          "text": [
            "100%|██████████| 110/110 [00:00<00:00, 130.30it/s]\n",
            "100%|██████████| 47/47 [00:00<00:00, 548.44it/s]\n"
          ]
        },
        {
          "output_type": "stream",
          "name": "stdout",
          "text": [
            "Epoch 58/150 loss 0.14381 val_loss 0.20388\n"
          ]
        },
        {
          "output_type": "stream",
          "name": "stderr",
          "text": [
            "100%|██████████| 110/110 [00:01<00:00, 93.62it/s] \n",
            "100%|██████████| 47/47 [00:00<00:00, 583.30it/s]\n"
          ]
        },
        {
          "output_type": "stream",
          "name": "stdout",
          "text": [
            "Epoch 59/150 loss 0.13614 val_loss 0.25313\n"
          ]
        },
        {
          "output_type": "stream",
          "name": "stderr",
          "text": [
            "100%|██████████| 110/110 [00:00<00:00, 178.37it/s]\n",
            "100%|██████████| 47/47 [00:00<00:00, 990.86it/s]\n"
          ]
        },
        {
          "output_type": "stream",
          "name": "stdout",
          "text": [
            "Epoch 60/150 loss 0.14204 val_loss 0.26925\n"
          ]
        },
        {
          "output_type": "stream",
          "name": "stderr",
          "text": [
            "100%|██████████| 110/110 [00:00<00:00, 291.41it/s]\n",
            "100%|██████████| 47/47 [00:00<00:00, 1106.11it/s]\n"
          ]
        },
        {
          "output_type": "stream",
          "name": "stdout",
          "text": [
            "Epoch 61/150 loss 0.13786 val_loss 0.25016\n"
          ]
        },
        {
          "output_type": "stream",
          "name": "stderr",
          "text": [
            "100%|██████████| 110/110 [00:00<00:00, 292.76it/s]\n",
            "100%|██████████| 47/47 [00:00<00:00, 1024.45it/s]\n"
          ]
        },
        {
          "output_type": "stream",
          "name": "stdout",
          "text": [
            "Epoch 62/150 loss 0.13152 val_loss 0.23114\n"
          ]
        },
        {
          "output_type": "stream",
          "name": "stderr",
          "text": [
            "100%|██████████| 110/110 [00:00<00:00, 281.99it/s]\n",
            "100%|██████████| 47/47 [00:00<00:00, 1031.80it/s]\n"
          ]
        },
        {
          "output_type": "stream",
          "name": "stdout",
          "text": [
            "Epoch 63/150 loss 0.12591 val_loss 0.21270\n"
          ]
        },
        {
          "output_type": "stream",
          "name": "stderr",
          "text": [
            "100%|██████████| 110/110 [00:00<00:00, 295.73it/s]\n",
            "100%|██████████| 47/47 [00:00<00:00, 1008.73it/s]\n"
          ]
        },
        {
          "output_type": "stream",
          "name": "stdout",
          "text": [
            "Epoch 64/150 loss 0.13549 val_loss 0.19179\n"
          ]
        },
        {
          "output_type": "stream",
          "name": "stderr",
          "text": [
            "100%|██████████| 110/110 [00:00<00:00, 289.43it/s]\n",
            "100%|██████████| 47/47 [00:00<00:00, 1000.72it/s]\n"
          ]
        },
        {
          "output_type": "stream",
          "name": "stdout",
          "text": [
            "Epoch 65/150 loss 0.13212 val_loss 0.20132\n"
          ]
        },
        {
          "output_type": "stream",
          "name": "stderr",
          "text": [
            "100%|██████████| 110/110 [00:00<00:00, 294.02it/s]\n",
            "100%|██████████| 47/47 [00:00<00:00, 1032.27it/s]\n"
          ]
        },
        {
          "output_type": "stream",
          "name": "stdout",
          "text": [
            "Epoch 66/150 loss 0.12723 val_loss 0.32622\n"
          ]
        },
        {
          "output_type": "stream",
          "name": "stderr",
          "text": [
            "100%|██████████| 110/110 [00:00<00:00, 295.61it/s]\n",
            "100%|██████████| 47/47 [00:00<00:00, 995.19it/s]\n"
          ]
        },
        {
          "output_type": "stream",
          "name": "stdout",
          "text": [
            "Epoch 67/150 loss 0.12210 val_loss 0.15322\n"
          ]
        },
        {
          "output_type": "stream",
          "name": "stderr",
          "text": [
            "100%|██████████| 110/110 [00:00<00:00, 287.17it/s]\n",
            "100%|██████████| 47/47 [00:00<00:00, 1008.20it/s]\n"
          ]
        },
        {
          "output_type": "stream",
          "name": "stdout",
          "text": [
            "Epoch 68/150 loss 0.12233 val_loss 0.20826\n"
          ]
        },
        {
          "output_type": "stream",
          "name": "stderr",
          "text": [
            "100%|██████████| 110/110 [00:00<00:00, 272.06it/s]\n",
            "100%|██████████| 47/47 [00:00<00:00, 968.28it/s]\n"
          ]
        },
        {
          "output_type": "stream",
          "name": "stdout",
          "text": [
            "Epoch 69/150 loss 0.13195 val_loss 0.21593\n"
          ]
        },
        {
          "output_type": "stream",
          "name": "stderr",
          "text": [
            "100%|██████████| 110/110 [00:00<00:00, 282.89it/s]\n",
            "100%|██████████| 47/47 [00:00<00:00, 1015.79it/s]\n"
          ]
        },
        {
          "output_type": "stream",
          "name": "stdout",
          "text": [
            "Epoch 70/150 loss 0.12530 val_loss 0.32453\n"
          ]
        },
        {
          "output_type": "stream",
          "name": "stderr",
          "text": [
            "100%|██████████| 110/110 [00:00<00:00, 290.56it/s]\n",
            "100%|██████████| 47/47 [00:00<00:00, 1067.56it/s]\n"
          ]
        },
        {
          "output_type": "stream",
          "name": "stdout",
          "text": [
            "Epoch 71/150 loss 0.12713 val_loss 0.32924\n"
          ]
        },
        {
          "output_type": "stream",
          "name": "stderr",
          "text": [
            "100%|██████████| 110/110 [00:00<00:00, 284.33it/s]\n",
            "100%|██████████| 47/47 [00:00<00:00, 967.76it/s]\n"
          ]
        },
        {
          "output_type": "stream",
          "name": "stdout",
          "text": [
            "Epoch 72/150 loss 0.13263 val_loss 0.16758\n"
          ]
        },
        {
          "output_type": "stream",
          "name": "stderr",
          "text": [
            "100%|██████████| 110/110 [00:00<00:00, 292.07it/s]\n",
            "100%|██████████| 47/47 [00:00<00:00, 990.45it/s]\n"
          ]
        },
        {
          "output_type": "stream",
          "name": "stdout",
          "text": [
            "Epoch 73/150 loss 0.11877 val_loss 0.22529\n"
          ]
        },
        {
          "output_type": "stream",
          "name": "stderr",
          "text": [
            "100%|██████████| 110/110 [00:00<00:00, 271.92it/s]\n",
            "100%|██████████| 47/47 [00:00<00:00, 945.32it/s]\n"
          ]
        },
        {
          "output_type": "stream",
          "name": "stdout",
          "text": [
            "Epoch 74/150 loss 0.12921 val_loss 0.27227\n"
          ]
        },
        {
          "output_type": "stream",
          "name": "stderr",
          "text": [
            "100%|██████████| 110/110 [00:00<00:00, 296.86it/s]\n",
            "100%|██████████| 47/47 [00:00<00:00, 1022.98it/s]\n"
          ]
        },
        {
          "output_type": "stream",
          "name": "stdout",
          "text": [
            "Epoch 75/150 loss 0.12369 val_loss 0.09628\n"
          ]
        },
        {
          "output_type": "stream",
          "name": "stderr",
          "text": [
            "100%|██████████| 110/110 [00:00<00:00, 298.56it/s]\n",
            "100%|██████████| 47/47 [00:00<00:00, 1060.54it/s]\n"
          ]
        },
        {
          "output_type": "stream",
          "name": "stdout",
          "text": [
            "Epoch 76/150 loss 0.12605 val_loss 0.20902\n"
          ]
        },
        {
          "output_type": "stream",
          "name": "stderr",
          "text": [
            "100%|██████████| 110/110 [00:00<00:00, 291.82it/s]\n",
            "100%|██████████| 47/47 [00:00<00:00, 985.29it/s]\n"
          ]
        },
        {
          "output_type": "stream",
          "name": "stdout",
          "text": [
            "Epoch 77/150 loss 0.12368 val_loss 0.12145\n"
          ]
        },
        {
          "output_type": "stream",
          "name": "stderr",
          "text": [
            "100%|██████████| 110/110 [00:00<00:00, 296.50it/s]\n",
            "100%|██████████| 47/47 [00:00<00:00, 1025.97it/s]\n"
          ]
        },
        {
          "output_type": "stream",
          "name": "stdout",
          "text": [
            "Epoch 78/150 loss 0.12189 val_loss 0.16042\n"
          ]
        },
        {
          "output_type": "stream",
          "name": "stderr",
          "text": [
            "100%|██████████| 110/110 [00:00<00:00, 289.64it/s]\n",
            "100%|██████████| 47/47 [00:00<00:00, 1038.06it/s]\n"
          ]
        },
        {
          "output_type": "stream",
          "name": "stdout",
          "text": [
            "Epoch 79/150 loss 0.12141 val_loss 0.16586\n"
          ]
        },
        {
          "output_type": "stream",
          "name": "stderr",
          "text": [
            "100%|██████████| 110/110 [00:00<00:00, 289.90it/s]\n",
            "100%|██████████| 47/47 [00:00<00:00, 1028.33it/s]\n"
          ]
        },
        {
          "output_type": "stream",
          "name": "stdout",
          "text": [
            "Epoch 80/150 loss 0.11688 val_loss 0.22158\n"
          ]
        },
        {
          "output_type": "stream",
          "name": "stderr",
          "text": [
            "100%|██████████| 110/110 [00:00<00:00, 288.50it/s]\n",
            "100%|██████████| 47/47 [00:00<00:00, 1048.80it/s]\n"
          ]
        },
        {
          "output_type": "stream",
          "name": "stdout",
          "text": [
            "Epoch 81/150 loss 0.11785 val_loss 0.18874\n"
          ]
        },
        {
          "output_type": "stream",
          "name": "stderr",
          "text": [
            "100%|██████████| 110/110 [00:00<00:00, 288.33it/s]\n",
            "100%|██████████| 47/47 [00:00<00:00, 923.49it/s]\n"
          ]
        },
        {
          "output_type": "stream",
          "name": "stdout",
          "text": [
            "Epoch 82/150 loss 0.10786 val_loss 0.36807\n"
          ]
        },
        {
          "output_type": "stream",
          "name": "stderr",
          "text": [
            "100%|██████████| 110/110 [00:00<00:00, 227.78it/s]\n",
            "100%|██████████| 47/47 [00:00<00:00, 987.34it/s]\n"
          ]
        },
        {
          "output_type": "stream",
          "name": "stdout",
          "text": [
            "Epoch 83/150 loss 0.11859 val_loss 0.16685\n"
          ]
        },
        {
          "output_type": "stream",
          "name": "stderr",
          "text": [
            "100%|██████████| 110/110 [00:00<00:00, 236.46it/s]\n",
            "100%|██████████| 47/47 [00:00<00:00, 1004.13it/s]\n"
          ]
        },
        {
          "output_type": "stream",
          "name": "stdout",
          "text": [
            "Epoch 84/150 loss 0.10556 val_loss 0.20621\n"
          ]
        },
        {
          "output_type": "stream",
          "name": "stderr",
          "text": [
            "100%|██████████| 110/110 [00:00<00:00, 202.55it/s]\n",
            "100%|██████████| 47/47 [00:00<00:00, 447.63it/s]\n"
          ]
        },
        {
          "output_type": "stream",
          "name": "stdout",
          "text": [
            "Epoch 85/150 loss 0.10852 val_loss 0.23379\n"
          ]
        },
        {
          "output_type": "stream",
          "name": "stderr",
          "text": [
            "100%|██████████| 110/110 [00:00<00:00, 201.58it/s]\n",
            "100%|██████████| 47/47 [00:00<00:00, 978.44it/s]\n"
          ]
        },
        {
          "output_type": "stream",
          "name": "stdout",
          "text": [
            "Epoch 86/150 loss 0.11160 val_loss 0.26082\n"
          ]
        },
        {
          "output_type": "stream",
          "name": "stderr",
          "text": [
            "100%|██████████| 110/110 [00:00<00:00, 235.11it/s]\n",
            "100%|██████████| 47/47 [00:00<00:00, 1025.36it/s]\n"
          ]
        },
        {
          "output_type": "stream",
          "name": "stdout",
          "text": [
            "Epoch 87/150 loss 0.11856 val_loss 0.16918\n"
          ]
        },
        {
          "output_type": "stream",
          "name": "stderr",
          "text": [
            "100%|██████████| 110/110 [00:00<00:00, 111.01it/s]\n",
            "100%|██████████| 47/47 [00:00<00:00, 382.82it/s]\n"
          ]
        },
        {
          "output_type": "stream",
          "name": "stdout",
          "text": [
            "Epoch 88/150 loss 0.10652 val_loss 0.28311\n"
          ]
        },
        {
          "output_type": "stream",
          "name": "stderr",
          "text": [
            "100%|██████████| 110/110 [00:00<00:00, 121.71it/s]\n",
            "100%|██████████| 47/47 [00:00<00:00, 566.64it/s]\n"
          ]
        },
        {
          "output_type": "stream",
          "name": "stdout",
          "text": [
            "Epoch 89/150 loss 0.12295 val_loss 0.15298\n"
          ]
        },
        {
          "output_type": "stream",
          "name": "stderr",
          "text": [
            "100%|██████████| 110/110 [00:00<00:00, 127.09it/s]\n",
            "100%|██████████| 47/47 [00:00<00:00, 224.99it/s]\n"
          ]
        },
        {
          "output_type": "stream",
          "name": "stdout",
          "text": [
            "Epoch 90/150 loss 0.10973 val_loss 0.18880\n"
          ]
        },
        {
          "output_type": "stream",
          "name": "stderr",
          "text": [
            "100%|██████████| 110/110 [00:00<00:00, 136.26it/s]\n",
            "100%|██████████| 47/47 [00:00<00:00, 813.07it/s]\n"
          ]
        },
        {
          "output_type": "stream",
          "name": "stdout",
          "text": [
            "Epoch 91/150 loss 0.10375 val_loss 0.10084\n"
          ]
        },
        {
          "output_type": "stream",
          "name": "stderr",
          "text": [
            "100%|██████████| 110/110 [00:00<00:00, 130.75it/s]\n",
            "100%|██████████| 47/47 [00:00<00:00, 470.71it/s]\n"
          ]
        },
        {
          "output_type": "stream",
          "name": "stdout",
          "text": [
            "Epoch 92/150 loss 0.10493 val_loss 0.15171\n"
          ]
        },
        {
          "output_type": "stream",
          "name": "stderr",
          "text": [
            "100%|██████████| 110/110 [00:00<00:00, 167.51it/s]\n",
            "100%|██████████| 47/47 [00:00<00:00, 1007.52it/s]\n"
          ]
        },
        {
          "output_type": "stream",
          "name": "stdout",
          "text": [
            "Epoch 93/150 loss 0.10402 val_loss 0.14186\n"
          ]
        },
        {
          "output_type": "stream",
          "name": "stderr",
          "text": [
            "100%|██████████| 110/110 [00:00<00:00, 139.10it/s]\n",
            "100%|██████████| 47/47 [00:00<00:00, 421.55it/s]\n"
          ]
        },
        {
          "output_type": "stream",
          "name": "stdout",
          "text": [
            "Epoch 94/150 loss 0.10307 val_loss 0.17986\n"
          ]
        },
        {
          "output_type": "stream",
          "name": "stderr",
          "text": [
            "100%|██████████| 110/110 [00:00<00:00, 225.95it/s]\n",
            "100%|██████████| 47/47 [00:00<00:00, 953.89it/s]\n"
          ]
        },
        {
          "output_type": "stream",
          "name": "stdout",
          "text": [
            "Epoch 95/150 loss 0.10620 val_loss 0.21232\n"
          ]
        },
        {
          "output_type": "stream",
          "name": "stderr",
          "text": [
            "100%|██████████| 110/110 [00:00<00:00, 189.71it/s]\n",
            "100%|██████████| 47/47 [00:00<00:00, 549.52it/s]\n"
          ]
        },
        {
          "output_type": "stream",
          "name": "stdout",
          "text": [
            "Epoch 96/150 loss 0.10725 val_loss 0.17501\n"
          ]
        },
        {
          "output_type": "stream",
          "name": "stderr",
          "text": [
            "100%|██████████| 110/110 [00:00<00:00, 206.37it/s]\n",
            "100%|██████████| 47/47 [00:00<00:00, 607.22it/s]\n"
          ]
        },
        {
          "output_type": "stream",
          "name": "stdout",
          "text": [
            "Epoch 97/150 loss 0.10519 val_loss 0.15925\n"
          ]
        },
        {
          "output_type": "stream",
          "name": "stderr",
          "text": [
            "100%|██████████| 110/110 [00:00<00:00, 213.28it/s]\n",
            "100%|██████████| 47/47 [00:00<00:00, 471.66it/s]\n"
          ]
        },
        {
          "output_type": "stream",
          "name": "stdout",
          "text": [
            "Epoch 98/150 loss 0.09931 val_loss 0.29184\n"
          ]
        },
        {
          "output_type": "stream",
          "name": "stderr",
          "text": [
            "100%|██████████| 110/110 [00:00<00:00, 141.35it/s]\n",
            "100%|██████████| 47/47 [00:00<00:00, 443.05it/s]\n"
          ]
        },
        {
          "output_type": "stream",
          "name": "stdout",
          "text": [
            "Epoch 99/150 loss 0.10911 val_loss 0.15832\n"
          ]
        },
        {
          "output_type": "stream",
          "name": "stderr",
          "text": [
            "100%|██████████| 110/110 [00:00<00:00, 211.87it/s]\n",
            "100%|██████████| 47/47 [00:00<00:00, 973.26it/s]\n"
          ]
        },
        {
          "output_type": "stream",
          "name": "stdout",
          "text": [
            "Epoch 100/150 loss 0.10158 val_loss 0.19149\n"
          ]
        },
        {
          "output_type": "stream",
          "name": "stderr",
          "text": [
            "100%|██████████| 110/110 [00:00<00:00, 286.01it/s]\n",
            "100%|██████████| 47/47 [00:00<00:00, 1014.63it/s]\n"
          ]
        },
        {
          "output_type": "stream",
          "name": "stdout",
          "text": [
            "Epoch 101/150 loss 0.09971 val_loss 0.26895\n"
          ]
        },
        {
          "output_type": "stream",
          "name": "stderr",
          "text": [
            "100%|██████████| 110/110 [00:00<00:00, 293.52it/s]\n",
            "100%|██████████| 47/47 [00:00<00:00, 1020.95it/s]\n"
          ]
        },
        {
          "output_type": "stream",
          "name": "stdout",
          "text": [
            "Epoch 102/150 loss 0.09773 val_loss 0.11824\n"
          ]
        },
        {
          "output_type": "stream",
          "name": "stderr",
          "text": [
            "100%|██████████| 110/110 [00:00<00:00, 279.59it/s]\n",
            "100%|██████████| 47/47 [00:00<00:00, 1028.03it/s]\n"
          ]
        },
        {
          "output_type": "stream",
          "name": "stdout",
          "text": [
            "Epoch 103/150 loss 0.10305 val_loss 0.13951\n"
          ]
        },
        {
          "output_type": "stream",
          "name": "stderr",
          "text": [
            "100%|██████████| 110/110 [00:00<00:00, 293.33it/s]\n",
            "100%|██████████| 47/47 [00:00<00:00, 1038.10it/s]\n"
          ]
        },
        {
          "output_type": "stream",
          "name": "stdout",
          "text": [
            "Epoch 104/150 loss 0.10225 val_loss 0.22746\n"
          ]
        },
        {
          "output_type": "stream",
          "name": "stderr",
          "text": [
            "100%|██████████| 110/110 [00:00<00:00, 288.97it/s]\n",
            "100%|██████████| 47/47 [00:00<00:00, 945.06it/s]\n"
          ]
        },
        {
          "output_type": "stream",
          "name": "stdout",
          "text": [
            "Epoch 105/150 loss 0.10292 val_loss 0.26698\n"
          ]
        },
        {
          "output_type": "stream",
          "name": "stderr",
          "text": [
            "100%|██████████| 110/110 [00:00<00:00, 291.63it/s]\n",
            "100%|██████████| 47/47 [00:00<00:00, 996.68it/s]\n"
          ]
        },
        {
          "output_type": "stream",
          "name": "stdout",
          "text": [
            "Epoch 106/150 loss 0.09314 val_loss 0.13934\n"
          ]
        },
        {
          "output_type": "stream",
          "name": "stderr",
          "text": [
            "100%|██████████| 110/110 [00:00<00:00, 276.40it/s]\n",
            "100%|██████████| 47/47 [00:00<00:00, 886.12it/s]\n"
          ]
        },
        {
          "output_type": "stream",
          "name": "stdout",
          "text": [
            "Epoch 107/150 loss 0.09845 val_loss 0.31409\n"
          ]
        },
        {
          "output_type": "stream",
          "name": "stderr",
          "text": [
            "100%|██████████| 110/110 [00:00<00:00, 288.45it/s]\n",
            "100%|██████████| 47/47 [00:00<00:00, 1065.57it/s]\n"
          ]
        },
        {
          "output_type": "stream",
          "name": "stdout",
          "text": [
            "Epoch 108/150 loss 0.09709 val_loss 0.13939\n"
          ]
        },
        {
          "output_type": "stream",
          "name": "stderr",
          "text": [
            "100%|██████████| 110/110 [00:00<00:00, 221.56it/s]\n",
            "100%|██████████| 47/47 [00:00<00:00, 855.68it/s]\n"
          ]
        },
        {
          "output_type": "stream",
          "name": "stdout",
          "text": [
            "Epoch 109/150 loss 0.09380 val_loss 0.19624\n"
          ]
        },
        {
          "output_type": "stream",
          "name": "stderr",
          "text": [
            "100%|██████████| 110/110 [00:00<00:00, 226.57it/s]\n",
            "100%|██████████| 47/47 [00:00<00:00, 982.90it/s]\n"
          ]
        },
        {
          "output_type": "stream",
          "name": "stdout",
          "text": [
            "Epoch 110/150 loss 0.09821 val_loss 0.19320\n"
          ]
        },
        {
          "output_type": "stream",
          "name": "stderr",
          "text": [
            "100%|██████████| 110/110 [00:00<00:00, 193.69it/s]\n",
            "100%|██████████| 47/47 [00:00<00:00, 541.34it/s]\n"
          ]
        },
        {
          "output_type": "stream",
          "name": "stdout",
          "text": [
            "Epoch 111/150 loss 0.09170 val_loss 0.16773\n"
          ]
        },
        {
          "output_type": "stream",
          "name": "stderr",
          "text": [
            "100%|██████████| 110/110 [00:00<00:00, 220.61it/s]\n",
            "100%|██████████| 47/47 [00:00<00:00, 860.41it/s]\n"
          ]
        },
        {
          "output_type": "stream",
          "name": "stdout",
          "text": [
            "Epoch 112/150 loss 0.10173 val_loss 0.17966\n"
          ]
        },
        {
          "output_type": "stream",
          "name": "stderr",
          "text": [
            "100%|██████████| 110/110 [00:00<00:00, 175.83it/s]\n",
            "100%|██████████| 47/47 [00:00<00:00, 552.31it/s]\n"
          ]
        },
        {
          "output_type": "stream",
          "name": "stdout",
          "text": [
            "Epoch 113/150 loss 0.09407 val_loss 0.28093\n"
          ]
        },
        {
          "output_type": "stream",
          "name": "stderr",
          "text": [
            "100%|██████████| 110/110 [00:00<00:00, 169.58it/s]\n",
            "100%|██████████| 47/47 [00:00<00:00, 627.09it/s]\n"
          ]
        },
        {
          "output_type": "stream",
          "name": "stdout",
          "text": [
            "Epoch 114/150 loss 0.09196 val_loss 0.24062\n"
          ]
        },
        {
          "output_type": "stream",
          "name": "stderr",
          "text": [
            "100%|██████████| 110/110 [00:00<00:00, 221.11it/s]\n",
            "100%|██████████| 47/47 [00:00<00:00, 630.22it/s]\n"
          ]
        },
        {
          "output_type": "stream",
          "name": "stdout",
          "text": [
            "Epoch 115/150 loss 0.08863 val_loss 0.23679\n"
          ]
        },
        {
          "output_type": "stream",
          "name": "stderr",
          "text": [
            "100%|██████████| 110/110 [00:00<00:00, 169.45it/s]\n",
            "100%|██████████| 47/47 [00:00<00:00, 514.00it/s]\n"
          ]
        },
        {
          "output_type": "stream",
          "name": "stdout",
          "text": [
            "Epoch 116/150 loss 0.09942 val_loss 0.15871\n"
          ]
        },
        {
          "output_type": "stream",
          "name": "stderr",
          "text": [
            "100%|██████████| 110/110 [00:00<00:00, 113.74it/s]\n",
            "100%|██████████| 47/47 [00:00<00:00, 748.24it/s]\n"
          ]
        },
        {
          "output_type": "stream",
          "name": "stdout",
          "text": [
            "Epoch 117/150 loss 0.09095 val_loss 0.28421\n"
          ]
        },
        {
          "output_type": "stream",
          "name": "stderr",
          "text": [
            "100%|██████████| 110/110 [00:00<00:00, 225.36it/s]\n",
            "100%|██████████| 47/47 [00:00<00:00, 1041.79it/s]\n"
          ]
        },
        {
          "output_type": "stream",
          "name": "stdout",
          "text": [
            "Epoch 118/150 loss 0.09019 val_loss 0.24820\n"
          ]
        },
        {
          "output_type": "stream",
          "name": "stderr",
          "text": [
            "100%|██████████| 110/110 [00:00<00:00, 185.89it/s]\n",
            "100%|██████████| 47/47 [00:00<00:00, 477.09it/s]\n"
          ]
        },
        {
          "output_type": "stream",
          "name": "stdout",
          "text": [
            "Epoch 119/150 loss 0.09346 val_loss 0.27857\n"
          ]
        },
        {
          "output_type": "stream",
          "name": "stderr",
          "text": [
            "100%|██████████| 110/110 [00:00<00:00, 227.50it/s]\n",
            "100%|██████████| 47/47 [00:00<00:00, 907.42it/s]\n"
          ]
        },
        {
          "output_type": "stream",
          "name": "stdout",
          "text": [
            "Epoch 120/150 loss 0.09119 val_loss 0.23630\n"
          ]
        },
        {
          "output_type": "stream",
          "name": "stderr",
          "text": [
            "100%|██████████| 110/110 [00:00<00:00, 234.79it/s]\n",
            "100%|██████████| 47/47 [00:00<00:00, 990.28it/s]\n"
          ]
        },
        {
          "output_type": "stream",
          "name": "stdout",
          "text": [
            "Epoch 121/150 loss 0.09838 val_loss 0.22903\n"
          ]
        },
        {
          "output_type": "stream",
          "name": "stderr",
          "text": [
            "100%|██████████| 110/110 [00:00<00:00, 221.25it/s]\n",
            "100%|██████████| 47/47 [00:00<00:00, 1008.14it/s]\n"
          ]
        },
        {
          "output_type": "stream",
          "name": "stdout",
          "text": [
            "Epoch 122/150 loss 0.09152 val_loss 0.22461\n"
          ]
        },
        {
          "output_type": "stream",
          "name": "stderr",
          "text": [
            "100%|██████████| 110/110 [00:00<00:00, 218.28it/s]\n",
            "100%|██████████| 47/47 [00:00<00:00, 437.76it/s]\n"
          ]
        },
        {
          "output_type": "stream",
          "name": "stdout",
          "text": [
            "Epoch 123/150 loss 0.09013 val_loss 0.13969\n"
          ]
        },
        {
          "output_type": "stream",
          "name": "stderr",
          "text": [
            "100%|██████████| 110/110 [00:00<00:00, 204.28it/s]\n",
            "100%|██████████| 47/47 [00:00<00:00, 369.18it/s]\n"
          ]
        },
        {
          "output_type": "stream",
          "name": "stdout",
          "text": [
            "Epoch 124/150 loss 0.08917 val_loss 0.14430\n"
          ]
        },
        {
          "output_type": "stream",
          "name": "stderr",
          "text": [
            "100%|██████████| 110/110 [00:00<00:00, 224.09it/s]\n",
            "100%|██████████| 47/47 [00:00<00:00, 980.52it/s]\n"
          ]
        },
        {
          "output_type": "stream",
          "name": "stdout",
          "text": [
            "Epoch 125/150 loss 0.09687 val_loss 0.18236\n"
          ]
        },
        {
          "output_type": "stream",
          "name": "stderr",
          "text": [
            "100%|██████████| 110/110 [00:00<00:00, 227.59it/s]\n",
            "100%|██████████| 47/47 [00:00<00:00, 1025.56it/s]\n"
          ]
        },
        {
          "output_type": "stream",
          "name": "stdout",
          "text": [
            "Epoch 126/150 loss 0.09206 val_loss 0.21528\n"
          ]
        },
        {
          "output_type": "stream",
          "name": "stderr",
          "text": [
            "100%|██████████| 110/110 [00:00<00:00, 213.95it/s]\n",
            "100%|██████████| 47/47 [00:00<00:00, 1017.50it/s]\n"
          ]
        },
        {
          "output_type": "stream",
          "name": "stdout",
          "text": [
            "Epoch 127/150 loss 0.09525 val_loss 0.16512\n"
          ]
        },
        {
          "output_type": "stream",
          "name": "stderr",
          "text": [
            "100%|██████████| 110/110 [00:00<00:00, 227.51it/s]\n",
            "100%|██████████| 47/47 [00:00<00:00, 581.47it/s]\n"
          ]
        },
        {
          "output_type": "stream",
          "name": "stdout",
          "text": [
            "Epoch 128/150 loss 0.09475 val_loss 0.14434\n"
          ]
        },
        {
          "output_type": "stream",
          "name": "stderr",
          "text": [
            "100%|██████████| 110/110 [00:00<00:00, 161.73it/s]\n",
            "100%|██████████| 47/47 [00:00<00:00, 532.20it/s]\n"
          ]
        },
        {
          "output_type": "stream",
          "name": "stdout",
          "text": [
            "Epoch 129/150 loss 0.08610 val_loss 0.21206\n"
          ]
        },
        {
          "output_type": "stream",
          "name": "stderr",
          "text": [
            "100%|██████████| 110/110 [00:00<00:00, 229.09it/s]\n",
            "100%|██████████| 47/47 [00:00<00:00, 430.74it/s]\n"
          ]
        },
        {
          "output_type": "stream",
          "name": "stdout",
          "text": [
            "Epoch 130/150 loss 0.08514 val_loss 0.23049\n"
          ]
        },
        {
          "output_type": "stream",
          "name": "stderr",
          "text": [
            "100%|██████████| 110/110 [00:00<00:00, 227.14it/s]\n",
            "100%|██████████| 47/47 [00:00<00:00, 541.97it/s]\n"
          ]
        },
        {
          "output_type": "stream",
          "name": "stdout",
          "text": [
            "Epoch 131/150 loss 0.08383 val_loss 0.16853\n"
          ]
        },
        {
          "output_type": "stream",
          "name": "stderr",
          "text": [
            "100%|██████████| 110/110 [00:00<00:00, 235.51it/s]\n",
            "100%|██████████| 47/47 [00:00<00:00, 1049.22it/s]\n"
          ]
        },
        {
          "output_type": "stream",
          "name": "stdout",
          "text": [
            "Epoch 132/150 loss 0.08910 val_loss 0.16675\n"
          ]
        },
        {
          "output_type": "stream",
          "name": "stderr",
          "text": [
            "100%|██████████| 110/110 [00:00<00:00, 235.67it/s]\n",
            "100%|██████████| 47/47 [00:00<00:00, 814.81it/s]\n"
          ]
        },
        {
          "output_type": "stream",
          "name": "stdout",
          "text": [
            "Epoch 133/150 loss 0.08905 val_loss 0.11942\n"
          ]
        },
        {
          "output_type": "stream",
          "name": "stderr",
          "text": [
            "100%|██████████| 110/110 [00:00<00:00, 216.80it/s]\n",
            "100%|██████████| 47/47 [00:00<00:00, 569.53it/s]\n"
          ]
        },
        {
          "output_type": "stream",
          "name": "stdout",
          "text": [
            "Epoch 134/150 loss 0.09246 val_loss 0.19520\n"
          ]
        },
        {
          "output_type": "stream",
          "name": "stderr",
          "text": [
            "100%|██████████| 110/110 [00:00<00:00, 110.15it/s]\n",
            "100%|██████████| 47/47 [00:00<00:00, 563.94it/s]\n"
          ]
        },
        {
          "output_type": "stream",
          "name": "stdout",
          "text": [
            "Epoch 135/150 loss 0.09145 val_loss 0.21008\n"
          ]
        },
        {
          "output_type": "stream",
          "name": "stderr",
          "text": [
            "100%|██████████| 110/110 [00:00<00:00, 151.68it/s]\n",
            "100%|██████████| 47/47 [00:00<00:00, 541.93it/s]\n"
          ]
        },
        {
          "output_type": "stream",
          "name": "stdout",
          "text": [
            "Epoch 136/150 loss 0.08182 val_loss 0.29446\n"
          ]
        },
        {
          "output_type": "stream",
          "name": "stderr",
          "text": [
            "100%|██████████| 110/110 [00:00<00:00, 224.78it/s]\n",
            "100%|██████████| 47/47 [00:00<00:00, 959.83it/s]\n"
          ]
        },
        {
          "output_type": "stream",
          "name": "stdout",
          "text": [
            "Epoch 137/150 loss 0.08428 val_loss 0.18074\n"
          ]
        },
        {
          "output_type": "stream",
          "name": "stderr",
          "text": [
            "100%|██████████| 110/110 [00:00<00:00, 285.84it/s]\n",
            "100%|██████████| 47/47 [00:00<00:00, 930.44it/s]\n"
          ]
        },
        {
          "output_type": "stream",
          "name": "stdout",
          "text": [
            "Epoch 138/150 loss 0.09231 val_loss 0.18166\n"
          ]
        },
        {
          "output_type": "stream",
          "name": "stderr",
          "text": [
            "100%|██████████| 110/110 [00:00<00:00, 285.69it/s]\n",
            "100%|██████████| 47/47 [00:00<00:00, 1007.04it/s]\n"
          ]
        },
        {
          "output_type": "stream",
          "name": "stdout",
          "text": [
            "Epoch 139/150 loss 0.09239 val_loss 0.19584\n"
          ]
        },
        {
          "output_type": "stream",
          "name": "stderr",
          "text": [
            "100%|██████████| 110/110 [00:00<00:00, 286.13it/s]\n",
            "100%|██████████| 47/47 [00:00<00:00, 944.65it/s]\n"
          ]
        },
        {
          "output_type": "stream",
          "name": "stdout",
          "text": [
            "Epoch 140/150 loss 0.08604 val_loss 0.14069\n"
          ]
        },
        {
          "output_type": "stream",
          "name": "stderr",
          "text": [
            "100%|██████████| 110/110 [00:00<00:00, 284.46it/s]\n",
            "100%|██████████| 47/47 [00:00<00:00, 1051.71it/s]\n"
          ]
        },
        {
          "output_type": "stream",
          "name": "stdout",
          "text": [
            "Epoch 141/150 loss 0.08590 val_loss 0.22890\n"
          ]
        },
        {
          "output_type": "stream",
          "name": "stderr",
          "text": [
            "100%|██████████| 110/110 [00:00<00:00, 290.65it/s]\n",
            "100%|██████████| 47/47 [00:00<00:00, 1034.90it/s]\n"
          ]
        },
        {
          "output_type": "stream",
          "name": "stdout",
          "text": [
            "Epoch 142/150 loss 0.08141 val_loss 0.18224\n"
          ]
        },
        {
          "output_type": "stream",
          "name": "stderr",
          "text": [
            "100%|██████████| 110/110 [00:00<00:00, 282.57it/s]\n",
            "100%|██████████| 47/47 [00:00<00:00, 1025.05it/s]\n"
          ]
        },
        {
          "output_type": "stream",
          "name": "stdout",
          "text": [
            "Epoch 143/150 loss 0.08589 val_loss 0.24774\n"
          ]
        },
        {
          "output_type": "stream",
          "name": "stderr",
          "text": [
            "100%|██████████| 110/110 [00:00<00:00, 275.62it/s]\n",
            "100%|██████████| 47/47 [00:00<00:00, 201.09it/s]\n"
          ]
        },
        {
          "output_type": "stream",
          "name": "stdout",
          "text": [
            "Epoch 144/150 loss 0.08327 val_loss 0.18961\n"
          ]
        },
        {
          "output_type": "stream",
          "name": "stderr",
          "text": [
            "100%|██████████| 110/110 [00:00<00:00, 179.95it/s]\n",
            "100%|██████████| 47/47 [00:00<00:00, 972.37it/s]\n"
          ]
        },
        {
          "output_type": "stream",
          "name": "stdout",
          "text": [
            "Epoch 145/150 loss 0.08432 val_loss 0.18624\n"
          ]
        },
        {
          "output_type": "stream",
          "name": "stderr",
          "text": [
            "100%|██████████| 110/110 [00:00<00:00, 176.39it/s]\n",
            "100%|██████████| 47/47 [00:00<00:00, 513.24it/s]\n"
          ]
        },
        {
          "output_type": "stream",
          "name": "stdout",
          "text": [
            "Epoch 146/150 loss 0.08423 val_loss 0.26212\n"
          ]
        },
        {
          "output_type": "stream",
          "name": "stderr",
          "text": [
            "100%|██████████| 110/110 [00:00<00:00, 144.60it/s]\n",
            "100%|██████████| 47/47 [00:00<00:00, 612.66it/s]\n"
          ]
        },
        {
          "output_type": "stream",
          "name": "stdout",
          "text": [
            "Epoch 147/150 loss 0.08397 val_loss 0.17941\n"
          ]
        },
        {
          "output_type": "stream",
          "name": "stderr",
          "text": [
            "100%|██████████| 110/110 [00:00<00:00, 230.23it/s]\n",
            "100%|██████████| 47/47 [00:00<00:00, 896.60it/s]\n"
          ]
        },
        {
          "output_type": "stream",
          "name": "stdout",
          "text": [
            "Epoch 148/150 loss 0.08397 val_loss 0.10598\n"
          ]
        },
        {
          "output_type": "stream",
          "name": "stderr",
          "text": [
            "100%|██████████| 110/110 [00:00<00:00, 292.52it/s]\n",
            "100%|██████████| 47/47 [00:00<00:00, 983.91it/s]\n"
          ]
        },
        {
          "output_type": "stream",
          "name": "stdout",
          "text": [
            "Epoch 149/150 loss 0.09537 val_loss 0.35364\n"
          ]
        },
        {
          "output_type": "stream",
          "name": "stderr",
          "text": [
            "100%|██████████| 110/110 [00:00<00:00, 285.17it/s]\n",
            "100%|██████████| 47/47 [00:00<00:00, 997.01it/s]"
          ]
        },
        {
          "output_type": "stream",
          "name": "stdout",
          "text": [
            "Epoch 150/150 loss 0.08782 val_loss 0.23947\n"
          ]
        },
        {
          "output_type": "stream",
          "name": "stderr",
          "text": [
            "\n"
          ]
        }
      ]
    },
    {
      "cell_type": "code",
      "source": [
        "plt.figure(figsize=(16,8))\n",
        "plt.plot(losses, label='Train')\n",
        "plt.plot(val_losses, label='Val')\n",
        "plt.xlabel(\"Epochs\")\n",
        "plt.ylabel(\"Training MSE\")\n",
        "plt.legend()\n",
        "plt.show()"
      ],
      "metadata": {
        "colab": {
          "base_uri": "https://localhost:8080/",
          "height": 497
        },
        "outputId": "1f8dd1b1-a2bb-4972-af7b-6015c872a2ec",
        "id": "BnatqCuknHf0"
      },
      "execution_count": 35,
      "outputs": [
        {
          "output_type": "display_data",
          "data": {
            "text/plain": [
              "<Figure size 1152x576 with 1 Axes>"
            ],
            "image/png": "[encoded data removed]"
          },
          "metadata": {
            "needs_background": "light"
          }
        }
      ]
    },
    {
      "cell_type": "code",
      "source": [
        "y_hats_train=net(torch.tensor(X_train.astype(float)).to(device).resize(len(X_train),1).float()).detach().cpu().numpy().reshape(1,-1).flatten()"
      ],
      "metadata": {
        "id": "bX-s78BtmGz9"
      },
      "execution_count": 36,
      "outputs": []
    },
    {
      "cell_type": "code",
      "source": [
        "y_hats_test=net(torch.tensor(X_test.astype(float)).to(device).resize(len(X_test),1).float()).detach().cpu().numpy().reshape(1,-1).flatten()"
      ],
      "metadata": {
        "id": "iSI2ok99mpap"
      },
      "execution_count": 37,
      "outputs": []
    },
    {
      "cell_type": "code",
      "source": [
        "plt.figure(figsize=(16,8))\n",
        "plt.scatter(X_train,y_hats_train, label='Pred')\n",
        "plt.scatter(X_train,Y_train, label='Train')\n",
        "plt.xlabel(\"X\")\n",
        "plt.ylabel(\"Y\")\n",
        "plt.legend()\n",
        "plt.show()"
      ],
      "metadata": {
        "colab": {
          "base_uri": "https://localhost:8080/",
          "height": 497
        },
        "id": "g1NZX4ccmIig",
        "outputId": "a6b83d56-b684-4d3e-a857-2b6b9b3881e7"
      },
      "execution_count": 38,
      "outputs": [
        {
          "output_type": "display_data",
          "data": {
            "text/plain": [
              "<Figure size 1152x576 with 1 Axes>"
            ],
            "image/png": "[encoded data removed]"
          },
          "metadata": {
            "needs_background": "light"
          }
        }
      ]
    },
    {
      "cell_type": "code",
      "source": [
        "plt.figure(figsize=(16,8))\n",
        "plt.scatter(X_test,y_hats_test, label='Pred')\n",
        "plt.scatter(X_test,Y_test, label='Test')\n",
        "plt.xlabel(\"X\")\n",
        "plt.ylabel(\"Y\")\n",
        "plt.legend()\n",
        "plt.show()"
      ],
      "metadata": {
        "colab": {
          "base_uri": "https://localhost:8080/",
          "height": 497
        },
        "id": "M_VWHkORmsa0",
        "outputId": "fa364c9a-97c6-427b-e364-92111714fd26"
      },
      "execution_count": 39,
      "outputs": [
        {
          "output_type": "display_data",
          "data": {
            "text/plain": [
              "<Figure size 1152x576 with 1 Axes>"
            ],
            "image/png": "[encoded data removed]"
          },
          "metadata": {
            "needs_background": "light"
          }
        }
      ]
    },
    {
      "cell_type": "markdown",
      "source": [
        "## Ahora si podemos ver que agregando regularizacion y dropout el fit es mas correcto que antes, el mse esta mas contenido y no esta tan cerca del 0, como en la version sin regularizacion"
      ],
      "metadata": {
        "id": "97MeEnmYnHf3"
      }
    },
    {
      "cell_type": "markdown",
      "source": [
        "# Punto 3 \n",
        "Descargar el dataset desde el siguiente link. El dataset son compras de productos que diferentes clientes realizaron durante un black sales. El dataset contiene información sobre las transacciones y el objetivo es poder utilizar el dataset para crear diferentes modelos que puedan predecir cuánto un cliente está dispuesto a gastar en un producto en el futuro. Particularmente, vamos a tratar este problema como una clasificación binaria donde queremos averiguar si el cliente va a gastar mucha plata (más de 9000) o poca plata (menos de 9000).\n"
      ],
      "metadata": {
        "id": "0ydaHKcZpukH"
      }
    },
    {
      "cell_type": "markdown",
      "source": [
        "## Preprocesamiento"
      ],
      "metadata": {
        "id": "2Yw8GMX1sEBk"
      }
    },
    {
      "cell_type": "code",
      "source": [
        "ds2=pd.read_csv(\"drive/MyDrive/dataset_2.csv\")\n",
        "ds2.head()\n"
      ],
      "metadata": {
        "id": "-eyvn66Hptlo",
        "colab": {
          "base_uri": "https://localhost:8080/",
          "height": 270
        },
        "outputId": "dee4c731-ad1a-4b73-d5b3-62212f133333"
      },
      "execution_count": 41,
      "outputs": [
        {
          "output_type": "execute_result",
          "data": {
            "text/plain": [
              "   User_ID Product_ID Gender   Age  Occupation City_Category  \\\n",
              "0  1000001  P00069042      F  0-17          10             A   \n",
              "1  1000001  P00248942      F  0-17          10             A   \n",
              "2  1000001  P00087842      F  0-17          10             A   \n",
              "3  1000001  P00085442      F  0-17          10             A   \n",
              "4  1000002  P00285442      M   55+          16             C   \n",
              "\n",
              "  Stay_In_Current_City_Years  Marital_Status  Product_Category_1  \\\n",
              "0                          2               0                   3   \n",
              "1                          2               0                   1   \n",
              "2                          2               0                  12   \n",
              "3                          2               0                  12   \n",
              "4                         4+               0                   8   \n",
              "\n",
              "   Product_Category_2  Product_Category_3  Purchase  \n",
              "0                 NaN                 NaN      8370  \n",
              "1                 6.0                14.0     15200  \n",
              "2                 NaN                 NaN      1422  \n",
              "3                14.0                 NaN      1057  \n",
              "4                 NaN                 NaN      7969  "
            ],
            "text/html": [
              "\n",
              "  <div id=\"df-b00216d1-02f1-484d-b2d5-eec02d063ff7\">\n",
              "    <div class=\"colab-df-container\">\n",
              "      <div>\n",
              "<style scoped>\n",
              "    .dataframe tbody tr th:only-of-type {\n",
              "        vertical-align: middle;\n",
              "    }\n",
              "\n",
              "    .dataframe tbody tr th {\n",
              "        vertical-align: top;\n",
              "    }\n",
              "\n",
              "    .dataframe thead th {\n",
              "        text-align: right;\n",
              "    }\n",
              "</style>\n",
              "<table border=\"1\" class=\"dataframe\">\n",
              "  <thead>\n",
              "    <tr style=\"text-align: right;\">\n",
              "      <th></th>\n",
              "      <th>User_ID</th>\n",
              "      <th>Product_ID</th>\n",
              "      <th>Gender</th>\n",
              "      <th>Age</th>\n",
              "      <th>Occupation</th>\n",
              "      <th>City_Category</th>\n",
              "      <th>Stay_In_Current_City_Years</th>\n",
              "      <th>Marital_Status</th>\n",
              "      <th>Product_Category_1</th>\n",
              "      <th>Product_Category_2</th>\n",
              "      <th>Product_Category_3</th>\n",
              "      <th>Purchase</th>\n",
              "    </tr>\n",
              "  </thead>\n",
              "  <tbody>\n",
              "    <tr>\n",
              "      <th>0</th>\n",
              "      <td>1000001</td>\n",
              "      <td>P00069042</td>\n",
              "      <td>F</td>\n",
              "      <td>0-17</td>\n",
              "      <td>10</td>\n",
              "      <td>A</td>\n",
              "      <td>2</td>\n",
              "      <td>0</td>\n",
              "      <td>3</td>\n",
              "      <td>NaN</td>\n",
              "      <td>NaN</td>\n",
              "      <td>8370</td>\n",
              "    </tr>\n",
              "    <tr>\n",
              "      <th>1</th>\n",
              "      <td>1000001</td>\n",
              "      <td>P00248942</td>\n",
              "      <td>F</td>\n",
              "      <td>0-17</td>\n",
              "      <td>10</td>\n",
              "      <td>A</td>\n",
              "      <td>2</td>\n",
              "      <td>0</td>\n",
              "      <td>1</td>\n",
              "      <td>6.0</td>\n",
              "      <td>14.0</td>\n",
              "      <td>15200</td>\n",
              "    </tr>\n",
              "    <tr>\n",
              "      <th>2</th>\n",
              "      <td>1000001</td>\n",
              "      <td>P00087842</td>\n",
              "      <td>F</td>\n",
              "      <td>0-17</td>\n",
              "      <td>10</td>\n",
              "      <td>A</td>\n",
              "      <td>2</td>\n",
              "      <td>0</td>\n",
              "      <td>12</td>\n",
              "      <td>NaN</td>\n",
              "      <td>NaN</td>\n",
              "      <td>1422</td>\n",
              "    </tr>\n",
              "    <tr>\n",
              "      <th>3</th>\n",
              "      <td>1000001</td>\n",
              "      <td>P00085442</td>\n",
              "      <td>F</td>\n",
              "      <td>0-17</td>\n",
              "      <td>10</td>\n",
              "      <td>A</td>\n",
              "      <td>2</td>\n",
              "      <td>0</td>\n",
              "      <td>12</td>\n",
              "      <td>14.0</td>\n",
              "      <td>NaN</td>\n",
              "      <td>1057</td>\n",
              "    </tr>\n",
              "    <tr>\n",
              "      <th>4</th>\n",
              "      <td>1000002</td>\n",
              "      <td>P00285442</td>\n",
              "      <td>M</td>\n",
              "      <td>55+</td>\n",
              "      <td>16</td>\n",
              "      <td>C</td>\n",
              "      <td>4+</td>\n",
              "      <td>0</td>\n",
              "      <td>8</td>\n",
              "      <td>NaN</td>\n",
              "      <td>NaN</td>\n",
              "      <td>7969</td>\n",
              "    </tr>\n",
              "  </tbody>\n",
              "</table>\n",
              "</div>\n",
              "      <button class=\"colab-df-convert\" onclick=\"convertToInteractive('df-b00216d1-02f1-484d-b2d5-eec02d063ff7')\"\n",
              "              title=\"Convert this dataframe to an interactive table.\"\n",
              "              style=\"display:none;\">\n",
              "        \n",
              "  <svg xmlns=\"http://www.w3.org/2000/svg\" height=\"24px\"viewBox=\"0 0 24 24\"\n",
              "       width=\"24px\">\n",
              "    <path d=\"M0 0h24v24H0V0z\" fill=\"none\"/>\n",
              "    <path d=\"M18.56 5.44l.94 2.06.94-2.06 2.06-.94-2.06-.94-.94-2.06-.94 2.06-2.06.94zm-11 1L8.5 8.5l.94-2.06 2.06-.94-2.06-.94L8.5 2.5l-.94 2.06-2.06.94zm10 10l.94 2.06.94-2.06 2.06-.94-2.06-.94-.94-2.06-.94 2.06-2.06.94z\"/><path d=\"M17.41 7.96l-1.37-1.37c-.4-.4-.92-.59-1.43-.59-.52 0-1.04.2-1.43.59L10.3 9.45l-7.72 7.72c-.78.78-.78 2.05 0 2.83L4 21.41c.39.39.9.59 1.41.59.51 0 1.02-.2 1.41-.59l7.78-7.78 2.81-2.81c.8-.78.8-2.07 0-2.86zM5.41 20L4 18.59l7.72-7.72 1.47 1.35L5.41 20z\"/>\n",
              "  </svg>\n",
              "      </button>\n",
              "      \n",
              "  <style>\n",
              "    .colab-df-container {\n",
              "      display:flex;\n",
              "      flex-wrap:wrap;\n",
              "      gap: 12px;\n",
              "    }\n",
              "\n",
              "    .colab-df-convert {\n",
              "      background-color: #E8F0FE;\n",
              "      border: none;\n",
              "      border-radius: 50%;\n",
              "      cursor: pointer;\n",
              "      display: none;\n",
              "      fill: #1967D2;\n",
              "      height: 32px;\n",
              "      padding: 0 0 0 0;\n",
              "      width: 32px;\n",
              "    }\n",
              "\n",
              "    .colab-df-convert:hover {\n",
              "      background-color: #E2EBFA;\n",
              "      box-shadow: 0px 1px 2px rgba(60, 64, 67, 0.3), 0px 1px 3px 1px rgba(60, 64, 67, 0.15);\n",
              "      fill: #174EA6;\n",
              "    }\n",
              "\n",
              "    [theme=dark] .colab-df-convert {\n",
              "      background-color: #3B4455;\n",
              "      fill: #D2E3FC;\n",
              "    }\n",
              "\n",
              "    [theme=dark] .colab-df-convert:hover {\n",
              "      background-color: #434B5C;\n",
              "      box-shadow: 0px 1px 3px 1px rgba(0, 0, 0, 0.15);\n",
              "      filter: drop-shadow(0px 1px 2px rgba(0, 0, 0, 0.3));\n",
              "      fill: #FFFFFF;\n",
              "    }\n",
              "  </style>\n",
              "\n",
              "      <script>\n",
              "        const buttonEl =\n",
              "          document.querySelector('#df-b00216d1-02f1-484d-b2d5-eec02d063ff7 button.colab-df-convert');\n",
              "        buttonEl.style.display =\n",
              "          google.colab.kernel.accessAllowed ? 'block' : 'none';\n",
              "\n",
              "        async function convertToInteractive(key) {\n",
              "          const element = document.querySelector('#df-b00216d1-02f1-484d-b2d5-eec02d063ff7');\n",
              "          const dataTable =\n",
              "            await google.colab.kernel.invokeFunction('convertToInteractive',\n",
              "                                                     [key], {});\n",
              "          if (!dataTable) return;\n",
              "\n",
              "          const docLinkHtml = 'Like what you see? Visit the ' +\n",
              "            '<a target=\"_blank\" href=https://colab.research.google.com/notebooks/data_table.ipynb>data table notebook</a>'\n",
              "            + ' to learn more about interactive tables.';\n",
              "          element.innerHTML = '';\n",
              "          dataTable['output_type'] = 'display_data';\n",
              "          await google.colab.output.renderOutput(dataTable, element);\n",
              "          const docLink = document.createElement('div');\n",
              "          docLink.innerHTML = docLinkHtml;\n",
              "          element.appendChild(docLink);\n",
              "        }\n",
              "      </script>\n",
              "    </div>\n",
              "  </div>\n",
              "  "
            ]
          },
          "metadata": {},
          "execution_count": 41
        }
      ]
    },
    {
      "cell_type": "code",
      "source": [
        "ds2.info()"
      ],
      "metadata": {
        "id": "Ssq-DRQJw2H8",
        "colab": {
          "base_uri": "https://localhost:8080/"
        },
        "outputId": "b4a01592-7916-4bce-fdfa-13063e3eb294"
      },
      "execution_count": 42,
      "outputs": [
        {
          "output_type": "stream",
          "name": "stdout",
          "text": [
            "<class 'pandas.core.frame.DataFrame'>\n",
            "RangeIndex: 550068 entries, 0 to 550067\n",
            "Data columns (total 12 columns):\n",
            " #   Column                      Non-Null Count   Dtype  \n",
            "---  ------                      --------------   -----  \n",
            " 0   User_ID                     550068 non-null  int64  \n",
            " 1   Product_ID                  550068 non-null  object \n",
            " 2   Gender                      550068 non-null  object \n",
            " 3   Age                         550068 non-null  object \n",
            " 4   Occupation                  550068 non-null  int64  \n",
            " 5   City_Category               550068 non-null  object \n",
            " 6   Stay_In_Current_City_Years  550068 non-null  object \n",
            " 7   Marital_Status              550068 non-null  int64  \n",
            " 8   Product_Category_1          550068 non-null  int64  \n",
            " 9   Product_Category_2          376430 non-null  float64\n",
            " 10  Product_Category_3          166821 non-null  float64\n",
            " 11  Purchase                    550068 non-null  int64  \n",
            "dtypes: float64(2), int64(5), object(5)\n",
            "memory usage: 50.4+ MB\n"
          ]
        }
      ]
    },
    {
      "cell_type": "code",
      "source": [
        "ds2=ds2.drop(columns=[\"Product_Category_3\"])"
      ],
      "metadata": {
        "id": "CenRYhSQpwtH"
      },
      "execution_count": 43,
      "outputs": []
    },
    {
      "cell_type": "code",
      "source": [
        "linearR = LinearRegression()\n",
        "logisticR = LogisticRegression()\n",
        "columns=[\"User_ID\",\"Occupation\",\"Marital_Status\",\"Product_Category_1\",\"Product_Category_2\"]\n",
        "\n",
        "imp = IterativeImputer(n_nearest_features=4,estimator=linearR,missing_values=np.nan, max_iter=10, verbose=2, imputation_order='roman',random_state=0)\n",
        "ds2[columns]=imp.fit_transform(ds2[columns])"
      ],
      "metadata": {
        "id": "pZCm52yAxarO",
        "colab": {
          "base_uri": "https://localhost:8080/"
        },
        "outputId": "2a2299cc-8ae8-4f62-f40f-96dc616dd38e"
      },
      "execution_count": 44,
      "outputs": [
        {
          "output_type": "stream",
          "name": "stdout",
          "text": [
            "[IterativeImputer] Completing matrix with shape (550068, 5)\n",
            "[IterativeImputer] Ending imputation round 1/10, elapsed time 0.41\n",
            "[IterativeImputer] Change: 13.265779264699173, scaled tolerance: 1006.0400000000001 \n",
            "[IterativeImputer] Early stopping criterion reached.\n"
          ]
        }
      ]
    },
    {
      "cell_type": "code",
      "source": [
        "for i in columns:\n",
        "  ds2 = ds2.astype({i: int})\n",
        "ds2 = ds2.astype({\"Occupation\": int})"
      ],
      "metadata": {
        "id": "BaIoj2tDz0uo"
      },
      "execution_count": 45,
      "outputs": []
    },
    {
      "cell_type": "code",
      "source": [
        "ds2"
      ],
      "metadata": {
        "id": "pjzeq1qOzGUg",
        "colab": {
          "base_uri": "https://localhost:8080/",
          "height": 424
        },
        "outputId": "c7863303-5d05-4ac6-ccb1-60f8afbc0768"
      },
      "execution_count": 46,
      "outputs": [
        {
          "output_type": "execute_result",
          "data": {
            "text/plain": [
              "        User_ID Product_ID Gender    Age  Occupation City_Category  \\\n",
              "0       1000001  P00069042      F   0-17          10             A   \n",
              "1       1000001  P00248942      F   0-17          10             A   \n",
              "2       1000001  P00087842      F   0-17          10             A   \n",
              "3       1000001  P00085442      F   0-17          10             A   \n",
              "4       1000002  P00285442      M    55+          16             C   \n",
              "...         ...        ...    ...    ...         ...           ...   \n",
              "550063  1006033  P00372445      M  51-55          13             B   \n",
              "550064  1006035  P00375436      F  26-35           1             C   \n",
              "550065  1006036  P00375436      F  26-35          15             B   \n",
              "550066  1006038  P00375436      F    55+           1             C   \n",
              "550067  1006039  P00371644      F  46-50           0             B   \n",
              "\n",
              "       Stay_In_Current_City_Years  Marital_Status  Product_Category_1  \\\n",
              "0                               2               0                   3   \n",
              "1                               2               0                   1   \n",
              "2                               2               0                  12   \n",
              "3                               2               0                  12   \n",
              "4                              4+               0                   8   \n",
              "...                           ...             ...                 ...   \n",
              "550063                          1               1                  20   \n",
              "550064                          3               0                  20   \n",
              "550065                         4+               1                  20   \n",
              "550066                          2               0                  20   \n",
              "550067                         4+               1                  20   \n",
              "\n",
              "        Product_Category_2  Purchase  \n",
              "0                        8      8370  \n",
              "1                        6     15200  \n",
              "2                       16      1422  \n",
              "3                       14      1057  \n",
              "4                       13      7969  \n",
              "...                    ...       ...  \n",
              "550063                  23       368  \n",
              "550064                  22       371  \n",
              "550065                  23       137  \n",
              "550066                  22       365  \n",
              "550067                  23       490  \n",
              "\n",
              "[550068 rows x 11 columns]"
            ],
            "text/html": [
              "\n",
              "  <div id=\"df-ef13e8b4-8be6-4ff1-933b-3f9c7ba1a084\">\n",
              "    <div class=\"colab-df-container\">\n",
              "      <div>\n",
              "<style scoped>\n",
              "    .dataframe tbody tr th:only-of-type {\n",
              "        vertical-align: middle;\n",
              "    }\n",
              "\n",
              "    .dataframe tbody tr th {\n",
              "        vertical-align: top;\n",
              "    }\n",
              "\n",
              "    .dataframe thead th {\n",
              "        text-align: right;\n",
              "    }\n",
              "</style>\n",
              "<table border=\"1\" class=\"dataframe\">\n",
              "  <thead>\n",
              "    <tr style=\"text-align: right;\">\n",
              "      <th></th>\n",
              "      <th>User_ID</th>\n",
              "      <th>Product_ID</th>\n",
              "      <th>Gender</th>\n",
              "      <th>Age</th>\n",
              "      <th>Occupation</th>\n",
              "      <th>City_Category</th>\n",
              "      <th>Stay_In_Current_City_Years</th>\n",
              "      <th>Marital_Status</th>\n",
              "      <th>Product_Category_1</th>\n",
              "      <th>Product_Category_2</th>\n",
              "      <th>Purchase</th>\n",
              "    </tr>\n",
              "  </thead>\n",
              "  <tbody>\n",
              "    <tr>\n",
              "      <th>0</th>\n",
              "      <td>1000001</td>\n",
              "      <td>P00069042</td>\n",
              "      <td>F</td>\n",
              "      <td>0-17</td>\n",
              "      <td>10</td>\n",
              "      <td>A</td>\n",
              "      <td>2</td>\n",
              "      <td>0</td>\n",
              "      <td>3</td>\n",
              "      <td>8</td>\n",
              "      <td>8370</td>\n",
              "    </tr>\n",
              "    <tr>\n",
              "      <th>1</th>\n",
              "      <td>1000001</td>\n",
              "      <td>P00248942</td>\n",
              "      <td>F</td>\n",
              "      <td>0-17</td>\n",
              "      <td>10</td>\n",
              "      <td>A</td>\n",
              "      <td>2</td>\n",
              "      <td>0</td>\n",
              "      <td>1</td>\n",
              "      <td>6</td>\n",
              "      <td>15200</td>\n",
              "    </tr>\n",
              "    <tr>\n",
              "      <th>2</th>\n",
              "      <td>1000001</td>\n",
              "      <td>P00087842</td>\n",
              "      <td>F</td>\n",
              "      <td>0-17</td>\n",
              "      <td>10</td>\n",
              "      <td>A</td>\n",
              "      <td>2</td>\n",
              "      <td>0</td>\n",
              "      <td>12</td>\n",
              "      <td>16</td>\n",
              "      <td>1422</td>\n",
              "    </tr>\n",
              "    <tr>\n",
              "      <th>3</th>\n",
              "      <td>1000001</td>\n",
              "      <td>P00085442</td>\n",
              "      <td>F</td>\n",
              "      <td>0-17</td>\n",
              "      <td>10</td>\n",
              "      <td>A</td>\n",
              "      <td>2</td>\n",
              "      <td>0</td>\n",
              "      <td>12</td>\n",
              "      <td>14</td>\n",
              "      <td>1057</td>\n",
              "    </tr>\n",
              "    <tr>\n",
              "      <th>4</th>\n",
              "      <td>1000002</td>\n",
              "      <td>P00285442</td>\n",
              "      <td>M</td>\n",
              "      <td>55+</td>\n",
              "      <td>16</td>\n",
              "      <td>C</td>\n",
              "      <td>4+</td>\n",
              "      <td>0</td>\n",
              "      <td>8</td>\n",
              "      <td>13</td>\n",
              "      <td>7969</td>\n",
              "    </tr>\n",
              "    <tr>\n",
              "      <th>...</th>\n",
              "      <td>...</td>\n",
              "      <td>...</td>\n",
              "      <td>...</td>\n",
              "      <td>...</td>\n",
              "      <td>...</td>\n",
              "      <td>...</td>\n",
              "      <td>...</td>\n",
              "      <td>...</td>\n",
              "      <td>...</td>\n",
              "      <td>...</td>\n",
              "      <td>...</td>\n",
              "    </tr>\n",
              "    <tr>\n",
              "      <th>550063</th>\n",
              "      <td>1006033</td>\n",
              "      <td>P00372445</td>\n",
              "      <td>M</td>\n",
              "      <td>51-55</td>\n",
              "      <td>13</td>\n",
              "      <td>B</td>\n",
              "      <td>1</td>\n",
              "      <td>1</td>\n",
              "      <td>20</td>\n",
              "      <td>23</td>\n",
              "      <td>368</td>\n",
              "    </tr>\n",
              "    <tr>\n",
              "      <th>550064</th>\n",
              "      <td>1006035</td>\n",
              "      <td>P00375436</td>\n",
              "      <td>F</td>\n",
              "      <td>26-35</td>\n",
              "      <td>1</td>\n",
              "      <td>C</td>\n",
              "      <td>3</td>\n",
              "      <td>0</td>\n",
              "      <td>20</td>\n",
              "      <td>22</td>\n",
              "      <td>371</td>\n",
              "    </tr>\n",
              "    <tr>\n",
              "      <th>550065</th>\n",
              "      <td>1006036</td>\n",
              "      <td>P00375436</td>\n",
              "      <td>F</td>\n",
              "      <td>26-35</td>\n",
              "      <td>15</td>\n",
              "      <td>B</td>\n",
              "      <td>4+</td>\n",
              "      <td>1</td>\n",
              "      <td>20</td>\n",
              "      <td>23</td>\n",
              "      <td>137</td>\n",
              "    </tr>\n",
              "    <tr>\n",
              "      <th>550066</th>\n",
              "      <td>1006038</td>\n",
              "      <td>P00375436</td>\n",
              "      <td>F</td>\n",
              "      <td>55+</td>\n",
              "      <td>1</td>\n",
              "      <td>C</td>\n",
              "      <td>2</td>\n",
              "      <td>0</td>\n",
              "      <td>20</td>\n",
              "      <td>22</td>\n",
              "      <td>365</td>\n",
              "    </tr>\n",
              "    <tr>\n",
              "      <th>550067</th>\n",
              "      <td>1006039</td>\n",
              "      <td>P00371644</td>\n",
              "      <td>F</td>\n",
              "      <td>46-50</td>\n",
              "      <td>0</td>\n",
              "      <td>B</td>\n",
              "      <td>4+</td>\n",
              "      <td>1</td>\n",
              "      <td>20</td>\n",
              "      <td>23</td>\n",
              "      <td>490</td>\n",
              "    </tr>\n",
              "  </tbody>\n",
              "</table>\n",
              "<p>550068 rows × 11 columns</p>\n",
              "</div>\n",
              "      <button class=\"colab-df-convert\" onclick=\"convertToInteractive('df-ef13e8b4-8be6-4ff1-933b-3f9c7ba1a084')\"\n",
              "              title=\"Convert this dataframe to an interactive table.\"\n",
              "              style=\"display:none;\">\n",
              "        \n",
              "  <svg xmlns=\"http://www.w3.org/2000/svg\" height=\"24px\"viewBox=\"0 0 24 24\"\n",
              "       width=\"24px\">\n",
              "    <path d=\"M0 0h24v24H0V0z\" fill=\"none\"/>\n",
              "    <path d=\"M18.56 5.44l.94 2.06.94-2.06 2.06-.94-2.06-.94-.94-2.06-.94 2.06-2.06.94zm-11 1L8.5 8.5l.94-2.06 2.06-.94-2.06-.94L8.5 2.5l-.94 2.06-2.06.94zm10 10l.94 2.06.94-2.06 2.06-.94-2.06-.94-.94-2.06-.94 2.06-2.06.94z\"/><path d=\"M17.41 7.96l-1.37-1.37c-.4-.4-.92-.59-1.43-.59-.52 0-1.04.2-1.43.59L10.3 9.45l-7.72 7.72c-.78.78-.78 2.05 0 2.83L4 21.41c.39.39.9.59 1.41.59.51 0 1.02-.2 1.41-.59l7.78-7.78 2.81-2.81c.8-.78.8-2.07 0-2.86zM5.41 20L4 18.59l7.72-7.72 1.47 1.35L5.41 20z\"/>\n",
              "  </svg>\n",
              "      </button>\n",
              "      \n",
              "  <style>\n",
              "    .colab-df-container {\n",
              "      display:flex;\n",
              "      flex-wrap:wrap;\n",
              "      gap: 12px;\n",
              "    }\n",
              "\n",
              "    .colab-df-convert {\n",
              "      background-color: #E8F0FE;\n",
              "      border: none;\n",
              "      border-radius: 50%;\n",
              "      cursor: pointer;\n",
              "      display: none;\n",
              "      fill: #1967D2;\n",
              "      height: 32px;\n",
              "      padding: 0 0 0 0;\n",
              "      width: 32px;\n",
              "    }\n",
              "\n",
              "    .colab-df-convert:hover {\n",
              "      background-color: #E2EBFA;\n",
              "      box-shadow: 0px 1px 2px rgba(60, 64, 67, 0.3), 0px 1px 3px 1px rgba(60, 64, 67, 0.15);\n",
              "      fill: #174EA6;\n",
              "    }\n",
              "\n",
              "    [theme=dark] .colab-df-convert {\n",
              "      background-color: #3B4455;\n",
              "      fill: #D2E3FC;\n",
              "    }\n",
              "\n",
              "    [theme=dark] .colab-df-convert:hover {\n",
              "      background-color: #434B5C;\n",
              "      box-shadow: 0px 1px 3px 1px rgba(0, 0, 0, 0.15);\n",
              "      filter: drop-shadow(0px 1px 2px rgba(0, 0, 0, 0.3));\n",
              "      fill: #FFFFFF;\n",
              "    }\n",
              "  </style>\n",
              "\n",
              "      <script>\n",
              "        const buttonEl =\n",
              "          document.querySelector('#df-ef13e8b4-8be6-4ff1-933b-3f9c7ba1a084 button.colab-df-convert');\n",
              "        buttonEl.style.display =\n",
              "          google.colab.kernel.accessAllowed ? 'block' : 'none';\n",
              "\n",
              "        async function convertToInteractive(key) {\n",
              "          const element = document.querySelector('#df-ef13e8b4-8be6-4ff1-933b-3f9c7ba1a084');\n",
              "          const dataTable =\n",
              "            await google.colab.kernel.invokeFunction('convertToInteractive',\n",
              "                                                     [key], {});\n",
              "          if (!dataTable) return;\n",
              "\n",
              "          const docLinkHtml = 'Like what you see? Visit the ' +\n",
              "            '<a target=\"_blank\" href=https://colab.research.google.com/notebooks/data_table.ipynb>data table notebook</a>'\n",
              "            + ' to learn more about interactive tables.';\n",
              "          element.innerHTML = '';\n",
              "          dataTable['output_type'] = 'display_data';\n",
              "          await google.colab.output.renderOutput(dataTable, element);\n",
              "          const docLink = document.createElement('div');\n",
              "          docLink.innerHTML = docLinkHtml;\n",
              "          element.appendChild(docLink);\n",
              "        }\n",
              "      </script>\n",
              "    </div>\n",
              "  </div>\n",
              "  "
            ]
          },
          "metadata": {},
          "execution_count": 46
        }
      ]
    },
    {
      "cell_type": "code",
      "source": [
        "ds2['Big_Purchase'] = ds2.Purchase>9000\n",
        "ds2 = ds2.astype({\"Big_Purchase\": int})"
      ],
      "metadata": {
        "id": "M8xVdoy9zMKj"
      },
      "execution_count": 47,
      "outputs": []
    },
    {
      "cell_type": "code",
      "source": [
        "stringColumns=[\"Gender\",\"Age\",\"City_Category\",\"Stay_In_Current_City_Years\"]\n",
        "for column in stringColumns:\n",
        "  one_hot = pd.get_dummies(ds2[column],prefix=column)\n",
        "  # Drop column B as it is now encoded\n",
        "  ds2 = ds2.drop(column,axis = 1)\n",
        "  # Join the encoded df\n",
        "  ds2 = ds2.join(one_hot)\n",
        "ds2  "
      ],
      "metadata": {
        "id": "R6yVKVYE3h8k",
        "colab": {
          "base_uri": "https://localhost:8080/",
          "height": 488
        },
        "outputId": "1971cfa2-f187-4c12-d6b4-75e44f0d093c"
      },
      "execution_count": 48,
      "outputs": [
        {
          "output_type": "execute_result",
          "data": {
            "text/plain": [
              "        User_ID Product_ID  Occupation  Marital_Status  Product_Category_1  \\\n",
              "0       1000001  P00069042          10               0                   3   \n",
              "1       1000001  P00248942          10               0                   1   \n",
              "2       1000001  P00087842          10               0                  12   \n",
              "3       1000001  P00085442          10               0                  12   \n",
              "4       1000002  P00285442          16               0                   8   \n",
              "...         ...        ...         ...             ...                 ...   \n",
              "550063  1006033  P00372445          13               1                  20   \n",
              "550064  1006035  P00375436           1               0                  20   \n",
              "550065  1006036  P00375436          15               1                  20   \n",
              "550066  1006038  P00375436           1               0                  20   \n",
              "550067  1006039  P00371644           0               1                  20   \n",
              "\n",
              "        Product_Category_2  Purchase  Big_Purchase  Gender_F  Gender_M  ...  \\\n",
              "0                        8      8370             0         1         0  ...   \n",
              "1                        6     15200             1         1         0  ...   \n",
              "2                       16      1422             0         1         0  ...   \n",
              "3                       14      1057             0         1         0  ...   \n",
              "4                       13      7969             0         0         1  ...   \n",
              "...                    ...       ...           ...       ...       ...  ...   \n",
              "550063                  23       368             0         0         1  ...   \n",
              "550064                  22       371             0         1         0  ...   \n",
              "550065                  23       137             0         1         0  ...   \n",
              "550066                  22       365             0         1         0  ...   \n",
              "550067                  23       490             0         1         0  ...   \n",
              "\n",
              "        Age_51-55  Age_55+  City_Category_A  City_Category_B  City_Category_C  \\\n",
              "0               0        0                1                0                0   \n",
              "1               0        0                1                0                0   \n",
              "2               0        0                1                0                0   \n",
              "3               0        0                1                0                0   \n",
              "4               0        1                0                0                1   \n",
              "...           ...      ...              ...              ...              ...   \n",
              "550063          1        0                0                1                0   \n",
              "550064          0        0                0                0                1   \n",
              "550065          0        0                0                1                0   \n",
              "550066          0        1                0                0                1   \n",
              "550067          0        0                0                1                0   \n",
              "\n",
              "        Stay_In_Current_City_Years_0  Stay_In_Current_City_Years_1  \\\n",
              "0                                  0                             0   \n",
              "1                                  0                             0   \n",
              "2                                  0                             0   \n",
              "3                                  0                             0   \n",
              "4                                  0                             0   \n",
              "...                              ...                           ...   \n",
              "550063                             0                             1   \n",
              "550064                             0                             0   \n",
              "550065                             0                             0   \n",
              "550066                             0                             0   \n",
              "550067                             0                             0   \n",
              "\n",
              "        Stay_In_Current_City_Years_2  Stay_In_Current_City_Years_3  \\\n",
              "0                                  1                             0   \n",
              "1                                  1                             0   \n",
              "2                                  1                             0   \n",
              "3                                  1                             0   \n",
              "4                                  0                             0   \n",
              "...                              ...                           ...   \n",
              "550063                             0                             0   \n",
              "550064                             0                             1   \n",
              "550065                             0                             0   \n",
              "550066                             1                             0   \n",
              "550067                             0                             0   \n",
              "\n",
              "        Stay_In_Current_City_Years_4+  \n",
              "0                                   0  \n",
              "1                                   0  \n",
              "2                                   0  \n",
              "3                                   0  \n",
              "4                                   1  \n",
              "...                               ...  \n",
              "550063                              0  \n",
              "550064                              0  \n",
              "550065                              1  \n",
              "550066                              0  \n",
              "550067                              1  \n",
              "\n",
              "[550068 rows x 25 columns]"
            ],
            "text/html": [
              "\n",
              "  <div id=\"df-48bf26f0-c34f-4eeb-9e86-f30fb7d9d5ec\">\n",
              "    <div class=\"colab-df-container\">\n",
              "      <div>\n",
              "<style scoped>\n",
              "    .dataframe tbody tr th:only-of-type {\n",
              "        vertical-align: middle;\n",
              "    }\n",
              "\n",
              "    .dataframe tbody tr th {\n",
              "        vertical-align: top;\n",
              "    }\n",
              "\n",
              "    .dataframe thead th {\n",
              "        text-align: right;\n",
              "    }\n",
              "</style>\n",
              "<table border=\"1\" class=\"dataframe\">\n",
              "  <thead>\n",
              "    <tr style=\"text-align: right;\">\n",
              "      <th></th>\n",
              "      <th>User_ID</th>\n",
              "      <th>Product_ID</th>\n",
              "      <th>Occupation</th>\n",
              "      <th>Marital_Status</th>\n",
              "      <th>Product_Category_1</th>\n",
              "      <th>Product_Category_2</th>\n",
              "      <th>Purchase</th>\n",
              "      <th>Big_Purchase</th>\n",
              "      <th>Gender_F</th>\n",
              "      <th>Gender_M</th>\n",
              "      <th>...</th>\n",
              "      <th>Age_51-55</th>\n",
              "      <th>Age_55+</th>\n",
              "      <th>City_Category_A</th>\n",
              "      <th>City_Category_B</th>\n",
              "      <th>City_Category_C</th>\n",
              "      <th>Stay_In_Current_City_Years_0</th>\n",
              "      <th>Stay_In_Current_City_Years_1</th>\n",
              "      <th>Stay_In_Current_City_Years_2</th>\n",
              "      <th>Stay_In_Current_City_Years_3</th>\n",
              "      <th>Stay_In_Current_City_Years_4+</th>\n",
              "    </tr>\n",
              "  </thead>\n",
              "  <tbody>\n",
              "    <tr>\n",
              "      <th>0</th>\n",
              "      <td>1000001</td>\n",
              "      <td>P00069042</td>\n",
              "      <td>10</td>\n",
              "      <td>0</td>\n",
              "      <td>3</td>\n",
              "      <td>8</td>\n",
              "      <td>8370</td>\n",
              "      <td>0</td>\n",
              "      <td>1</td>\n",
              "      <td>0</td>\n",
              "      <td>...</td>\n",
              "      <td>0</td>\n",
              "      <td>0</td>\n",
              "      <td>1</td>\n",
              "      <td>0</td>\n",
              "      <td>0</td>\n",
              "      <td>0</td>\n",
              "      <td>0</td>\n",
              "      <td>1</td>\n",
              "      <td>0</td>\n",
              "      <td>0</td>\n",
              "    </tr>\n",
              "    <tr>\n",
              "      <th>1</th>\n",
              "      <td>1000001</td>\n",
              "      <td>P00248942</td>\n",
              "      <td>10</td>\n",
              "      <td>0</td>\n",
              "      <td>1</td>\n",
              "      <td>6</td>\n",
              "      <td>15200</td>\n",
              "      <td>1</td>\n",
              "      <td>1</td>\n",
              "      <td>0</td>\n",
              "      <td>...</td>\n",
              "      <td>0</td>\n",
              "      <td>0</td>\n",
              "      <td>1</td>\n",
              "      <td>0</td>\n",
              "      <td>0</td>\n",
              "      <td>0</td>\n",
              "      <td>0</td>\n",
              "      <td>1</td>\n",
              "      <td>0</td>\n",
              "      <td>0</td>\n",
              "    </tr>\n",
              "    <tr>\n",
              "      <th>2</th>\n",
              "      <td>1000001</td>\n",
              "      <td>P00087842</td>\n",
              "      <td>10</td>\n",
              "      <td>0</td>\n",
              "      <td>12</td>\n",
              "      <td>16</td>\n",
              "      <td>1422</td>\n",
              "      <td>0</td>\n",
              "      <td>1</td>\n",
              "      <td>0</td>\n",
              "      <td>...</td>\n",
              "      <td>0</td>\n",
              "      <td>0</td>\n",
              "      <td>1</td>\n",
              "      <td>0</td>\n",
              "      <td>0</td>\n",
              "      <td>0</td>\n",
              "      <td>0</td>\n",
              "      <td>1</td>\n",
              "      <td>0</td>\n",
              "      <td>0</td>\n",
              "    </tr>\n",
              "    <tr>\n",
              "      <th>3</th>\n",
              "      <td>1000001</td>\n",
              "      <td>P00085442</td>\n",
              "      <td>10</td>\n",
              "      <td>0</td>\n",
              "      <td>12</td>\n",
              "      <td>14</td>\n",
              "      <td>1057</td>\n",
              "      <td>0</td>\n",
              "      <td>1</td>\n",
              "      <td>0</td>\n",
              "      <td>...</td>\n",
              "      <td>0</td>\n",
              "      <td>0</td>\n",
              "      <td>1</td>\n",
              "      <td>0</td>\n",
              "      <td>0</td>\n",
              "      <td>0</td>\n",
              "      <td>0</td>\n",
              "      <td>1</td>\n",
              "      <td>0</td>\n",
              "      <td>0</td>\n",
              "    </tr>\n",
              "    <tr>\n",
              "      <th>4</th>\n",
              "      <td>1000002</td>\n",
              "      <td>P00285442</td>\n",
              "      <td>16</td>\n",
              "      <td>0</td>\n",
              "      <td>8</td>\n",
              "      <td>13</td>\n",
              "      <td>7969</td>\n",
              "      <td>0</td>\n",
              "      <td>0</td>\n",
              "      <td>1</td>\n",
              "      <td>...</td>\n",
              "      <td>0</td>\n",
              "      <td>1</td>\n",
              "      <td>0</td>\n",
              "      <td>0</td>\n",
              "      <td>1</td>\n",
              "      <td>0</td>\n",
              "      <td>0</td>\n",
              "      <td>0</td>\n",
              "      <td>0</td>\n",
              "      <td>1</td>\n",
              "    </tr>\n",
              "    <tr>\n",
              "      <th>...</th>\n",
              "      <td>...</td>\n",
              "      <td>...</td>\n",
              "      <td>...</td>\n",
              "      <td>...</td>\n",
              "      <td>...</td>\n",
              "      <td>...</td>\n",
              "      <td>...</td>\n",
              "      <td>...</td>\n",
              "      <td>...</td>\n",
              "      <td>...</td>\n",
              "      <td>...</td>\n",
              "      <td>...</td>\n",
              "      <td>...</td>\n",
              "      <td>...</td>\n",
              "      <td>...</td>\n",
              "      <td>...</td>\n",
              "      <td>...</td>\n",
              "      <td>...</td>\n",
              "      <td>...</td>\n",
              "      <td>...</td>\n",
              "      <td>...</td>\n",
              "    </tr>\n",
              "    <tr>\n",
              "      <th>550063</th>\n",
              "      <td>1006033</td>\n",
              "      <td>P00372445</td>\n",
              "      <td>13</td>\n",
              "      <td>1</td>\n",
              "      <td>20</td>\n",
              "      <td>23</td>\n",
              "      <td>368</td>\n",
              "      <td>0</td>\n",
              "      <td>0</td>\n",
              "      <td>1</td>\n",
              "      <td>...</td>\n",
              "      <td>1</td>\n",
              "      <td>0</td>\n",
              "      <td>0</td>\n",
              "      <td>1</td>\n",
              "      <td>0</td>\n",
              "      <td>0</td>\n",
              "      <td>1</td>\n",
              "      <td>0</td>\n",
              "      <td>0</td>\n",
              "      <td>0</td>\n",
              "    </tr>\n",
              "    <tr>\n",
              "      <th>550064</th>\n",
              "      <td>1006035</td>\n",
              "      <td>P00375436</td>\n",
              "      <td>1</td>\n",
              "      <td>0</td>\n",
              "      <td>20</td>\n",
              "      <td>22</td>\n",
              "      <td>371</td>\n",
              "      <td>0</td>\n",
              "      <td>1</td>\n",
              "      <td>0</td>\n",
              "      <td>...</td>\n",
              "      <td>0</td>\n",
              "      <td>0</td>\n",
              "      <td>0</td>\n",
              "      <td>0</td>\n",
              "      <td>1</td>\n",
              "      <td>0</td>\n",
              "      <td>0</td>\n",
              "      <td>0</td>\n",
              "      <td>1</td>\n",
              "      <td>0</td>\n",
              "    </tr>\n",
              "    <tr>\n",
              "      <th>550065</th>\n",
              "      <td>1006036</td>\n",
              "      <td>P00375436</td>\n",
              "      <td>15</td>\n",
              "      <td>1</td>\n",
              "      <td>20</td>\n",
              "      <td>23</td>\n",
              "      <td>137</td>\n",
              "      <td>0</td>\n",
              "      <td>1</td>\n",
              "      <td>0</td>\n",
              "      <td>...</td>\n",
              "      <td>0</td>\n",
              "      <td>0</td>\n",
              "      <td>0</td>\n",
              "      <td>1</td>\n",
              "      <td>0</td>\n",
              "      <td>0</td>\n",
              "      <td>0</td>\n",
              "      <td>0</td>\n",
              "      <td>0</td>\n",
              "      <td>1</td>\n",
              "    </tr>\n",
              "    <tr>\n",
              "      <th>550066</th>\n",
              "      <td>1006038</td>\n",
              "      <td>P00375436</td>\n",
              "      <td>1</td>\n",
              "      <td>0</td>\n",
              "      <td>20</td>\n",
              "      <td>22</td>\n",
              "      <td>365</td>\n",
              "      <td>0</td>\n",
              "      <td>1</td>\n",
              "      <td>0</td>\n",
              "      <td>...</td>\n",
              "      <td>0</td>\n",
              "      <td>1</td>\n",
              "      <td>0</td>\n",
              "      <td>0</td>\n",
              "      <td>1</td>\n",
              "      <td>0</td>\n",
              "      <td>0</td>\n",
              "      <td>1</td>\n",
              "      <td>0</td>\n",
              "      <td>0</td>\n",
              "    </tr>\n",
              "    <tr>\n",
              "      <th>550067</th>\n",
              "      <td>1006039</td>\n",
              "      <td>P00371644</td>\n",
              "      <td>0</td>\n",
              "      <td>1</td>\n",
              "      <td>20</td>\n",
              "      <td>23</td>\n",
              "      <td>490</td>\n",
              "      <td>0</td>\n",
              "      <td>1</td>\n",
              "      <td>0</td>\n",
              "      <td>...</td>\n",
              "      <td>0</td>\n",
              "      <td>0</td>\n",
              "      <td>0</td>\n",
              "      <td>1</td>\n",
              "      <td>0</td>\n",
              "      <td>0</td>\n",
              "      <td>0</td>\n",
              "      <td>0</td>\n",
              "      <td>0</td>\n",
              "      <td>1</td>\n",
              "    </tr>\n",
              "  </tbody>\n",
              "</table>\n",
              "<p>550068 rows × 25 columns</p>\n",
              "</div>\n",
              "      <button class=\"colab-df-convert\" onclick=\"convertToInteractive('df-48bf26f0-c34f-4eeb-9e86-f30fb7d9d5ec')\"\n",
              "              title=\"Convert this dataframe to an interactive table.\"\n",
              "              style=\"display:none;\">\n",
              "        \n",
              "  <svg xmlns=\"http://www.w3.org/2000/svg\" height=\"24px\"viewBox=\"0 0 24 24\"\n",
              "       width=\"24px\">\n",
              "    <path d=\"M0 0h24v24H0V0z\" fill=\"none\"/>\n",
              "    <path d=\"M18.56 5.44l.94 2.06.94-2.06 2.06-.94-2.06-.94-.94-2.06-.94 2.06-2.06.94zm-11 1L8.5 8.5l.94-2.06 2.06-.94-2.06-.94L8.5 2.5l-.94 2.06-2.06.94zm10 10l.94 2.06.94-2.06 2.06-.94-2.06-.94-.94-2.06-.94 2.06-2.06.94z\"/><path d=\"M17.41 7.96l-1.37-1.37c-.4-.4-.92-.59-1.43-.59-.52 0-1.04.2-1.43.59L10.3 9.45l-7.72 7.72c-.78.78-.78 2.05 0 2.83L4 21.41c.39.39.9.59 1.41.59.51 0 1.02-.2 1.41-.59l7.78-7.78 2.81-2.81c.8-.78.8-2.07 0-2.86zM5.41 20L4 18.59l7.72-7.72 1.47 1.35L5.41 20z\"/>\n",
              "  </svg>\n",
              "      </button>\n",
              "      \n",
              "  <style>\n",
              "    .colab-df-container {\n",
              "      display:flex;\n",
              "      flex-wrap:wrap;\n",
              "      gap: 12px;\n",
              "    }\n",
              "\n",
              "    .colab-df-convert {\n",
              "      background-color: #E8F0FE;\n",
              "      border: none;\n",
              "      border-radius: 50%;\n",
              "      cursor: pointer;\n",
              "      display: none;\n",
              "      fill: #1967D2;\n",
              "      height: 32px;\n",
              "      padding: 0 0 0 0;\n",
              "      width: 32px;\n",
              "    }\n",
              "\n",
              "    .colab-df-convert:hover {\n",
              "      background-color: #E2EBFA;\n",
              "      box-shadow: 0px 1px 2px rgba(60, 64, 67, 0.3), 0px 1px 3px 1px rgba(60, 64, 67, 0.15);\n",
              "      fill: #174EA6;\n",
              "    }\n",
              "\n",
              "    [theme=dark] .colab-df-convert {\n",
              "      background-color: #3B4455;\n",
              "      fill: #D2E3FC;\n",
              "    }\n",
              "\n",
              "    [theme=dark] .colab-df-convert:hover {\n",
              "      background-color: #434B5C;\n",
              "      box-shadow: 0px 1px 3px 1px rgba(0, 0, 0, 0.15);\n",
              "      filter: drop-shadow(0px 1px 2px rgba(0, 0, 0, 0.3));\n",
              "      fill: #FFFFFF;\n",
              "    }\n",
              "  </style>\n",
              "\n",
              "      <script>\n",
              "        const buttonEl =\n",
              "          document.querySelector('#df-48bf26f0-c34f-4eeb-9e86-f30fb7d9d5ec button.colab-df-convert');\n",
              "        buttonEl.style.display =\n",
              "          google.colab.kernel.accessAllowed ? 'block' : 'none';\n",
              "\n",
              "        async function convertToInteractive(key) {\n",
              "          const element = document.querySelector('#df-48bf26f0-c34f-4eeb-9e86-f30fb7d9d5ec');\n",
              "          const dataTable =\n",
              "            await google.colab.kernel.invokeFunction('convertToInteractive',\n",
              "                                                     [key], {});\n",
              "          if (!dataTable) return;\n",
              "\n",
              "          const docLinkHtml = 'Like what you see? Visit the ' +\n",
              "            '<a target=\"_blank\" href=https://colab.research.google.com/notebooks/data_table.ipynb>data table notebook</a>'\n",
              "            + ' to learn more about interactive tables.';\n",
              "          element.innerHTML = '';\n",
              "          dataTable['output_type'] = 'display_data';\n",
              "          await google.colab.output.renderOutput(dataTable, element);\n",
              "          const docLink = document.createElement('div');\n",
              "          docLink.innerHTML = docLinkHtml;\n",
              "          element.appendChild(docLink);\n",
              "        }\n",
              "      </script>\n",
              "    </div>\n",
              "  </div>\n",
              "  "
            ]
          },
          "metadata": {},
          "execution_count": 48
        }
      ]
    },
    {
      "cell_type": "markdown",
      "source": [
        "## A\n",
        "Entrenar un modelo de deep learning que no utilice embeddings"
      ],
      "metadata": {
        "id": "OR3u2lkgq4VA"
      }
    },
    {
      "cell_type": "code",
      "source": [
        "ds2=ds2.drop(columns=[\"Purchase\"])\n",
        "ds3=ds2.copy()\n",
        "ds3=ds3.drop(columns=[\"User_ID\",\"Product_ID\"])"
      ],
      "metadata": {
        "id": "MryxVe_o5W5M"
      },
      "execution_count": 49,
      "outputs": []
    },
    {
      "cell_type": "code",
      "source": [
        "random_state=25"
      ],
      "metadata": {
        "id": "XTlzOM1Q65aD"
      },
      "execution_count": 50,
      "outputs": []
    },
    {
      "cell_type": "code",
      "source": [
        "X=ds3.drop(columns=[\"Big_Purchase\"])\n",
        "Y=ds3[[\"Big_Purchase\"]]\n",
        "X_train, X_test, Y_train, Y_test = train_test_split(X, Y, train_size=0.70, random_state=random_state)\n",
        "X_train=np.array(X_train)\n",
        "X_test=np.array(X_test)\n",
        "Y_train=np.array(Y_train)\n",
        "Y_test=np.array(Y_test)"
      ],
      "metadata": {
        "id": "HDKwrx54qIT2"
      },
      "execution_count": 51,
      "outputs": []
    },
    {
      "cell_type": "code",
      "source": [
        "scaler = StandardScaler()\n",
        "X_train=scaler.fit_transform(X_train)"
      ],
      "metadata": {
        "id": "swxGwcyjsfjd"
      },
      "execution_count": 52,
      "outputs": []
    },
    {
      "cell_type": "code",
      "source": [
        "X_test=scaler.transform(X_test)"
      ],
      "metadata": {
        "id": "5tWDk_evsgAf"
      },
      "execution_count": 53,
      "outputs": []
    },
    {
      "cell_type": "code",
      "source": [
        "print(X_train.shape)\n",
        "print(Y_train.shape)\n",
        "print(X_test.shape)\n",
        "print(Y_test.shape)"
      ],
      "metadata": {
        "id": "f6HZWtrD5ine",
        "colab": {
          "base_uri": "https://localhost:8080/"
        },
        "outputId": "7a55b45c-e45c-42e2-8bc1-99b48c90ab97"
      },
      "execution_count": 54,
      "outputs": [
        {
          "output_type": "stream",
          "name": "stdout",
          "text": [
            "(385047, 21)\n",
            "(385047, 1)\n",
            "(165021, 21)\n",
            "(165021, 1)\n"
          ]
        }
      ]
    },
    {
      "cell_type": "code",
      "source": [
        "train_dataset_fulll = TensorDataset( Tensor(X_train), Tensor(Y_train) )\n",
        "test_dataset_fulll = TensorDataset( Tensor(X_test), Tensor(Y_test) )\n",
        "dataloader = {\n",
        "    'train': torch.utils.data.DataLoader(train_dataset_fulll, batch_size=64, shuffle=True, pin_memory=True),\n",
        "    'test': torch.utils.data.DataLoader(test_dataset_fulll, batch_size=64, shuffle=False, pin_memory=True)\n",
        "}"
      ],
      "metadata": {
        "id": "HPp_XKvqqStn"
      },
      "execution_count": 55,
      "outputs": []
    },
    {
      "cell_type": "code",
      "source": [
        "class Net(nn.Module):\n",
        "\n",
        "    def __init__(self):\n",
        "        super(Net, self).__init__()\n",
        "        self.fc1 = nn.Linear(21, 15) \n",
        "        self.fc2 = nn.Linear(15, 10)\n",
        "        self.fc3 = nn.Linear(10, 1)\n",
        "\n",
        "    def forward(self, x):\n",
        "        x = F.relu(self.fc1(x))\n",
        "        x = F.relu(self.fc2(x))\n",
        "        x = F.sigmoid(self.fc3(x))\n",
        "        return x\n",
        "\n",
        "\n",
        "\n"
      ],
      "metadata": {
        "id": "2Dvl7d4FqbwP"
      },
      "execution_count": 56,
      "outputs": []
    },
    {
      "cell_type": "code",
      "source": [
        "def fit(model, dataloader,criterion,optimizer, epochs=5):\n",
        "    model.to(device)\n",
        "    losses = []\n",
        "    val_losses = []\n",
        "    for epoch in range(1, epochs+1):\n",
        "        model.train()\n",
        "        train_loss, train_acc = [], []\n",
        "        bar = tqdm(dataloader['train'])\n",
        "        for batch in bar:\n",
        "            X, y = batch\n",
        "            #X = X.float()\n",
        "            X, y = X.to(device), y.to(device)\n",
        "            optimizer.zero_grad()\n",
        "            y_hat = model(X)\n",
        "            loss = criterion(y_hat, y)\n",
        "            loss.backward()\n",
        "            optimizer.step()\n",
        "            train_loss.append(loss.item())\n",
        "            ####\n",
        "            #acc = (y == torch.argmax(y_hat, axis=1)).sum().item() / len(y)\n",
        "            acc = (len(y) - (y - y_hat.abs()).abs().sum().item()) / len(y)\n",
        "            train_acc.append(acc)\n",
        "            bar.set_description(f\"loss {np.mean(train_loss):.5f} acc {np.mean(train_acc):.5f}\")\n",
        "        bar = tqdm(dataloader['test'])\n",
        "        val_loss, val_acc = [], []\n",
        "        model.eval()\n",
        "        with torch.no_grad():\n",
        "            for batch in bar:\n",
        "                X, y = batch\n",
        "                #X = X.float()\n",
        "                X, y = X.to(device), y.to(device)\n",
        "                y_hat = model(X)\n",
        "                loss = criterion(y_hat, y)\n",
        "                val_loss.append(loss.item())\n",
        "                acc = (len(y) - (y - y_hat.abs()).abs().sum().item()) / len(y)\n",
        "                #acc = (y == torch.argmax(y_hat, axis=1)).sum().item() / len(y)\n",
        "                val_acc.append(acc)\n",
        "                bar.set_description(f\"val_loss {np.mean(val_loss):.5f} val_acc {np.mean(val_acc):.5f}\")\n",
        "         # early stopping\n",
        "        #if early_stopping(train_loss[-1], val_loss[-1], min_delta=10, tolerance = 20):\n",
        "        #  print(\"We are at epoch:\", epoch)\n",
        "        #  break\n",
        "        losses.append(np.mean(train_loss))\n",
        "        val_losses.append(np.mean(val_loss))\n",
        "        print(f\"Epoch {epoch}/{epochs} loss {np.mean(train_loss):.5f} val_loss {np.mean(val_loss):.5f} acc {np.mean(train_acc):.5f} val_acc {np.mean(val_acc)}:.5f\")\n",
        "    return losses,val_losses"
      ],
      "metadata": {
        "id": "nv9nrkXIqiNU"
      },
      "execution_count": 57,
      "outputs": []
    },
    {
      "cell_type": "code",
      "source": [
        "net=Net()\n",
        "optimizer = torch.optim.Adam(net.parameters(), lr=1e-3)\n",
        "criterion = torch.nn.BCELoss()"
      ],
      "metadata": {
        "id": "aLNvtUiV51mX"
      },
      "execution_count": 58,
      "outputs": []
    },
    {
      "cell_type": "code",
      "source": [
        "losses,val_losses=fit(net, dataloader,criterion,optimizer, epochs=20)"
      ],
      "metadata": {
        "id": "5THDs3nSq24Q",
        "colab": {
          "base_uri": "https://localhost:8080/"
        },
        "outputId": "db60e5a1-007e-4fdc-b456-f2cac0e1cb2d"
      },
      "execution_count": 59,
      "outputs": [
        {
          "output_type": "stream",
          "name": "stderr",
          "text": [
            "  0%|          | 0/6017 [00:00<?, ?it/s]/usr/local/lib/python3.7/dist-packages/torch/nn/functional.py:1960: UserWarning: nn.functional.sigmoid is deprecated. Use torch.sigmoid instead.\n",
            "  warnings.warn(\"nn.functional.sigmoid is deprecated. Use torch.sigmoid instead.\")\n",
            "loss 0.46189 acc 0.69099: 100%|██████████| 6017/6017 [00:40<00:00, 149.81it/s]\n",
            "val_loss 0.40981 val_acc 0.73145: 100%|██████████| 2579/2579 [00:12<00:00, 203.99it/s]\n"
          ]
        },
        {
          "output_type": "stream",
          "name": "stdout",
          "text": [
            "Epoch 1/20 loss 0.46189 val_loss 0.40981 acc 0.69099 val_acc 0.731446307593173:.5f\n"
          ]
        },
        {
          "output_type": "stream",
          "name": "stderr",
          "text": [
            "loss 0.39097 acc 0.73770: 100%|██████████| 6017/6017 [00:41<00:00, 143.32it/s]\n",
            "val_loss 0.37920 val_acc 0.74926: 100%|██████████| 2579/2579 [00:11<00:00, 221.23it/s]\n"
          ]
        },
        {
          "output_type": "stream",
          "name": "stdout",
          "text": [
            "Epoch 2/20 loss 0.39097 val_loss 0.37920 acc 0.73770 val_acc 0.7492554813551304:.5f\n"
          ]
        },
        {
          "output_type": "stream",
          "name": "stderr",
          "text": [
            "loss 0.37456 acc 0.75127: 100%|██████████| 6017/6017 [00:38<00:00, 155.09it/s]\n",
            "val_loss 0.37061 val_acc 0.75712: 100%|██████████| 2579/2579 [00:11<00:00, 218.88it/s]\n"
          ]
        },
        {
          "output_type": "stream",
          "name": "stdout",
          "text": [
            "Epoch 3/20 loss 0.37456 val_loss 0.37061 acc 0.75127 val_acc 0.7571213671494804:.5f\n"
          ]
        },
        {
          "output_type": "stream",
          "name": "stderr",
          "text": [
            "loss 0.36979 acc 0.75596: 100%|██████████| 6017/6017 [00:38<00:00, 154.99it/s]\n",
            "val_loss 0.36958 val_acc 0.76390: 100%|██████████| 2579/2579 [00:11<00:00, 217.15it/s]\n"
          ]
        },
        {
          "output_type": "stream",
          "name": "stdout",
          "text": [
            "Epoch 4/20 loss 0.36979 val_loss 0.36958 acc 0.75596 val_acc 0.7639019432751741:.5f\n"
          ]
        },
        {
          "output_type": "stream",
          "name": "stderr",
          "text": [
            "loss 0.36452 acc 0.76003: 100%|██████████| 6017/6017 [00:38<00:00, 157.20it/s]\n",
            "val_loss 0.35679 val_acc 0.76291: 100%|██████████| 2579/2579 [00:11<00:00, 216.40it/s]\n"
          ]
        },
        {
          "output_type": "stream",
          "name": "stdout",
          "text": [
            "Epoch 5/20 loss 0.36452 val_loss 0.35679 acc 0.76003 val_acc 0.7629128428603235:.5f\n"
          ]
        },
        {
          "output_type": "stream",
          "name": "stderr",
          "text": [
            "loss 0.35489 acc 0.76810: 100%|██████████| 6017/6017 [00:38<00:00, 157.10it/s]\n",
            "val_loss 0.35477 val_acc 0.77525: 100%|██████████| 2579/2579 [00:11<00:00, 219.00it/s]\n"
          ]
        },
        {
          "output_type": "stream",
          "name": "stdout",
          "text": [
            "Epoch 6/20 loss 0.35489 val_loss 0.35477 acc 0.76810 val_acc 0.7752505396660699:.5f\n"
          ]
        },
        {
          "output_type": "stream",
          "name": "stderr",
          "text": [
            "loss 0.35248 acc 0.77107: 100%|██████████| 6017/6017 [00:39<00:00, 154.07it/s]\n",
            "val_loss 0.35568 val_acc 0.76014: 100%|██████████| 2579/2579 [00:11<00:00, 216.98it/s]\n"
          ]
        },
        {
          "output_type": "stream",
          "name": "stdout",
          "text": [
            "Epoch 7/20 loss 0.35248 val_loss 0.35568 acc 0.77107 val_acc 0.7601401404356631:.5f\n"
          ]
        },
        {
          "output_type": "stream",
          "name": "stderr",
          "text": [
            "loss 0.35129 acc 0.77221: 100%|██████████| 6017/6017 [00:38<00:00, 156.71it/s]\n",
            "val_loss 0.35112 val_acc 0.77874: 100%|██████████| 2579/2579 [00:11<00:00, 217.44it/s]\n"
          ]
        },
        {
          "output_type": "stream",
          "name": "stdout",
          "text": [
            "Epoch 8/20 loss 0.35129 val_loss 0.35112 acc 0.77221 val_acc 0.7787364081367749:.5f\n"
          ]
        },
        {
          "output_type": "stream",
          "name": "stderr",
          "text": [
            "loss 0.34893 acc 0.77367: 100%|██████████| 6017/6017 [00:38<00:00, 155.88it/s]\n",
            "val_loss 0.35058 val_acc 0.78144: 100%|██████████| 2579/2579 [00:11<00:00, 217.50it/s]\n"
          ]
        },
        {
          "output_type": "stream",
          "name": "stdout",
          "text": [
            "Epoch 9/20 loss 0.34893 val_loss 0.35058 acc 0.77367 val_acc 0.7814392794666623:.5f\n"
          ]
        },
        {
          "output_type": "stream",
          "name": "stderr",
          "text": [
            "loss 0.34764 acc 0.77484: 100%|██████████| 6017/6017 [00:38<00:00, 155.85it/s]\n",
            "val_loss 0.34937 val_acc 0.76290: 100%|██████████| 2579/2579 [00:11<00:00, 228.80it/s]\n"
          ]
        },
        {
          "output_type": "stream",
          "name": "stdout",
          "text": [
            "Epoch 10/20 loss 0.34764 val_loss 0.34937 acc 0.77484 val_acc 0.7629011807423892:.5f\n"
          ]
        },
        {
          "output_type": "stream",
          "name": "stderr",
          "text": [
            "loss 0.34627 acc 0.77545: 100%|██████████| 6017/6017 [00:39<00:00, 151.99it/s]\n",
            "val_loss 0.34648 val_acc 0.78448: 100%|██████████| 2579/2579 [00:11<00:00, 219.93it/s]\n"
          ]
        },
        {
          "output_type": "stream",
          "name": "stdout",
          "text": [
            "Epoch 11/20 loss 0.34627 val_loss 0.34648 acc 0.77545 val_acc 0.7844750924372792:.5f\n"
          ]
        },
        {
          "output_type": "stream",
          "name": "stderr",
          "text": [
            "loss 0.34377 acc 0.77652: 100%|██████████| 6017/6017 [00:38<00:00, 156.21it/s]\n",
            "val_loss 0.34337 val_acc 0.77256: 100%|██████████| 2579/2579 [00:11<00:00, 220.19it/s]\n"
          ]
        },
        {
          "output_type": "stream",
          "name": "stdout",
          "text": [
            "Epoch 12/20 loss 0.34377 val_loss 0.34337 acc 0.77652 val_acc 0.772556135043241:.5f\n"
          ]
        },
        {
          "output_type": "stream",
          "name": "stderr",
          "text": [
            "loss 0.33969 acc 0.77836: 100%|██████████| 6017/6017 [00:38<00:00, 156.64it/s]\n",
            "val_loss 0.33642 val_acc 0.77832: 100%|██████████| 2579/2579 [00:11<00:00, 219.06it/s]\n"
          ]
        },
        {
          "output_type": "stream",
          "name": "stdout",
          "text": [
            "Epoch 13/20 loss 0.33969 val_loss 0.33642 acc 0.77836 val_acc 0.7783212588045265:.5f\n"
          ]
        },
        {
          "output_type": "stream",
          "name": "stderr",
          "text": [
            "loss 0.33402 acc 0.78131: 100%|██████████| 6017/6017 [00:39<00:00, 152.64it/s]\n",
            "val_loss 0.33146 val_acc 0.78534: 100%|██████████| 2579/2579 [00:11<00:00, 221.56it/s]\n"
          ]
        },
        {
          "output_type": "stream",
          "name": "stdout",
          "text": [
            "Epoch 14/20 loss 0.33402 val_loss 0.33146 acc 0.78131 val_acc 0.7853373687916714:.5f\n"
          ]
        },
        {
          "output_type": "stream",
          "name": "stderr",
          "text": [
            "loss 0.33021 acc 0.78384: 100%|██████████| 6017/6017 [00:38<00:00, 155.48it/s]\n",
            "val_loss 0.32894 val_acc 0.78748: 100%|██████████| 2579/2579 [00:11<00:00, 215.66it/s]\n"
          ]
        },
        {
          "output_type": "stream",
          "name": "stdout",
          "text": [
            "Epoch 15/20 loss 0.33021 val_loss 0.32894 acc 0.78384 val_acc 0.7874813100940194:.5f\n"
          ]
        },
        {
          "output_type": "stream",
          "name": "stderr",
          "text": [
            "loss 0.32843 acc 0.78534: 100%|██████████| 6017/6017 [00:38<00:00, 155.58it/s]\n",
            "val_loss 0.32950 val_acc 0.78944: 100%|██████████| 2579/2579 [00:11<00:00, 215.44it/s]\n"
          ]
        },
        {
          "output_type": "stream",
          "name": "stdout",
          "text": [
            "Epoch 16/20 loss 0.32843 val_loss 0.32950 acc 0.78534 val_acc 0.7894387114170694:.5f\n"
          ]
        },
        {
          "output_type": "stream",
          "name": "stderr",
          "text": [
            "loss 0.32716 acc 0.78647: 100%|██████████| 6017/6017 [00:40<00:00, 148.44it/s]\n",
            "val_loss 0.32806 val_acc 0.78954: 100%|██████████| 2579/2579 [00:11<00:00, 215.04it/s]\n"
          ]
        },
        {
          "output_type": "stream",
          "name": "stdout",
          "text": [
            "Epoch 17/20 loss 0.32716 val_loss 0.32806 acc 0.78647 val_acc 0.7895427786796149:.5f\n"
          ]
        },
        {
          "output_type": "stream",
          "name": "stderr",
          "text": [
            "loss 0.32671 acc 0.78717: 100%|██████████| 6017/6017 [00:38<00:00, 154.97it/s]\n",
            "val_loss 0.32776 val_acc 0.78511: 100%|██████████| 2579/2579 [00:11<00:00, 216.87it/s]\n"
          ]
        },
        {
          "output_type": "stream",
          "name": "stdout",
          "text": [
            "Epoch 18/20 loss 0.32671 val_loss 0.32776 acc 0.78717 val_acc 0.7851104796590452:.5f\n"
          ]
        },
        {
          "output_type": "stream",
          "name": "stderr",
          "text": [
            "loss 0.32609 acc 0.78773: 100%|██████████| 6017/6017 [00:39<00:00, 153.71it/s]\n",
            "val_loss 0.32665 val_acc 0.78707: 100%|██████████| 2579/2579 [00:11<00:00, 220.10it/s]\n"
          ]
        },
        {
          "output_type": "stream",
          "name": "stdout",
          "text": [
            "Epoch 19/20 loss 0.32609 val_loss 0.32665 acc 0.78773 val_acc 0.7870709092541468:.5f\n"
          ]
        },
        {
          "output_type": "stream",
          "name": "stderr",
          "text": [
            "loss 0.32549 acc 0.78829: 100%|██████████| 6017/6017 [00:39<00:00, 152.46it/s]\n",
            "val_loss 0.32700 val_acc 0.78869: 100%|██████████| 2579/2579 [00:11<00:00, 218.53it/s]"
          ]
        },
        {
          "output_type": "stream",
          "name": "stdout",
          "text": [
            "Epoch 20/20 loss 0.32549 val_loss 0.32700 acc 0.78829 val_acc 0.7886935454049981:.5f\n"
          ]
        },
        {
          "output_type": "stream",
          "name": "stderr",
          "text": [
            "\n"
          ]
        }
      ]
    },
    {
      "cell_type": "code",
      "source": [
        "plt.figure(figsize=(16,8))\n",
        "plt.plot(losses, label='Train')\n",
        "plt.plot(val_losses, label='Val')\n",
        "plt.xlabel(\"Epochs\")\n",
        "plt.ylabel(\"Training MSE\")\n",
        "plt.legend()\n",
        "plt.show()"
      ],
      "metadata": {
        "id": "N0e9nCnIQgY8",
        "colab": {
          "base_uri": "https://localhost:8080/",
          "height": 497
        },
        "outputId": "7e1e35d3-0e14-4103-c7c3-918dc86d6c62"
      },
      "execution_count": 60,
      "outputs": [
        {
          "output_type": "display_data",
          "data": {
            "text/plain": [
              "<Figure size 1152x576 with 1 Axes>"
            ],
            "image/png": "[encoded data removed]"
          },
          "metadata": {
            "needs_background": "light"
          }
        }
      ]
    },
    {
      "cell_type": "code",
      "source": [
        "losses_noEMB=np.copy(losses)\n",
        "\n",
        "\n",
        "val_losses_noEMB=np.copy(val_losses)\n",
        "\n",
        "net_noEMB=net"
      ],
      "metadata": {
        "id": "gUC2tfEdo6Rx"
      },
      "execution_count": 61,
      "outputs": []
    },
    {
      "cell_type": "markdown",
      "source": [
        "## B\n",
        "Entrenar un modelo de deep learning que utilice embeddings tanto para los productos como los usuarios. Realizar el mapeo de identificador de producto y usuarios a indices antes de separar el dataset en training, validation y testing"
      ],
      "metadata": {
        "id": "ejyFJZCMRGqg"
      }
    },
    {
      "cell_type": "code",
      "source": [
        "ds2"
      ],
      "metadata": {
        "id": "NEhIXc_lDDr3",
        "colab": {
          "base_uri": "https://localhost:8080/",
          "height": 488
        },
        "outputId": "55183433-cadd-4e1e-ea7b-a572f00479f4"
      },
      "execution_count": 62,
      "outputs": [
        {
          "output_type": "execute_result",
          "data": {
            "text/plain": [
              "        User_ID Product_ID  Occupation  Marital_Status  Product_Category_1  \\\n",
              "0       1000001  P00069042          10               0                   3   \n",
              "1       1000001  P00248942          10               0                   1   \n",
              "2       1000001  P00087842          10               0                  12   \n",
              "3       1000001  P00085442          10               0                  12   \n",
              "4       1000002  P00285442          16               0                   8   \n",
              "...         ...        ...         ...             ...                 ...   \n",
              "550063  1006033  P00372445          13               1                  20   \n",
              "550064  1006035  P00375436           1               0                  20   \n",
              "550065  1006036  P00375436          15               1                  20   \n",
              "550066  1006038  P00375436           1               0                  20   \n",
              "550067  1006039  P00371644           0               1                  20   \n",
              "\n",
              "        Product_Category_2  Big_Purchase  Gender_F  Gender_M  Age_0-17  ...  \\\n",
              "0                        8             0         1         0         1  ...   \n",
              "1                        6             1         1         0         1  ...   \n",
              "2                       16             0         1         0         1  ...   \n",
              "3                       14             0         1         0         1  ...   \n",
              "4                       13             0         0         1         0  ...   \n",
              "...                    ...           ...       ...       ...       ...  ...   \n",
              "550063                  23             0         0         1         0  ...   \n",
              "550064                  22             0         1         0         0  ...   \n",
              "550065                  23             0         1         0         0  ...   \n",
              "550066                  22             0         1         0         0  ...   \n",
              "550067                  23             0         1         0         0  ...   \n",
              "\n",
              "        Age_51-55  Age_55+  City_Category_A  City_Category_B  City_Category_C  \\\n",
              "0               0        0                1                0                0   \n",
              "1               0        0                1                0                0   \n",
              "2               0        0                1                0                0   \n",
              "3               0        0                1                0                0   \n",
              "4               0        1                0                0                1   \n",
              "...           ...      ...              ...              ...              ...   \n",
              "550063          1        0                0                1                0   \n",
              "550064          0        0                0                0                1   \n",
              "550065          0        0                0                1                0   \n",
              "550066          0        1                0                0                1   \n",
              "550067          0        0                0                1                0   \n",
              "\n",
              "        Stay_In_Current_City_Years_0  Stay_In_Current_City_Years_1  \\\n",
              "0                                  0                             0   \n",
              "1                                  0                             0   \n",
              "2                                  0                             0   \n",
              "3                                  0                             0   \n",
              "4                                  0                             0   \n",
              "...                              ...                           ...   \n",
              "550063                             0                             1   \n",
              "550064                             0                             0   \n",
              "550065                             0                             0   \n",
              "550066                             0                             0   \n",
              "550067                             0                             0   \n",
              "\n",
              "        Stay_In_Current_City_Years_2  Stay_In_Current_City_Years_3  \\\n",
              "0                                  1                             0   \n",
              "1                                  1                             0   \n",
              "2                                  1                             0   \n",
              "3                                  1                             0   \n",
              "4                                  0                             0   \n",
              "...                              ...                           ...   \n",
              "550063                             0                             0   \n",
              "550064                             0                             1   \n",
              "550065                             0                             0   \n",
              "550066                             1                             0   \n",
              "550067                             0                             0   \n",
              "\n",
              "        Stay_In_Current_City_Years_4+  \n",
              "0                                   0  \n",
              "1                                   0  \n",
              "2                                   0  \n",
              "3                                   0  \n",
              "4                                   1  \n",
              "...                               ...  \n",
              "550063                              0  \n",
              "550064                              0  \n",
              "550065                              1  \n",
              "550066                              0  \n",
              "550067                              1  \n",
              "\n",
              "[550068 rows x 24 columns]"
            ],
            "text/html": [
              "\n",
              "  <div id=\"df-6bab4451-c8e0-457e-98ff-8c87486798a4\">\n",
              "    <div class=\"colab-df-container\">\n",
              "      <div>\n",
              "<style scoped>\n",
              "    .dataframe tbody tr th:only-of-type {\n",
              "        vertical-align: middle;\n",
              "    }\n",
              "\n",
              "    .dataframe tbody tr th {\n",
              "        vertical-align: top;\n",
              "    }\n",
              "\n",
              "    .dataframe thead th {\n",
              "        text-align: right;\n",
              "    }\n",
              "</style>\n",
              "<table border=\"1\" class=\"dataframe\">\n",
              "  <thead>\n",
              "    <tr style=\"text-align: right;\">\n",
              "      <th></th>\n",
              "      <th>User_ID</th>\n",
              "      <th>Product_ID</th>\n",
              "      <th>Occupation</th>\n",
              "      <th>Marital_Status</th>\n",
              "      <th>Product_Category_1</th>\n",
              "      <th>Product_Category_2</th>\n",
              "      <th>Big_Purchase</th>\n",
              "      <th>Gender_F</th>\n",
              "      <th>Gender_M</th>\n",
              "      <th>Age_0-17</th>\n",
              "      <th>...</th>\n",
              "      <th>Age_51-55</th>\n",
              "      <th>Age_55+</th>\n",
              "      <th>City_Category_A</th>\n",
              "      <th>City_Category_B</th>\n",
              "      <th>City_Category_C</th>\n",
              "      <th>Stay_In_Current_City_Years_0</th>\n",
              "      <th>Stay_In_Current_City_Years_1</th>\n",
              "      <th>Stay_In_Current_City_Years_2</th>\n",
              "      <th>Stay_In_Current_City_Years_3</th>\n",
              "      <th>Stay_In_Current_City_Years_4+</th>\n",
              "    </tr>\n",
              "  </thead>\n",
              "  <tbody>\n",
              "    <tr>\n",
              "      <th>0</th>\n",
              "      <td>1000001</td>\n",
              "      <td>P00069042</td>\n",
              "      <td>10</td>\n",
              "      <td>0</td>\n",
              "      <td>3</td>\n",
              "      <td>8</td>\n",
              "      <td>0</td>\n",
              "      <td>1</td>\n",
              "      <td>0</td>\n",
              "      <td>1</td>\n",
              "      <td>...</td>\n",
              "      <td>0</td>\n",
              "      <td>0</td>\n",
              "      <td>1</td>\n",
              "      <td>0</td>\n",
              "      <td>0</td>\n",
              "      <td>0</td>\n",
              "      <td>0</td>\n",
              "      <td>1</td>\n",
              "      <td>0</td>\n",
              "      <td>0</td>\n",
              "    </tr>\n",
              "    <tr>\n",
              "      <th>1</th>\n",
              "      <td>1000001</td>\n",
              "      <td>P00248942</td>\n",
              "      <td>10</td>\n",
              "      <td>0</td>\n",
              "      <td>1</td>\n",
              "      <td>6</td>\n",
              "      <td>1</td>\n",
              "      <td>1</td>\n",
              "      <td>0</td>\n",
              "      <td>1</td>\n",
              "      <td>...</td>\n",
              "      <td>0</td>\n",
              "      <td>0</td>\n",
              "      <td>1</td>\n",
              "      <td>0</td>\n",
              "      <td>0</td>\n",
              "      <td>0</td>\n",
              "      <td>0</td>\n",
              "      <td>1</td>\n",
              "      <td>0</td>\n",
              "      <td>0</td>\n",
              "    </tr>\n",
              "    <tr>\n",
              "      <th>2</th>\n",
              "      <td>1000001</td>\n",
              "      <td>P00087842</td>\n",
              "      <td>10</td>\n",
              "      <td>0</td>\n",
              "      <td>12</td>\n",
              "      <td>16</td>\n",
              "      <td>0</td>\n",
              "      <td>1</td>\n",
              "      <td>0</td>\n",
              "      <td>1</td>\n",
              "      <td>...</td>\n",
              "      <td>0</td>\n",
              "      <td>0</td>\n",
              "      <td>1</td>\n",
              "      <td>0</td>\n",
              "      <td>0</td>\n",
              "      <td>0</td>\n",
              "      <td>0</td>\n",
              "      <td>1</td>\n",
              "      <td>0</td>\n",
              "      <td>0</td>\n",
              "    </tr>\n",
              "    <tr>\n",
              "      <th>3</th>\n",
              "      <td>1000001</td>\n",
              "      <td>P00085442</td>\n",
              "      <td>10</td>\n",
              "      <td>0</td>\n",
              "      <td>12</td>\n",
              "      <td>14</td>\n",
              "      <td>0</td>\n",
              "      <td>1</td>\n",
              "      <td>0</td>\n",
              "      <td>1</td>\n",
              "      <td>...</td>\n",
              "      <td>0</td>\n",
              "      <td>0</td>\n",
              "      <td>1</td>\n",
              "      <td>0</td>\n",
              "      <td>0</td>\n",
              "      <td>0</td>\n",
              "      <td>0</td>\n",
              "      <td>1</td>\n",
              "      <td>0</td>\n",
              "      <td>0</td>\n",
              "    </tr>\n",
              "    <tr>\n",
              "      <th>4</th>\n",
              "      <td>1000002</td>\n",
              "      <td>P00285442</td>\n",
              "      <td>16</td>\n",
              "      <td>0</td>\n",
              "      <td>8</td>\n",
              "      <td>13</td>\n",
              "      <td>0</td>\n",
              "      <td>0</td>\n",
              "      <td>1</td>\n",
              "      <td>0</td>\n",
              "      <td>...</td>\n",
              "      <td>0</td>\n",
              "      <td>1</td>\n",
              "      <td>0</td>\n",
              "      <td>0</td>\n",
              "      <td>1</td>\n",
              "      <td>0</td>\n",
              "      <td>0</td>\n",
              "      <td>0</td>\n",
              "      <td>0</td>\n",
              "      <td>1</td>\n",
              "    </tr>\n",
              "    <tr>\n",
              "      <th>...</th>\n",
              "      <td>...</td>\n",
              "      <td>...</td>\n",
              "      <td>...</td>\n",
              "      <td>...</td>\n",
              "      <td>...</td>\n",
              "      <td>...</td>\n",
              "      <td>...</td>\n",
              "      <td>...</td>\n",
              "      <td>...</td>\n",
              "      <td>...</td>\n",
              "      <td>...</td>\n",
              "      <td>...</td>\n",
              "      <td>...</td>\n",
              "      <td>...</td>\n",
              "      <td>...</td>\n",
              "      <td>...</td>\n",
              "      <td>...</td>\n",
              "      <td>...</td>\n",
              "      <td>...</td>\n",
              "      <td>...</td>\n",
              "      <td>...</td>\n",
              "    </tr>\n",
              "    <tr>\n",
              "      <th>550063</th>\n",
              "      <td>1006033</td>\n",
              "      <td>P00372445</td>\n",
              "      <td>13</td>\n",
              "      <td>1</td>\n",
              "      <td>20</td>\n",
              "      <td>23</td>\n",
              "      <td>0</td>\n",
              "      <td>0</td>\n",
              "      <td>1</td>\n",
              "      <td>0</td>\n",
              "      <td>...</td>\n",
              "      <td>1</td>\n",
              "      <td>0</td>\n",
              "      <td>0</td>\n",
              "      <td>1</td>\n",
              "      <td>0</td>\n",
              "      <td>0</td>\n",
              "      <td>1</td>\n",
              "      <td>0</td>\n",
              "      <td>0</td>\n",
              "      <td>0</td>\n",
              "    </tr>\n",
              "    <tr>\n",
              "      <th>550064</th>\n",
              "      <td>1006035</td>\n",
              "      <td>P00375436</td>\n",
              "      <td>1</td>\n",
              "      <td>0</td>\n",
              "      <td>20</td>\n",
              "      <td>22</td>\n",
              "      <td>0</td>\n",
              "      <td>1</td>\n",
              "      <td>0</td>\n",
              "      <td>0</td>\n",
              "      <td>...</td>\n",
              "      <td>0</td>\n",
              "      <td>0</td>\n",
              "      <td>0</td>\n",
              "      <td>0</td>\n",
              "      <td>1</td>\n",
              "      <td>0</td>\n",
              "      <td>0</td>\n",
              "      <td>0</td>\n",
              "      <td>1</td>\n",
              "      <td>0</td>\n",
              "    </tr>\n",
              "    <tr>\n",
              "      <th>550065</th>\n",
              "      <td>1006036</td>\n",
              "      <td>P00375436</td>\n",
              "      <td>15</td>\n",
              "      <td>1</td>\n",
              "      <td>20</td>\n",
              "      <td>23</td>\n",
              "      <td>0</td>\n",
              "      <td>1</td>\n",
              "      <td>0</td>\n",
              "      <td>0</td>\n",
              "      <td>...</td>\n",
              "      <td>0</td>\n",
              "      <td>0</td>\n",
              "      <td>0</td>\n",
              "      <td>1</td>\n",
              "      <td>0</td>\n",
              "      <td>0</td>\n",
              "      <td>0</td>\n",
              "      <td>0</td>\n",
              "      <td>0</td>\n",
              "      <td>1</td>\n",
              "    </tr>\n",
              "    <tr>\n",
              "      <th>550066</th>\n",
              "      <td>1006038</td>\n",
              "      <td>P00375436</td>\n",
              "      <td>1</td>\n",
              "      <td>0</td>\n",
              "      <td>20</td>\n",
              "      <td>22</td>\n",
              "      <td>0</td>\n",
              "      <td>1</td>\n",
              "      <td>0</td>\n",
              "      <td>0</td>\n",
              "      <td>...</td>\n",
              "      <td>0</td>\n",
              "      <td>1</td>\n",
              "      <td>0</td>\n",
              "      <td>0</td>\n",
              "      <td>1</td>\n",
              "      <td>0</td>\n",
              "      <td>0</td>\n",
              "      <td>1</td>\n",
              "      <td>0</td>\n",
              "      <td>0</td>\n",
              "    </tr>\n",
              "    <tr>\n",
              "      <th>550067</th>\n",
              "      <td>1006039</td>\n",
              "      <td>P00371644</td>\n",
              "      <td>0</td>\n",
              "      <td>1</td>\n",
              "      <td>20</td>\n",
              "      <td>23</td>\n",
              "      <td>0</td>\n",
              "      <td>1</td>\n",
              "      <td>0</td>\n",
              "      <td>0</td>\n",
              "      <td>...</td>\n",
              "      <td>0</td>\n",
              "      <td>0</td>\n",
              "      <td>0</td>\n",
              "      <td>1</td>\n",
              "      <td>0</td>\n",
              "      <td>0</td>\n",
              "      <td>0</td>\n",
              "      <td>0</td>\n",
              "      <td>0</td>\n",
              "      <td>1</td>\n",
              "    </tr>\n",
              "  </tbody>\n",
              "</table>\n",
              "<p>550068 rows × 24 columns</p>\n",
              "</div>\n",
              "      <button class=\"colab-df-convert\" onclick=\"convertToInteractive('df-6bab4451-c8e0-457e-98ff-8c87486798a4')\"\n",
              "              title=\"Convert this dataframe to an interactive table.\"\n",
              "              style=\"display:none;\">\n",
              "        \n",
              "  <svg xmlns=\"http://www.w3.org/2000/svg\" height=\"24px\"viewBox=\"0 0 24 24\"\n",
              "       width=\"24px\">\n",
              "    <path d=\"M0 0h24v24H0V0z\" fill=\"none\"/>\n",
              "    <path d=\"M18.56 5.44l.94 2.06.94-2.06 2.06-.94-2.06-.94-.94-2.06-.94 2.06-2.06.94zm-11 1L8.5 8.5l.94-2.06 2.06-.94-2.06-.94L8.5 2.5l-.94 2.06-2.06.94zm10 10l.94 2.06.94-2.06 2.06-.94-2.06-.94-.94-2.06-.94 2.06-2.06.94z\"/><path d=\"M17.41 7.96l-1.37-1.37c-.4-.4-.92-.59-1.43-.59-.52 0-1.04.2-1.43.59L10.3 9.45l-7.72 7.72c-.78.78-.78 2.05 0 2.83L4 21.41c.39.39.9.59 1.41.59.51 0 1.02-.2 1.41-.59l7.78-7.78 2.81-2.81c.8-.78.8-2.07 0-2.86zM5.41 20L4 18.59l7.72-7.72 1.47 1.35L5.41 20z\"/>\n",
              "  </svg>\n",
              "      </button>\n",
              "      \n",
              "  <style>\n",
              "    .colab-df-container {\n",
              "      display:flex;\n",
              "      flex-wrap:wrap;\n",
              "      gap: 12px;\n",
              "    }\n",
              "\n",
              "    .colab-df-convert {\n",
              "      background-color: #E8F0FE;\n",
              "      border: none;\n",
              "      border-radius: 50%;\n",
              "      cursor: pointer;\n",
              "      display: none;\n",
              "      fill: #1967D2;\n",
              "      height: 32px;\n",
              "      padding: 0 0 0 0;\n",
              "      width: 32px;\n",
              "    }\n",
              "\n",
              "    .colab-df-convert:hover {\n",
              "      background-color: #E2EBFA;\n",
              "      box-shadow: 0px 1px 2px rgba(60, 64, 67, 0.3), 0px 1px 3px 1px rgba(60, 64, 67, 0.15);\n",
              "      fill: #174EA6;\n",
              "    }\n",
              "\n",
              "    [theme=dark] .colab-df-convert {\n",
              "      background-color: #3B4455;\n",
              "      fill: #D2E3FC;\n",
              "    }\n",
              "\n",
              "    [theme=dark] .colab-df-convert:hover {\n",
              "      background-color: #434B5C;\n",
              "      box-shadow: 0px 1px 3px 1px rgba(0, 0, 0, 0.15);\n",
              "      filter: drop-shadow(0px 1px 2px rgba(0, 0, 0, 0.3));\n",
              "      fill: #FFFFFF;\n",
              "    }\n",
              "  </style>\n",
              "\n",
              "      <script>\n",
              "        const buttonEl =\n",
              "          document.querySelector('#df-6bab4451-c8e0-457e-98ff-8c87486798a4 button.colab-df-convert');\n",
              "        buttonEl.style.display =\n",
              "          google.colab.kernel.accessAllowed ? 'block' : 'none';\n",
              "\n",
              "        async function convertToInteractive(key) {\n",
              "          const element = document.querySelector('#df-6bab4451-c8e0-457e-98ff-8c87486798a4');\n",
              "          const dataTable =\n",
              "            await google.colab.kernel.invokeFunction('convertToInteractive',\n",
              "                                                     [key], {});\n",
              "          if (!dataTable) return;\n",
              "\n",
              "          const docLinkHtml = 'Like what you see? Visit the ' +\n",
              "            '<a target=\"_blank\" href=https://colab.research.google.com/notebooks/data_table.ipynb>data table notebook</a>'\n",
              "            + ' to learn more about interactive tables.';\n",
              "          element.innerHTML = '';\n",
              "          dataTable['output_type'] = 'display_data';\n",
              "          await google.colab.output.renderOutput(dataTable, element);\n",
              "          const docLink = document.createElement('div');\n",
              "          docLink.innerHTML = docLinkHtml;\n",
              "          element.appendChild(docLink);\n",
              "        }\n",
              "      </script>\n",
              "    </div>\n",
              "  </div>\n",
              "  "
            ]
          },
          "metadata": {},
          "execution_count": 62
        }
      ]
    },
    {
      "cell_type": "code",
      "source": [
        "user_id = ds2[\"User_ID\"]\n",
        "unique=np.unique(user_id)\n",
        "# map user id a user index \n",
        "index = np.arange(0, len(unique)) # [0,1,...,499]\n",
        "user_id_to_index = {key:value for key, value in zip(unique, index)}\n",
        "\n",
        "user_idx = np.array([user_id_to_index[v] for v in user_id])"
      ],
      "metadata": {
        "id": "y02kB-LfrO5J"
      },
      "execution_count": 63,
      "outputs": []
    },
    {
      "cell_type": "code",
      "source": [
        "user_id = ds2[\"Product_ID\"]\n",
        "unique=np.unique(user_id)\n",
        "# map user id a user index \n",
        "index = np.arange(0, len(unique)) # [0,1,...,499]\n",
        "user_id_to_index = {key:value for key, value in zip(unique, index)}\n",
        "\n",
        "product_idx = np.array([user_id_to_index[v] for v in user_id])"
      ],
      "metadata": {
        "id": "n0-6bshJOmHg"
      },
      "execution_count": 64,
      "outputs": []
    },
    {
      "cell_type": "code",
      "source": [
        "user_idx,product_idx"
      ],
      "metadata": {
        "id": "tyaHycS3EX8j",
        "colab": {
          "base_uri": "https://localhost:8080/"
        },
        "outputId": "3f8007cb-3e18-476a-9e9c-8a59d96389cf"
      },
      "execution_count": 65,
      "outputs": [
        {
          "output_type": "execute_result",
          "data": {
            "text/plain": [
              "(array([   0,    0,    0, ..., 5886, 5888, 5889]),\n",
              " array([ 672, 2376,  852, ..., 3568, 3568, 3566]))"
            ]
          },
          "metadata": {},
          "execution_count": 65
        }
      ]
    },
    {
      "cell_type": "code",
      "source": [
        "random_state=25"
      ],
      "metadata": {
        "id": "MJgOkE0hOZdI"
      },
      "execution_count": 66,
      "outputs": []
    },
    {
      "cell_type": "code",
      "source": [
        "X=ds2.drop(columns=[\"Big_Purchase\",\"User_ID\",\"Product_ID\"])\n",
        "Y=ds2[[\"Big_Purchase\"]]\n"
      ],
      "metadata": {
        "id": "UMZ-9QwUCidh"
      },
      "execution_count": 67,
      "outputs": []
    },
    {
      "cell_type": "code",
      "source": [
        "user_idx_train, user_idx_test, Y_train, Y_test = train_test_split(user_idx, Y, train_size=0.70, random_state=random_state)\n",
        "product_idx_train, product_idx_test, Y_train, Y_test = train_test_split(product_idx, Y, train_size=0.70, random_state=random_state)"
      ],
      "metadata": {
        "id": "jCPQXwUDOshU"
      },
      "execution_count": 68,
      "outputs": []
    },
    {
      "cell_type": "code",
      "source": [
        "#X_train, X_test, Y_train, Y_test = train_test_split(X, Y, train_size=0.70, random_state=random_state)\n",
        "#X_train=np.array(X_train)\n",
        "#X_test=np.array(X_test)\n",
        "#Y_train=np.array(Y_train)\n",
        "#Y_test=np.array(Y_test)"
      ],
      "metadata": {
        "id": "DoVzl84oOcaR"
      },
      "execution_count": 69,
      "outputs": []
    },
    {
      "cell_type": "code",
      "source": [
        "#scaler = StandardScaler()\n",
        "#X_train=scaler.fit_transform(X_train)"
      ],
      "metadata": {
        "id": "v_JdWrc1Czcu"
      },
      "execution_count": 70,
      "outputs": []
    },
    {
      "cell_type": "code",
      "source": [
        "\n",
        "#X_test=scaler.transform(X_test)"
      ],
      "metadata": {
        "id": "j-fV5LejC_Ms"
      },
      "execution_count": 71,
      "outputs": []
    },
    {
      "cell_type": "code",
      "source": [
        "#train_dataset_fulll = TensorDataset( Tensor(X_train.astype(int)), Tensor(Y_train) )\n",
        "#test_dataset_fulll = TensorDataset( Tensor(X_test.astype(int)), Tensor(Y_test) )\n",
        "#dataloader = {\n",
        "#    'train': torch.utils.data.DataLoader(train_dataset_fulll, batch_size=64, shuffle=True, pin_memory=True),\n",
        "#    'test': torch.utils.data.DataLoader(test_dataset_fulll, batch_size=64, shuffle=False, pin_memory=True)\n",
        "#}"
      ],
      "metadata": {
        "id": "oDH4Si8yCoBk"
      },
      "execution_count": 72,
      "outputs": []
    },
    {
      "cell_type": "code",
      "source": [
        "class Net_Embeddings(nn.Module):\n",
        "\n",
        "    def __init__(self,num_users,num_prods,d_users,d_prods):\n",
        "        super(Net_Embeddings, self).__init__()\n",
        "        self.embedding_user = torch.nn.Embedding(num_embeddings=num_users, embedding_dim=d_users)\n",
        "        self.embedding_prod = torch.nn.Embedding(num_embeddings=num_prods, embedding_dim=d_prods)\n",
        "        self.fc1 = nn.Linear(21+d_prods+d_users, 15)\n",
        "        self.drop1 = nn.Dropout(p=0.4) \n",
        "        self.fc2 = nn.Linear(15, 10)\n",
        "        self.drop2 = nn.Dropout(p=0.4)\n",
        "        self.fc3 = nn.Linear(10, 1)\n",
        "\n",
        "    def forward(self, x, user_idx,prods_idx):\n",
        "        user_emb = self.embedding_user(user_idx)\n",
        "        prods_emb = self.embedding_user(prods_idx)\n",
        "        final_input = torch.cat([x, user_emb,prods_emb], dim=1)       \n",
        "        x = F.relu(self.fc1(final_input))\n",
        "        #x = self.drop1(x)\n",
        "        x = F.relu(self.fc2(x))\n",
        "        #x = self.drop2(x)\n",
        "        x = F.sigmoid(self.fc3(x))\n",
        "        return x\n"
      ],
      "metadata": {
        "id": "5J65dgA2_uTN"
      },
      "execution_count": 73,
      "outputs": []
    },
    {
      "cell_type": "code",
      "source": [
        "net=Net_Embeddings(len(user_idx_train),len(product_idx_train),16,16)\n",
        "optimizer = torch.optim.Adam(net.parameters(), lr=1e-3,weight_decay=1e-5)\n",
        "criterion = torch.nn.BCELoss()\n",
        "user_idx = np.array([user_id_to_index[v] for v in user_id])"
      ],
      "metadata": {
        "id": "aZ7lqREKAP_g"
      },
      "execution_count": 74,
      "outputs": []
    },
    {
      "cell_type": "code",
      "source": [
        "def fit_emb(model, dataloader,criterion,optimizer,user_idx_train,product_idx_train,user_idx_test,product_idx_test, epochs=5):\n",
        "    model.to(device)\n",
        "    losses = []\n",
        "    val_losses = []\n",
        "    for epoch in range(1, epochs+1):\n",
        "        model.train()\n",
        "        train_loss, train_acc = [], []\n",
        "        bar = tqdm(dataloader['train'])\n",
        "        batchCounter=0\n",
        "        for batch in bar:\n",
        "            X, y = batch\n",
        "            user_ids=user_idx_train[batchCounter*64:(batchCounter+1)*64]\n",
        "            prduct_ids=product_idx_train[batchCounter*64:(batchCounter+1)*64]  \n",
        "            batchCounter+=1         \n",
        "            user_ids=user_ids.to(device)\n",
        "            prduct_ids=prduct_ids.to(device)\n",
        "            #X = X.float()\n",
        "            X, y = X.to(device), y.to(device)\n",
        "            optimizer.zero_grad()\n",
        "            y_hat = model(X,user_ids,prduct_ids)\n",
        "            loss = criterion(y_hat, y)\n",
        "            loss.backward()\n",
        "            optimizer.step()\n",
        "            train_loss.append(loss.item())\n",
        "            ####\n",
        "            #acc = (y == torch.argmax(y_hat, axis=1)).sum().item() / len(y)\n",
        "            acc = (len(y) - (y - y_hat.abs()).abs().sum().item()) / len(y)\n",
        "            train_acc.append(acc)\n",
        "            bar.set_description(f\"loss {np.mean(train_loss):.5f} acc {np.mean(train_acc):.5f}\")\n",
        "        bar = tqdm(dataloader['test'])\n",
        "        val_loss, val_acc = [], []\n",
        "        model.eval()\n",
        "        batchCounterVar=0\n",
        "        with torch.no_grad():\n",
        "            for batch in bar:\n",
        "                X, y = batch\n",
        "                #X = X.float()\n",
        "                user_ids=user_idx_test[batchCounterVar*64:(batchCounterVar+1)*64]\n",
        "                user_ids=user_ids.to(device)\n",
        "                prduct_ids=product_idx_test[batchCounterVar*64:(batchCounterVar+1)*64]\n",
        "                prduct_ids=prduct_ids.to(device)\n",
        "                X, y = X.to(device), y.to(device)\n",
        "                y_hat = model(X,user_ids,prduct_ids)\n",
        "                loss = criterion(y_hat, y)\n",
        "                val_loss.append(loss.item())\n",
        "                acc = (len(y) - (y - y_hat.abs()).abs().sum().item()) / len(y)\n",
        "                #acc = (y == torch.argmax(y_hat, axis=1)).sum().item() / len(y)\n",
        "                batchCounterVar+=1\n",
        "                val_acc.append(acc)\n",
        "                bar.set_description(f\"val_loss {np.mean(val_loss):.5f} val_acc {np.mean(val_acc):.5f}\")\n",
        "         # early stopping\n",
        "        #if early_stopping(train_loss[-1], val_loss[-1], min_delta=10, tolerance = 20):\n",
        "        #  print(\"We are at epoch:\", epoch)\n",
        "        #  break\n",
        "        \n",
        "        losses.append(np.mean(train_loss))\n",
        "        val_losses.append(np.mean(val_loss))\n",
        "        print(f\"Epoch {epoch}/{epochs} loss {np.mean(train_loss):.5f} val_loss {np.mean(val_loss):.5f} acc {np.mean(train_acc):.5f} val_acc {np.mean(val_acc):.5f}\")\n",
        "    return losses,val_losses"
      ],
      "metadata": {
        "id": "-mxV76SDCEMu"
      },
      "execution_count": 75,
      "outputs": []
    },
    {
      "cell_type": "code",
      "source": [
        "user_idx_train=torch.Tensor(user_idx_train).long()\n",
        "user_idx_test=torch.Tensor(user_idx_test).long()\n",
        "product_idx_train=torch.Tensor(product_idx_train).long()\n",
        "product_idx_test=torch.Tensor(product_idx_test).long()\n"
      ],
      "metadata": {
        "id": "oK4__Gqkxzwk"
      },
      "execution_count": 76,
      "outputs": []
    },
    {
      "cell_type": "code",
      "source": [
        "#np.bincount(Y_train.reshape(-1))"
      ],
      "metadata": {
        "id": "HUQPvYbFzpnZ"
      },
      "execution_count": 77,
      "outputs": []
    },
    {
      "cell_type": "code",
      "source": [
        "#np.bincount(Y_test.reshape(-1))"
      ],
      "metadata": {
        "id": "fGUsRerY1yM1"
      },
      "execution_count": 78,
      "outputs": []
    },
    {
      "cell_type": "code",
      "source": [
        "losses,val_losses=fit_emb(net, dataloader,criterion,optimizer,user_idx_train,product_idx_train,user_idx_test,product_idx_test, epochs=20)"
      ],
      "metadata": {
        "id": "hMo88p8MAT4Q",
        "colab": {
          "base_uri": "https://localhost:8080/"
        },
        "outputId": "788d8f44-6f8a-43ab-8d2e-8c8c22261cd0"
      },
      "execution_count": 79,
      "outputs": [
        {
          "metadata": {
            "tags": null
          },
          "name": "stderr",
          "output_type": "stream",
          "text": [
            "  0%|          | 0/6017 [00:00<?, ?it/s]/usr/local/lib/python3.7/dist-packages/torch/nn/functional.py:1960: UserWarning: nn.functional.sigmoid is deprecated. Use torch.sigmoid instead.\n",
            "  warnings.warn(\"nn.functional.sigmoid is deprecated. Use torch.sigmoid instead.\")\n",
            "loss 0.45285 acc 0.69589: 100%|██████████| 6017/6017 [00:53<00:00, 112.01it/s]\n",
            "val_loss 0.39707 val_acc 0.73253: 100%|██████████| 2579/2579 [00:12<00:00, 212.55it/s]\n"
          ]
        },
        {
          "metadata": {
            "tags": null
          },
          "name": "stdout",
          "output_type": "stream",
          "text": [
            "Epoch 1/20 loss 0.45285 val_loss 0.39707 acc 0.69589 val_acc 0.73253\n"
          ]
        },
        {
          "metadata": {
            "tags": null
          },
          "name": "stderr",
          "output_type": "stream",
          "text": [
            "loss 0.38357 acc 0.74308: 100%|██████████| 6017/6017 [00:53<00:00, 111.67it/s]\n",
            "val_loss 0.37616 val_acc 0.75201: 100%|██████████| 2579/2579 [00:12<00:00, 212.11it/s]\n"
          ]
        },
        {
          "metadata": {
            "tags": null
          },
          "name": "stdout",
          "output_type": "stream",
          "text": [
            "Epoch 2/20 loss 0.38357 val_loss 0.37616 acc 0.74308 val_acc 0.75201\n"
          ]
        },
        {
          "metadata": {
            "tags": null
          },
          "name": "stderr",
          "output_type": "stream",
          "text": [
            "loss 0.37291 acc 0.75250: 100%|██████████| 6017/6017 [00:53<00:00, 111.52it/s]\n",
            "val_loss 0.37092 val_acc 0.75603: 100%|██████████| 2579/2579 [00:12<00:00, 212.10it/s]\n"
          ]
        },
        {
          "metadata": {
            "tags": null
          },
          "name": "stdout",
          "output_type": "stream",
          "text": [
            "Epoch 3/20 loss 0.37291 val_loss 0.37092 acc 0.75250 val_acc 0.75603\n"
          ]
        },
        {
          "metadata": {
            "tags": null
          },
          "name": "stderr",
          "output_type": "stream",
          "text": [
            "loss 0.36907 acc 0.75646: 100%|██████████| 6017/6017 [00:53<00:00, 112.15it/s]\n",
            "val_loss 0.36717 val_acc 0.75794: 100%|██████████| 2579/2579 [00:12<00:00, 211.49it/s]\n"
          ]
        },
        {
          "metadata": {
            "tags": null
          },
          "name": "stdout",
          "output_type": "stream",
          "text": [
            "Epoch 4/20 loss 0.36907 val_loss 0.36717 acc 0.75646 val_acc 0.75794\n"
          ]
        },
        {
          "metadata": {
            "tags": null
          },
          "name": "stderr",
          "output_type": "stream",
          "text": [
            "loss 0.36724 acc 0.75846: 100%|██████████| 6017/6017 [00:54<00:00, 110.71it/s]\n",
            "val_loss 0.36727 val_acc 0.75825: 100%|██████████| 2579/2579 [00:12<00:00, 209.52it/s]\n"
          ]
        },
        {
          "metadata": {
            "tags": null
          },
          "name": "stdout",
          "output_type": "stream",
          "text": [
            "Epoch 5/20 loss 0.36724 val_loss 0.36727 acc 0.75846 val_acc 0.75825\n"
          ]
        },
        {
          "metadata": {
            "tags": null
          },
          "name": "stderr",
          "output_type": "stream",
          "text": [
            "loss 0.36588 acc 0.76000: 100%|██████████| 6017/6017 [00:53<00:00, 111.94it/s]\n",
            "val_loss 0.36367 val_acc 0.76484: 100%|██████████| 2579/2579 [00:12<00:00, 212.02it/s]\n"
          ]
        },
        {
          "metadata": {
            "tags": null
          },
          "name": "stdout",
          "output_type": "stream",
          "text": [
            "Epoch 6/20 loss 0.36588 val_loss 0.36367 acc 0.76000 val_acc 0.76484\n"
          ]
        },
        {
          "metadata": {
            "tags": null
          },
          "name": "stderr",
          "output_type": "stream",
          "text": [
            "loss 0.36251 acc 0.76225: 100%|██████████| 6017/6017 [00:54<00:00, 111.33it/s]\n",
            "val_loss 0.36054 val_acc 0.76214: 100%|██████████| 2579/2579 [00:12<00:00, 211.57it/s]\n"
          ]
        },
        {
          "metadata": {
            "tags": null
          },
          "name": "stdout",
          "output_type": "stream",
          "text": [
            "Epoch 7/20 loss 0.36251 val_loss 0.36054 acc 0.76225 val_acc 0.76214\n"
          ]
        },
        {
          "metadata": {
            "tags": null
          },
          "name": "stderr",
          "output_type": "stream",
          "text": [
            "loss 0.35997 acc 0.76366: 100%|██████████| 6017/6017 [00:53<00:00, 111.49it/s]\n",
            "val_loss 0.35777 val_acc 0.76737: 100%|██████████| 2579/2579 [00:12<00:00, 210.14it/s]\n"
          ]
        },
        {
          "metadata": {
            "tags": null
          },
          "name": "stdout",
          "output_type": "stream",
          "text": [
            "Epoch 8/20 loss 0.35997 val_loss 0.35777 acc 0.76366 val_acc 0.76737\n"
          ]
        },
        {
          "metadata": {
            "tags": null
          },
          "name": "stderr",
          "output_type": "stream",
          "text": [
            "loss 0.35709 acc 0.76529: 100%|██████████| 6017/6017 [00:55<00:00, 107.45it/s]\n",
            "val_loss 0.35587 val_acc 0.77252: 100%|██████████| 2579/2579 [00:12<00:00, 205.40it/s]\n"
          ]
        },
        {
          "metadata": {
            "tags": null
          },
          "name": "stdout",
          "output_type": "stream",
          "text": [
            "Epoch 9/20 loss 0.35709 val_loss 0.35587 acc 0.76529 val_acc 0.77252\n"
          ]
        },
        {
          "metadata": {
            "tags": null
          },
          "name": "stderr",
          "output_type": "stream",
          "text": [
            "loss 0.35298 acc 0.76782: 100%|██████████| 6017/6017 [00:54<00:00, 111.11it/s]\n",
            "val_loss 0.35185 val_acc 0.77408: 100%|██████████| 2579/2579 [00:12<00:00, 213.65it/s]\n"
          ]
        },
        {
          "metadata": {
            "tags": null
          },
          "name": "stdout",
          "output_type": "stream",
          "text": [
            "Epoch 10/20 loss 0.35298 val_loss 0.35185 acc 0.76782 val_acc 0.77408\n"
          ]
        },
        {
          "output_type": "stream",
          "name": "stderr",
          "text": [
            "loss 0.34804 acc 0.77138: 100%|██████████| 6017/6017 [00:55<00:00, 108.59it/s]\n",
            "val_loss 0.34524 val_acc 0.77515: 100%|██████████| 2579/2579 [00:11<00:00, 221.43it/s]\n"
          ]
        },
        {
          "output_type": "stream",
          "name": "stdout",
          "text": [
            "Epoch 11/20 loss 0.34804 val_loss 0.34524 acc 0.77138 val_acc 0.77515\n"
          ]
        },
        {
          "output_type": "stream",
          "name": "stderr",
          "text": [
            "loss 0.34448 acc 0.77469: 100%|██████████| 6017/6017 [00:56<00:00, 105.57it/s]\n",
            "val_loss 0.34418 val_acc 0.77185: 100%|██████████| 2579/2579 [00:11<00:00, 220.76it/s]\n"
          ]
        },
        {
          "output_type": "stream",
          "name": "stdout",
          "text": [
            "Epoch 12/20 loss 0.34448 val_loss 0.34418 acc 0.77469 val_acc 0.77185\n"
          ]
        },
        {
          "output_type": "stream",
          "name": "stderr",
          "text": [
            "loss 0.34180 acc 0.77662: 100%|██████████| 6017/6017 [00:56<00:00, 105.81it/s]\n",
            "val_loss 0.33909 val_acc 0.77562: 100%|██████████| 2579/2579 [00:11<00:00, 224.10it/s]\n"
          ]
        },
        {
          "output_type": "stream",
          "name": "stdout",
          "text": [
            "Epoch 13/20 loss 0.34180 val_loss 0.33909 acc 0.77662 val_acc 0.77562\n"
          ]
        },
        {
          "output_type": "stream",
          "name": "stderr",
          "text": [
            "loss 0.33835 acc 0.77904: 100%|██████████| 6017/6017 [00:56<00:00, 106.62it/s]\n",
            "val_loss 0.33687 val_acc 0.77544: 100%|██████████| 2579/2579 [00:11<00:00, 219.80it/s]\n"
          ]
        },
        {
          "output_type": "stream",
          "name": "stdout",
          "text": [
            "Epoch 14/20 loss 0.33835 val_loss 0.33687 acc 0.77904 val_acc 0.77544\n"
          ]
        },
        {
          "output_type": "stream",
          "name": "stderr",
          "text": [
            "loss 0.33586 acc 0.78052: 100%|██████████| 6017/6017 [00:56<00:00, 106.14it/s]\n",
            "val_loss 0.33641 val_acc 0.78787: 100%|██████████| 2579/2579 [00:11<00:00, 221.68it/s]\n"
          ]
        },
        {
          "output_type": "stream",
          "name": "stdout",
          "text": [
            "Epoch 15/20 loss 0.33586 val_loss 0.33641 acc 0.78052 val_acc 0.78787\n"
          ]
        },
        {
          "output_type": "stream",
          "name": "stderr",
          "text": [
            "loss 0.33415 acc 0.78177: 100%|██████████| 6017/6017 [00:56<00:00, 105.94it/s]\n",
            "val_loss 0.33306 val_acc 0.78148: 100%|██████████| 2579/2579 [00:11<00:00, 228.00it/s]\n"
          ]
        },
        {
          "output_type": "stream",
          "name": "stdout",
          "text": [
            "Epoch 16/20 loss 0.33415 val_loss 0.33306 acc 0.78177 val_acc 0.78148\n"
          ]
        },
        {
          "output_type": "stream",
          "name": "stderr",
          "text": [
            "loss 0.33297 acc 0.78270: 100%|██████████| 6017/6017 [00:56<00:00, 105.96it/s]\n",
            "val_loss 0.33296 val_acc 0.77901: 100%|██████████| 2579/2579 [00:11<00:00, 216.93it/s]\n"
          ]
        },
        {
          "output_type": "stream",
          "name": "stdout",
          "text": [
            "Epoch 17/20 loss 0.33297 val_loss 0.33296 acc 0.78270 val_acc 0.77901\n"
          ]
        },
        {
          "output_type": "stream",
          "name": "stderr",
          "text": [
            "loss 0.33231 acc 0.78316: 100%|██████████| 6017/6017 [00:56<00:00, 106.25it/s]\n",
            "val_loss 0.33483 val_acc 0.77444: 100%|██████████| 2579/2579 [00:11<00:00, 222.03it/s]\n"
          ]
        },
        {
          "output_type": "stream",
          "name": "stdout",
          "text": [
            "Epoch 18/20 loss 0.33231 val_loss 0.33483 acc 0.78316 val_acc 0.77444\n"
          ]
        },
        {
          "output_type": "stream",
          "name": "stderr",
          "text": [
            "loss 0.33181 acc 0.78348: 100%|██████████| 6017/6017 [00:57<00:00, 105.50it/s]\n",
            "val_loss 0.33236 val_acc 0.78398: 100%|██████████| 2579/2579 [00:11<00:00, 221.47it/s]\n"
          ]
        },
        {
          "output_type": "stream",
          "name": "stdout",
          "text": [
            "Epoch 19/20 loss 0.33181 val_loss 0.33236 acc 0.78348 val_acc 0.78398\n"
          ]
        },
        {
          "output_type": "stream",
          "name": "stderr",
          "text": [
            "loss 0.33159 acc 0.78386: 100%|██████████| 6017/6017 [00:56<00:00, 106.53it/s]\n",
            "val_loss 0.33116 val_acc 0.78745: 100%|██████████| 2579/2579 [00:11<00:00, 221.46it/s]"
          ]
        },
        {
          "output_type": "stream",
          "name": "stdout",
          "text": [
            "Epoch 20/20 loss 0.33159 val_loss 0.33116 acc 0.78386 val_acc 0.78745\n"
          ]
        },
        {
          "output_type": "stream",
          "name": "stderr",
          "text": [
            "\n"
          ]
        }
      ]
    },
    {
      "cell_type": "code",
      "source": [
        "plt.figure(figsize=(16,8))\n",
        "plt.plot(losses, label='Train')\n",
        "plt.plot(val_losses, label='Val')\n",
        "plt.xlabel(\"Epochs\")\n",
        "plt.ylabel(\"Training MSE\")\n",
        "plt.legend()\n",
        "plt.show()"
      ],
      "metadata": {
        "id": "QuoICKa1o3sI",
        "colab": {
          "base_uri": "https://localhost:8080/",
          "height": 497
        },
        "outputId": "94fc1f74-4f49-44a4-c22e-7725cc352aa0"
      },
      "execution_count": 80,
      "outputs": [
        {
          "output_type": "display_data",
          "data": {
            "text/plain": [
              "<Figure size 1152x576 with 1 Axes>"
            ],
            "image/png": "[encoded data removed]"
          },
          "metadata": {
            "needs_background": "light"
          }
        }
      ]
    },
    {
      "cell_type": "markdown",
      "source": [
        "## C\n",
        "Compare el score de cada modelo y comente lo necesario."
      ],
      "metadata": {
        "id": "HesbMt9Zra0b"
      }
    },
    {
      "cell_type": "code",
      "source": [
        "#https://www.kaggle.com/code/rsesha/fraud-detection-96-accuracy-very-easy\n",
        "#Esta funcion nos permite ver la precision y el recall de manera muy rapido\n",
        "def print_accuracy(modeltype, y_test, y_preds):\n",
        "    target=\"isFraud\"\n",
        "    if modeltype == 'Regression':\n",
        "        from sklearn.metrics import r2_score, mean_squared_error\n",
        "        print('R-Squared = %0.0f%%' %(100*r2_score(y_test,y_preds)))\n",
        "        print('RMSE = %0.2f' %np.sqrt(mean_squared_error(y_test,y_preds)))\n",
        "    else:\n",
        "        from sklearn.metrics import balanced_accuracy_score, classification_report\n",
        "        if isinstance(target, str): \n",
        "            print('Bal accu %0.0f%%' %(100*balanced_accuracy_score(y_test,y_preds)))\n",
        "            print(classification_report(y_test,y_preds))\n",
        "        elif len(target) == 1:\n",
        "                print('Bal accu %0.0f%%' %(100*balanced_accuracy_score(y_test,y_preds)))\n",
        "                print(classification_report(y_test,y_preds))\n",
        "        else:\n",
        "            for each_i, target_name in enumerate(target):\n",
        "                print('For %s:' %target_name)\n",
        "                print('    Bal accu %0.0f%%' %(100*balanced_accuracy_score(y_test.values[:,each_i],y_preds[:,each_i])))\n",
        "                print(classification_report(y_test.values[:,each_i],y_preds[:,each_i]))"
      ],
      "metadata": {
        "id": "z-2skjg0uA6y"
      },
      "execution_count": 81,
      "outputs": []
    },
    {
      "cell_type": "code",
      "source": [
        "#Comparacion de resutlados\n",
        "plt.figure(figsize=(16,8))\n",
        "plt.plot(losses, label='Train-EMB')\n",
        "plt.plot(val_losses, label='Val-EMB')\n",
        "plt.plot(losses_noEMB, label='Train-NoEMB')\n",
        "plt.plot(val_losses_noEMB, label='Val-NoEMB')\n",
        "plt.xlabel(\"Epochs\")\n",
        "plt.ylabel(\"Training MSE\")\n",
        "plt.legend()\n",
        "plt.show()\n"
      ],
      "metadata": {
        "id": "myslRH9gpKnY",
        "colab": {
          "base_uri": "https://localhost:8080/",
          "height": 497
        },
        "outputId": "fdfa5d35-fc8c-4b5f-be7f-2db98fb78a6c"
      },
      "execution_count": 82,
      "outputs": [
        {
          "output_type": "display_data",
          "data": {
            "text/plain": [
              "<Figure size 1152x576 with 1 Axes>"
            ],
            "image/png": "[encoded data removed]"
          },
          "metadata": {
            "needs_background": "light"
          }
        }
      ]
    },
    {
      "cell_type": "code",
      "source": [
        "bar = tqdm(dataloader['test'])\n",
        "y_hats_noEMB,y_hats_EMB = np.array([]),np.array([])\n",
        "batchCounterVar=0\n",
        "with torch.no_grad():\n",
        "  for batch in bar:\n",
        "    X, y = batch\n",
        "    #X = X.float()\n",
        "    user_ids=user_idx_test[batchCounterVar*64:(batchCounterVar+1)*64]\n",
        "    user_ids=user_ids.to(device)\n",
        "    prduct_ids=product_idx_test[batchCounterVar*64:(batchCounterVar+1)*64]\n",
        "    prduct_ids=prduct_ids.to(device)\n",
        "    X, y = X.to(device), y.to(device)\n",
        "    y_hat_EMB = net(X,user_ids,prduct_ids)\n",
        "    y_hat_noEMB = net_noEMB(X)\n",
        "    #acc = (len(y) - (y - y_hat.abs()).abs().sum().item()) / len(y)\n",
        "    #acc = (y == torch.argmax(y_hat, axis=1)).sum().item() / len(y)\n",
        "    batchCounterVar+=1\n",
        "    y_hats_noEMB=np.concatenate((y_hats_noEMB,y_hat_noEMB.detach().cpu().numpy().reshape(1,-1).round().astype(int).flatten()))\n",
        "    y_hats_EMB=np.concatenate((y_hats_EMB,y_hat_EMB.detach().cpu().numpy().reshape(1,-1).round().astype(int).flatten()))\n"
      ],
      "metadata": {
        "colab": {
          "base_uri": "https://localhost:8080/"
        },
        "outputId": "63057353-e594-4d9d-e214-82680e4d4611",
        "id": "q0y7LxsN7GEd"
      },
      "execution_count": 83,
      "outputs": [
        {
          "output_type": "stream",
          "name": "stderr",
          "text": [
            "  0%|          | 0/2579 [00:00<?, ?it/s]/usr/local/lib/python3.7/dist-packages/torch/nn/functional.py:1960: UserWarning: nn.functional.sigmoid is deprecated. Use torch.sigmoid instead.\n",
            "  warnings.warn(\"nn.functional.sigmoid is deprecated. Use torch.sigmoid instead.\")\n",
            "100%|██████████| 2579/2579 [00:03<00:00, 812.48it/s]\n"
          ]
        }
      ]
    },
    {
      "cell_type": "code",
      "source": [
        "np.bincount(y_hats_EMB.astype(int)-np.array(Y_test).flatten().astype(int)+1)"
      ],
      "metadata": {
        "colab": {
          "base_uri": "https://localhost:8080/"
        },
        "id": "XJ0AE5lXvTR_",
        "outputId": "50a90142-da89-4877-c2c5-f373ab2d504a"
      },
      "execution_count": 84,
      "outputs": [
        {
          "output_type": "execute_result",
          "data": {
            "text/plain": [
              "array([ 10197, 141755,  13069])"
            ]
          },
          "metadata": {},
          "execution_count": 84
        }
      ]
    },
    {
      "cell_type": "code",
      "source": [
        "print_accuracy(None,np.array(Y_test).flatten().astype(int),y_hats_EMB.astype(int))"
      ],
      "metadata": {
        "colab": {
          "base_uri": "https://localhost:8080/"
        },
        "id": "uCAFYUzW8SEq",
        "outputId": "19d7859e-9987-4238-aaeb-c829ed600b6a"
      },
      "execution_count": 85,
      "outputs": [
        {
          "output_type": "stream",
          "name": "stdout",
          "text": [
            "Bal accu 86%\n",
            "              precision    recall  f1-score   support\n",
            "\n",
            "           0       0.89      0.87      0.88     99273\n",
            "           1       0.81      0.84      0.83     65748\n",
            "\n",
            "    accuracy                           0.86    165021\n",
            "   macro avg       0.85      0.86      0.85    165021\n",
            "weighted avg       0.86      0.86      0.86    165021\n",
            "\n"
          ]
        }
      ]
    },
    {
      "cell_type": "code",
      "source": [
        "print_accuracy(None,np.array(Y_test).flatten().astype(int),y_hats_noEMB.astype(int))"
      ],
      "metadata": {
        "colab": {
          "base_uri": "https://localhost:8080/"
        },
        "id": "lSqthyhz8iWm",
        "outputId": "b1a577fd-4dc3-451f-e8c5-48cc54184c79"
      },
      "execution_count": 86,
      "outputs": [
        {
          "output_type": "stream",
          "name": "stdout",
          "text": [
            "Bal accu 86%\n",
            "              precision    recall  f1-score   support\n",
            "\n",
            "           0       0.90      0.87      0.88     99273\n",
            "           1       0.81      0.85      0.83     65748\n",
            "\n",
            "    accuracy                           0.86    165021\n",
            "   macro avg       0.85      0.86      0.86    165021\n",
            "weighted avg       0.86      0.86      0.86    165021\n",
            "\n"
          ]
        }
      ]
    },
    {
      "cell_type": "markdown",
      "source": [
        "Podemos ver que ambos metodos performan correctamente,  ya que el f1 score balanceado es 0.86 para ambos, tambien podemos ver en la loss que ambos performan muy parecido. Es probable que con mas epochs pueda mejorar la performance, pero ya una precision como la que tenemos ahora es suficiente."
      ],
      "metadata": {
        "id": "stJBQ7s4IjhR"
      }
    },
    {
      "cell_type": "markdown",
      "source": [
        "# Punto 4 \n",
        "Se tiene la función y = a * log(b) + b * c^2. Calcular las derivadas de y respecto a los parámetros a, b, c, evaluando en los valores a=2, b=10, c=0.5. Se deben calcular las derivadas por los siguientes métodos"
      ],
      "metadata": {
        "id": "g7-OiXL_nYQV"
      }
    },
    {
      "cell_type": "markdown",
      "source": [
        "## D\n",
        "Utilizando PyTorch (automatic differentiation)."
      ],
      "metadata": {
        "id": "96EKkq2QnkpP"
      }
    },
    {
      "cell_type": "code",
      "source": [
        "a=torch.tensor(2., requires_grad=True)\n",
        "b=torch.tensor(10., requires_grad=True)\n",
        "c=torch.tensor(0.5, requires_grad=True)"
      ],
      "metadata": {
        "id": "BGHu54mzn0A0"
      },
      "execution_count": 87,
      "outputs": []
    },
    {
      "cell_type": "code",
      "source": [
        "y=(a*torch.log(b))+(b*torch.pow(c, 2))"
      ],
      "metadata": {
        "id": "tlEDZh0Vn2Ws"
      },
      "execution_count": 88,
      "outputs": []
    },
    {
      "cell_type": "code",
      "source": [
        "y.backward()"
      ],
      "metadata": {
        "id": "0Kd9OnIun75l"
      },
      "execution_count": 89,
      "outputs": []
    },
    {
      "cell_type": "code",
      "source": [
        "print(a.grad,b.grad,c.grad)"
      ],
      "metadata": {
        "id": "7zo5uzLen9Du",
        "colab": {
          "base_uri": "https://localhost:8080/"
        },
        "outputId": "a5e6cabd-a51d-40a3-ec15-fbbfc5784fa7"
      },
      "execution_count": 90,
      "outputs": [
        {
          "output_type": "stream",
          "name": "stdout",
          "text": [
            "tensor(2.3026) tensor(0.4500) tensor(10.)\n"
          ]
        }
      ]
    }
  ]
}